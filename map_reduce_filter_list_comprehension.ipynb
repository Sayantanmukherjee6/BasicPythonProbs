{
 "cells": [
  {
   "cell_type": "markdown",
   "metadata": {},
   "source": [
    "### Remove duplicates using map "
   ]
  },
  {
   "cell_type": "code",
   "execution_count": 4,
   "metadata": {},
   "outputs": [
    {
     "name": "stdout",
     "output_type": "stream",
     "text": [
      "[1, 2, 3, 4, 5, 6]\n"
     ]
    }
   ],
   "source": [
    "l=[1,1,2,2,2,3,3,4,5,6]\n",
    "d= dict(map(lambda x  : (x , l.count(x)) , l))\n",
    "print (list(d.keys()))"
   ]
  },
  {
   "cell_type": "code",
   "execution_count": 2,
   "metadata": {},
   "outputs": [],
   "source": [
    "d ={}\n",
    "\n",
    "for i in l:\n",
    "    d[i] = l.count(i)"
   ]
  },
  {
   "cell_type": "code",
   "execution_count": 5,
   "metadata": {},
   "outputs": [
    {
     "name": "stdout",
     "output_type": "stream",
     "text": [
      "[1, 2, 3, 4, 5, 6]\n"
     ]
    }
   ],
   "source": [
    "print (list(d.keys()))"
   ]
  },
  {
   "cell_type": "markdown",
   "metadata": {},
   "source": [
    "### Please complete the below challenges using map/reduce/filter and list comprehension operations. Please do not use loops "
   ]
  },
  {
   "cell_type": "code",
   "execution_count": 24,
   "metadata": {},
   "outputs": [],
   "source": [
    "#Challenge 1: input = [1,2,3,4] output =[3,5,7,9]. Hint : output[0]= input[0]*2+1"
   ]
  },
  {
   "cell_type": "code",
   "execution_count": 25,
   "metadata": {},
   "outputs": [],
   "source": [
    "#Challenge 2: input = \"The quick brown fox jumps over the lazy dog\" \n",
    "\n",
    "# output = [['THE', 'the', 3],\n",
    "#  ['QUICK', 'quick', 5],\n",
    "#  ['BROWN', 'brown', 5],\n",
    "#  ['FOX', 'fox', 3],\n",
    "#  ['JUMPS', 'jumps', 5],\n",
    "#  ['OVER', 'over', 4],\n",
    "#  ['THE', 'the', 3],\n",
    "#  ['LAZY', 'lazy', 4],\n",
    "#  ['DOG', 'dog', 3]]\n",
    "\n",
    "#  where output[0][0] = 'The'.upper(), output[0][1] = 'The'.lower() , output[0][2] = len('The') and so on"
   ]
  },
  {
   "cell_type": "code",
   "execution_count": 26,
   "metadata": {},
   "outputs": [],
   "source": [
    "#Challenge 3: input = [7, 12, 45, 100, 15] output = 100. Hint find the max value using reduce"
   ]
  },
  {
   "cell_type": "code",
   "execution_count": 27,
   "metadata": {},
   "outputs": [],
   "source": [
    "#Challenge 4: input = [ 1 , 3 , 5 , 8 , 10 , 13 , 18 , 36 , 78 ] output = [(4, 10), (6, 18), (8, 78)]. \n",
    "#             Logic: Find even numbers in even indices using list comprehension.                           "
   ]
  },
  {
   "cell_type": "code",
   "execution_count": 28,
   "metadata": {},
   "outputs": [],
   "source": [
    "#Challenge 5: input = ['A','B','E','G','N'] output = ['A','E']. Logic: Filter out the vowels"
   ]
  },
  {
   "cell_type": "code",
   "execution_count": 29,
   "metadata": {},
   "outputs": [],
   "source": [
    "#Challenge 6: input = [1,2,3] output =[1,3,6]. Logic: ith element in output is sum of first i+1 element of input list"
   ]
  },
  {
   "cell_type": "code",
   "execution_count": null,
   "metadata": {},
   "outputs": [],
   "source": [
    "#Challenge 7: input =range(100) output =[50,51,52,53,54]. Logic : Filter and print the elements between 50 and 55"
   ]
  },
  {
   "cell_type": "code",
   "execution_count": 30,
   "metadata": {},
   "outputs": [],
   "source": [
    "#Challenge 8: Cube of first N Fibonacci number. input = 5(n) output = [0,1,1,8,27]"
   ]
  },
  {
   "cell_type": "code",
   "execution_count": 31,
   "metadata": {},
   "outputs": [],
   "source": [
    "#Challenge 9: input = ['a','abcd@gmail.com',23,3,'efgh@gmail.com'] output =[1,4]. \n",
    "#             Logic: Filter out the emails inside list and print its indices."
   ]
  },
  {
   "cell_type": "code",
   "execution_count": 32,
   "metadata": {},
   "outputs": [],
   "source": [
    "#Challenge 10: input = [(1,2),(3,4),(10,6)] output = [(5,8)].\n",
    "#             Logic: 1*3*10=30 and 2*4*6=48 (multiply numerator and denominator) and divide to get the output 30/48= 5/8 "
   ]
  }
 ],
 "metadata": {
  "kernelspec": {
   "display_name": "Python 3",
   "language": "python",
   "name": "python3"
  },
  "language_info": {
   "codemirror_mode": {
    "name": "ipython",
    "version": 2
   },
   "file_extension": ".py",
   "mimetype": "text/x-python",
   "name": "python",
   "nbconvert_exporter": "python",
   "pygments_lexer": "ipython2",
   "version": "2.7.17"
  }
 },
 "nbformat": 4,
 "nbformat_minor": 2
}
