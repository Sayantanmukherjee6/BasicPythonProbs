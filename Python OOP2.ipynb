{
 "cells": [
  {
   "cell_type": "markdown",
   "metadata": {},
   "source": [
    "### Encapsulation "
   ]
  },
  {
   "cell_type": "markdown",
   "metadata": {},
   "source": [
    "Encapsulation is Data hiding of internal state to protect the object integrity. Encapsulation means that the internal representation of an object is generally hidden from view outside of the object’s definition. In short encapsulation means hiding some information.<br/>\n",
    "In Java there are three access modifiers : <b>Public</b>,<b>Private<b/> and <b> protected</b>.  "
   ]
  },
  {
   "cell_type": "markdown",
   "metadata": {},
   "source": [
    "By default python supports public. But we can also use private and protected members inside a class using <b>underscores</b> as shown below: <br/><br/> <b>Protected</b> = _ (single underscore) <br/> <b>Private</b> = __ (double underscore) <br/>"
   ]
  },
  {
   "cell_type": "markdown",
   "metadata": {},
   "source": [
    "Let's see public, private, and protected variables in action :"
   ]
  },
  {
   "cell_type": "code",
   "execution_count": 1,
   "metadata": {},
   "outputs": [],
   "source": [
    "class Test:\n",
    "    def __init__(self):\n",
    "        print (\"Testing started\")\n",
    "        self.name = \"Encapsulation Test one\" #public\n",
    "        self.__code = \"First code\" #private\n",
    "        self._day = \"Today\" #protected"
   ]
  },
  {
   "cell_type": "markdown",
   "metadata": {},
   "source": [
    "In the script above, we create a simple <b>Test</b> class with a constructor and three variables <b>name</b>, <b>code</b>, and <b>day</b>. The name variable is public while the code and day variables have been declared private and protected, respectively.<br/> Let's create an object of the Test class and try to access the variables"
   ]
  },
  {
   "cell_type": "code",
   "execution_count": 9,
   "metadata": {},
   "outputs": [
    {
     "name": "stdout",
     "output_type": "stream",
     "text": [
      "Testing started\n",
      "Encapsulation Test one\n"
     ]
    }
   ],
   "source": [
    "#accessing public variable\n",
    "encap_test = Test()\n",
    "print(encap_test.name)"
   ]
  },
  {
   "cell_type": "code",
   "execution_count": 8,
   "metadata": {},
   "outputs": [
    {
     "ename": "AttributeError",
     "evalue": "'Test' object has no attribute 'code'",
     "output_type": "error",
     "traceback": [
      "\u001b[0;31m---------------------------------------------------------------------------\u001b[0m",
      "\u001b[0;31mAttributeError\u001b[0m                            Traceback (most recent call last)",
      "\u001b[0;32m<ipython-input-8-26bd974b378c>\u001b[0m in \u001b[0;36m<module>\u001b[0;34m\u001b[0m\n\u001b[1;32m      1\u001b[0m \u001b[0;31m#accessing private variable\u001b[0m\u001b[0;34m\u001b[0m\u001b[0;34m\u001b[0m\u001b[0;34m\u001b[0m\u001b[0m\n\u001b[0;32m----> 2\u001b[0;31m \u001b[0mprint\u001b[0m\u001b[0;34m(\u001b[0m\u001b[0mencap_test\u001b[0m\u001b[0;34m.\u001b[0m\u001b[0mcode\u001b[0m\u001b[0;34m)\u001b[0m\u001b[0;34m\u001b[0m\u001b[0;34m\u001b[0m\u001b[0m\n\u001b[0m",
      "\u001b[0;31mAttributeError\u001b[0m: 'Test' object has no attribute 'code'"
     ]
    }
   ],
   "source": [
    "#accessing private variable\n",
    "print(encap_test.code)"
   ]
  },
  {
   "cell_type": "code",
   "execution_count": 7,
   "metadata": {},
   "outputs": [
    {
     "ename": "AttributeError",
     "evalue": "'Test' object has no attribute 'day'",
     "output_type": "error",
     "traceback": [
      "\u001b[0;31m---------------------------------------------------------------------------\u001b[0m",
      "\u001b[0;31mAttributeError\u001b[0m                            Traceback (most recent call last)",
      "\u001b[0;32m<ipython-input-7-7ad9d798a366>\u001b[0m in \u001b[0;36m<module>\u001b[0;34m\u001b[0m\n\u001b[1;32m      1\u001b[0m \u001b[0;31m#accessing protected variable\u001b[0m\u001b[0;34m\u001b[0m\u001b[0;34m\u001b[0m\u001b[0;34m\u001b[0m\u001b[0m\n\u001b[0;32m----> 2\u001b[0;31m \u001b[0mprint\u001b[0m\u001b[0;34m(\u001b[0m\u001b[0mencap_test\u001b[0m\u001b[0;34m.\u001b[0m\u001b[0mday\u001b[0m\u001b[0;34m)\u001b[0m\u001b[0;34m\u001b[0m\u001b[0;34m\u001b[0m\u001b[0m\n\u001b[0m",
      "\u001b[0;31mAttributeError\u001b[0m: 'Test' object has no attribute 'day'"
     ]
    }
   ],
   "source": [
    "#accessing protected variable\n",
    "print(encap_test.day)"
   ]
  },
  {
   "cell_type": "markdown",
   "metadata": {},
   "source": [
    "Except for <b>name</b> we can't really access other variables outside the class. This is a basic example of encapsulation."
   ]
  },
  {
   "cell_type": "markdown",
   "metadata": {},
   "source": [
    "Lets see how we can use/access private variables within a class. "
   ]
  },
  {
   "cell_type": "code",
   "execution_count": 11,
   "metadata": {},
   "outputs": [
    {
     "name": "stdout",
     "output_type": "stream",
     "text": [
      "you can see me\n"
     ]
    },
    {
     "ename": "AttributeError",
     "evalue": "'SeeMee' object has no attribute '__youcannotseeme'",
     "output_type": "error",
     "traceback": [
      "\u001b[0;31m---------------------------------------------------------------------------\u001b[0m",
      "\u001b[0;31mAttributeError\u001b[0m                            Traceback (most recent call last)",
      "\u001b[0;32m<ipython-input-11-9e284c2a2f77>\u001b[0m in \u001b[0;36m<module>\u001b[0;34m\u001b[0m\n\u001b[1;32m     11\u001b[0m \u001b[0mCheck\u001b[0m \u001b[0;34m=\u001b[0m \u001b[0mSeeMee\u001b[0m\u001b[0;34m(\u001b[0m\u001b[0;34m)\u001b[0m\u001b[0;34m\u001b[0m\u001b[0;34m\u001b[0m\u001b[0m\n\u001b[1;32m     12\u001b[0m \u001b[0mprint\u001b[0m\u001b[0;34m(\u001b[0m\u001b[0mCheck\u001b[0m\u001b[0;34m.\u001b[0m\u001b[0myoucanseeme\u001b[0m\u001b[0;34m(\u001b[0m\u001b[0;34m)\u001b[0m\u001b[0;34m)\u001b[0m \u001b[0;31m#public method\u001b[0m\u001b[0;34m\u001b[0m\u001b[0;34m\u001b[0m\u001b[0m\n\u001b[0;32m---> 13\u001b[0;31m \u001b[0mprint\u001b[0m\u001b[0;34m(\u001b[0m\u001b[0mCheck\u001b[0m\u001b[0;34m.\u001b[0m\u001b[0m__youcannotseeme\u001b[0m\u001b[0;34m(\u001b[0m\u001b[0;34m)\u001b[0m\u001b[0;34m)\u001b[0m \u001b[0;31m#private method\u001b[0m\u001b[0;34m\u001b[0m\u001b[0;34m\u001b[0m\u001b[0m\n\u001b[0m",
      "\u001b[0;31mAttributeError\u001b[0m: 'SeeMee' object has no attribute '__youcannotseeme'"
     ]
    }
   ],
   "source": [
    "# The last line will throw an error since youcannotseeme variable is private\n",
    "\n",
    "class SeeMee:\n",
    "    def youcanseeme(self):\n",
    "        return 'you can see me'\n",
    "\n",
    "    def __youcannotseeme(self):\n",
    "        return 'you cannot see me'\n",
    "    \n",
    "#Outside class    \n",
    "Check = SeeMee()\n",
    "print(Check.youcanseeme()) #public method\n",
    "print(Check.__youcannotseeme()) #private method"
   ]
  },
  {
   "cell_type": "markdown",
   "metadata": {},
   "source": [
    "If you need to access the private member function then"
   ]
  },
  {
   "cell_type": "code",
   "execution_count": 13,
   "metadata": {},
   "outputs": [
    {
     "name": "stdout",
     "output_type": "stream",
     "text": [
      "you can see me\n",
      "you cannot see me\n"
     ]
    }
   ],
   "source": [
    "# This will work. Check the last line\n",
    "class SeeMee:\n",
    "    def youcanseeme(self):\n",
    "        return 'you can see me'\n",
    "\n",
    "    def __youcannotseeme(self):\n",
    "        return 'you cannot see me'\n",
    "    \n",
    "#Outside class    \n",
    "Check = SeeMee()\n",
    "print(Check.youcanseeme())\n",
    "print(Check._SeeMee__youcannotseeme())"
   ]
  },
  {
   "cell_type": "markdown",
   "metadata": {},
   "source": [
    "So to access private variables outside a class we can always call the private variable along with the class name.<br/> <b> objectName._className__variable/methodName</b>"
   ]
  },
  {
   "cell_type": "code",
   "execution_count": null,
   "metadata": {},
   "outputs": [],
   "source": []
  }
 ],
 "metadata": {
  "kernelspec": {
   "display_name": "Python 3",
   "language": "python",
   "name": "python3"
  },
  "language_info": {
   "codemirror_mode": {
    "name": "ipython",
    "version": 2
   },
   "file_extension": ".py",
   "mimetype": "text/x-python",
   "name": "python",
   "nbconvert_exporter": "python",
   "pygments_lexer": "ipython2",
   "version": "2.7.17"
  }
 },
 "nbformat": 4,
 "nbformat_minor": 2
}
