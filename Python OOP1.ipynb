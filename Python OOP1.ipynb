{
 "cells": [
  {
   "cell_type": "markdown",
   "metadata": {},
   "source": [
    "### Python OOP Basics and Inheritence\n",
    "\n",
    "Class is nothing but a blueprint (Schema). When an object is created for a class the object acquires all the necessary information related to the blueprint. For example if HUMAN is a class then SUTIRTHA is a object of HUMAN class.\n",
    "<br/><br/>\n",
    "Below is a structure of simple class in python. Class is <b>TestClass</b> and it has an object <b>C</b>.<br><b>method1</b> and <b>method2</b> are methods of a class (functions of a class).<br><b>self</b> is  referring to the object itself. Basically Self is nothing but an instance of the object (here object c)<br/> <b>Method1</b> does nothing but print a value whereas <b>method2</b> takes an argument <b>someString</b> and prints the content of someString."
   ]
  },
  {
   "cell_type": "code",
   "execution_count": 8,
   "metadata": {},
   "outputs": [
    {
     "name": "stdout",
     "output_type": "stream",
     "text": [
      "Hello Developer\n",
      "Python is fun\n"
     ]
    }
   ],
   "source": [
    "#TestClass\n",
    "class TestClass():\n",
    "    def method1(self):\n",
    "        print(\"Hello Developer\")\n",
    "        \n",
    "    def method2(self,someString):    \n",
    "        print(someString)\n",
    "  \n",
    "#creating object c      \n",
    "c = TestClass ()\n",
    "c.method1()\n",
    "c.method2(\"Python is fun\") \n"
   ]
  },
  {
   "cell_type": "markdown",
   "metadata": {},
   "source": [
    "### Constructor (INIT)\n",
    "\n",
    "A constructor is the first method that is called on object creation. The constructor is always called when creating a new object. It can be also used to initialize a class. In the example below we create a class <b>C</b> with a constructor and the method <b>see</b>. In Python a constructor is named init."
   ]
  },
  {
   "cell_type": "code",
   "execution_count": 9,
   "metadata": {},
   "outputs": [],
   "source": [
    "class C:\n",
    "    def __init__(self):\n",
    "        print('Constructor called.')\n",
    "\n",
    "    def see(self):\n",
    "        print('C')"
   ]
  },
  {
   "cell_type": "markdown",
   "metadata": {},
   "source": [
    "The constructor (init) is just another method. What is special about it, is that its called each time a new object is created. For example for the human class <b>Sutirtha</b> object will have a constructor and if another object named <b>Rima</b> is created then it will have another constructor. Each object has its own constructor."
   ]
  },
  {
   "cell_type": "code",
   "execution_count": 12,
   "metadata": {},
   "outputs": [
    {
     "name": "stdout",
     "output_type": "stream",
     "text": [
      "Constructor called First.\n",
      "C\n"
     ]
    }
   ],
   "source": [
    "class C:\n",
    "    def __init__(self):\n",
    "        print('Constructor called First.')\n",
    "\n",
    "    def see(self):\n",
    "        print('C')\n",
    "\n",
    "obj = C() # The object will be created with its own constructor. This statement will run first before any method.\n",
    "obj.see() # It will print C"
   ]
  },
  {
   "cell_type": "markdown",
   "metadata": {},
   "source": [
    "### Basic Inheritence\n",
    "\n",
    "Inheritance allows programmers to create classes that are built upon existing classes, and this makes it possible that a class created through inheritance inherites the attributes and methods of the parent class."
   ]
  },
  {
   "cell_type": "code",
   "execution_count": 19,
   "metadata": {},
   "outputs": [
    {
     "name": "stdout",
     "output_type": "stream",
     "text": [
      "<__main__.Parent object at 0x7f4fd93ec710> <class '__main__.Parent'>\n",
      "<__main__.Child object at 0x7f4fd93ec7b8> <class '__main__.Child'>\n",
      "Hi, I am James\n"
     ]
    }
   ],
   "source": [
    "#Simple inheritence example\n",
    "class Parent:\n",
    "    \n",
    "    def __init__(self, name):\n",
    "        self.name = name\n",
    "        \n",
    "    def say_hi(self):\n",
    "        print(\"Hi, I am \" + self.name)\n",
    "\n",
    "#Child class inheriting from parent class\n",
    "class Child(Parent):\n",
    "    pass\n",
    "\n",
    "\n",
    "x = Parent(\"Marvin\") #object x will be created for Parent Class\n",
    "print(x, type(x))\n",
    "\n",
    "y = Child(\"James\") #object y will be created for Child Class\n",
    "print(y, type(y))\n",
    "\n",
    "#Since Child class is inherited from Parent class so object (y) created from child class will have all \n",
    "#the methods of parent class\n",
    "y.say_hi()"
   ]
  },
  {
   "cell_type": "markdown",
   "metadata": {},
   "source": [
    "### Method Overiding\n",
    "\n",
    "Lets now say we have basic Parent and Child class. Now Parent has a method sayHi(). After inheritence Child also acquires that method. Whatif Child requires a different sayHi() method. Method overiding manages this type of situation. If the same method is not present in child class during inheritence, Child will automatically use Parent class's methods."
   ]
  },
  {
   "cell_type": "code",
   "execution_count": 25,
   "metadata": {},
   "outputs": [
    {
     "name": "stdout",
     "output_type": "stream",
     "text": [
      "<__main__.Parent object at 0x7f4fd8b65860> <class '__main__.Parent'>\n",
      "<__main__.Child object at 0x7f4fd8b65400> <class '__main__.Child'>\n",
      "Hi, I am Marvin\n",
      "Namaskar, Ami James\n"
     ]
    }
   ],
   "source": [
    "#Simple method overiding example\n",
    "class Parent:\n",
    "    \n",
    "    def __init__(self, name):\n",
    "        self.name = name\n",
    "        \n",
    "    def say_hi(self):\n",
    "        print(\"Hi, I am \" + self.name)\n",
    "\n",
    "#Child class inheriting from parent class\n",
    "class Child(Parent):\n",
    "    \n",
    "    #sayHi() overiding\n",
    "    def say_hi(self):\n",
    "        print(\"Namaskar, Ami \" + self.name)\n",
    "\n",
    "\n",
    "x = Parent(\"Marvin\") #object x will be created for Parent Class\n",
    "print(x, type(x))\n",
    "\n",
    "y = Child(\"James\") #object y will be created for Child Class\n",
    "print(y, type(y))\n",
    "\n",
    "#X has its own/original sayHi() method\n",
    "x.say_hi()\n",
    "# Child now has his own sayHi() method. It doesnot depend on parent's sayHi() method. This is overiding\n",
    "y.say_hi()"
   ]
  },
  {
   "cell_type": "markdown",
   "metadata": {},
   "source": [
    "### Method Overloading\n",
    "\n",
    "Method Overloading is a feature that allows a class to have more than one method having the same name, if their argument lists are different. By default Python doesnot support method overloading but we can achieve it as below:"
   ]
  },
  {
   "cell_type": "code",
   "execution_count": 33,
   "metadata": {},
   "outputs": [
    {
     "name": "stdout",
     "output_type": "stream",
     "text": [
      "Hello \n",
      "Human says hello\n"
     ]
    }
   ],
   "source": [
    "class Human:\n",
    "\n",
    "    def sayHello(self, name=None):\n",
    "    \n",
    "        if name is not None:\n",
    "            print(name+ \" says hello\")\n",
    "        else:\n",
    "            print('Hello ')\n",
    "        \n",
    "\n",
    "# Create instance\n",
    "obj = Human()\n",
    "    \n",
    "# Call the method without an argument\n",
    "obj.sayHello()\n",
    "    \n",
    "# Call the same method with an argument\n",
    "obj.sayHello('Human')"
   ]
  },
  {
   "cell_type": "markdown",
   "metadata": {},
   "source": [
    "### Super Keyword\n",
    "\n",
    "Lets first jump back into simple inheritence code with new sets of variable and methods. Lets assume Child is inherting from Parent. If we create a child object from child class and inherit from Parent as shown, child object can access the method of Parent class but not the variable inside init (constructor) of the Parent class."
   ]
  },
  {
   "cell_type": "code",
   "execution_count": 39,
   "metadata": {},
   "outputs": [
    {
     "name": "stdout",
     "output_type": "stream",
     "text": [
      "I am a child\n",
      "This is a parent method\n"
     ]
    },
    {
     "ename": "AttributeError",
     "evalue": "'Child' object has no attribute 'parent_variable'",
     "output_type": "error",
     "traceback": [
      "\u001b[0;31m---------------------------------------------------------------------------\u001b[0m",
      "\u001b[0;31mAttributeError\u001b[0m                            Traceback (most recent call last)",
      "\u001b[0;32m<ipython-input-39-3f270e0b4a6b>\u001b[0m in \u001b[0;36m<module>\u001b[0;34m\u001b[0m\n\u001b[1;32m     19\u001b[0m \u001b[0mprint\u001b[0m\u001b[0;34m(\u001b[0m\u001b[0mc\u001b[0m\u001b[0;34m.\u001b[0m\u001b[0mchild_variable\u001b[0m\u001b[0;34m)\u001b[0m\u001b[0;34m\u001b[0m\u001b[0;34m\u001b[0m\u001b[0m\n\u001b[1;32m     20\u001b[0m \u001b[0mc\u001b[0m\u001b[0;34m.\u001b[0m\u001b[0mparent_method\u001b[0m\u001b[0;34m(\u001b[0m\u001b[0;34m)\u001b[0m\u001b[0;34m\u001b[0m\u001b[0;34m\u001b[0m\u001b[0m\n\u001b[0;32m---> 21\u001b[0;31m \u001b[0mprint\u001b[0m\u001b[0;34m(\u001b[0m\u001b[0mc\u001b[0m\u001b[0;34m.\u001b[0m\u001b[0mparent_variable\u001b[0m\u001b[0;34m)\u001b[0m\u001b[0;34m\u001b[0m\u001b[0;34m\u001b[0m\u001b[0m\n\u001b[0m",
      "\u001b[0;31mAttributeError\u001b[0m: 'Child' object has no attribute 'parent_variable'"
     ]
    }
   ],
   "source": [
    "class Parent:\n",
    "    def __init__(self):\n",
    "        self.parent_variable = 'I am a parent'\n",
    "\n",
    "    def parent_method(self):\n",
    "        print('This is a parent method')\n",
    "\n",
    "\n",
    "# Create a child class that inherits from Parent\n",
    "class Child(Parent):\n",
    "    def __init__(self):\n",
    "        self.child_variable = 'I am a child'\n",
    "\n",
    "        \n",
    "# Create instance of child\n",
    "c = Child()\n",
    "\n",
    "# Show attributes and methods of child class\n",
    "print(c.child_variable)\n",
    "c.parent_method()\n",
    "print(c.parent_variable)\n"
   ]
  },
  {
   "cell_type": "markdown",
   "metadata": {},
   "source": [
    "For a child to access the constructor values within a parent class we can call Parent class's constructor within child class constructor as shown below :"
   ]
  },
  {
   "cell_type": "code",
   "execution_count": 41,
   "metadata": {},
   "outputs": [
    {
     "name": "stdout",
     "output_type": "stream",
     "text": [
      "I am a child\n",
      "This is a parent method\n",
      "I am a parent\n"
     ]
    }
   ],
   "source": [
    "class Parent:\n",
    "    def __init__(self):\n",
    "        self.parent_variable = 'I am a parent'\n",
    "\n",
    "    def parent_method(self):\n",
    "        print('This is a parent method')\n",
    "\n",
    "\n",
    "# Create a child class that inherits from Parent\n",
    "class Child(Parent):\n",
    "    def __init__(self):\n",
    "        Parent.__init__(self) # calling constructor of Parent Class\n",
    "        self.child_variable = 'I am a child'\n",
    "\n",
    "        \n",
    "# Create instance of child\n",
    "c = Child()\n",
    "\n",
    "# Show attributes and methods of child class\n",
    "print(c.child_variable)\n",
    "c.parent_method()\n",
    "print(c.parent_variable)\n"
   ]
  },
  {
   "cell_type": "markdown",
   "metadata": {},
   "source": [
    "We see that the Child class 'inherited' variables and methods from the Parent class. Without any work on our part, the Parent.parent_method is a part of the Child class. To get the benefits of the Parent.__init__() method we needed to explicitly call the method and pass self. This is because when we added an __init__ method to Child, we overwrote the inherited __init__."
   ]
  },
  {
   "cell_type": "markdown",
   "metadata": {},
   "source": [
    "In the simplest case, the <b>super</b> function can be used to replace the explicit call to Parent.__init__(self). The above code can be rewritten with super as seen below."
   ]
  },
  {
   "cell_type": "code",
   "execution_count": 42,
   "metadata": {},
   "outputs": [
    {
     "name": "stdout",
     "output_type": "stream",
     "text": [
      "I am a child\n",
      "This is a parent method\n",
      "I am a parent\n"
     ]
    }
   ],
   "source": [
    "class Parent:\n",
    "    def __init__(self):\n",
    "        self.parent_variable = 'I am a parent'\n",
    "\n",
    "    def parent_method(self):\n",
    "        print('This is a parent method')\n",
    "\n",
    "\n",
    "# Create a child class that inherits from Parent\n",
    "class Child(Parent):\n",
    "    def __init__(self):\n",
    "        super().__init__() # rewriting with super\n",
    "        self.child_variable = 'I am a child'\n",
    "\n",
    "        \n",
    "# Create instance of child\n",
    "c = Child()\n",
    "\n",
    "# Show attributes and methods of child class\n",
    "print(c.child_variable)\n",
    "c.parent_method()\n",
    "print(c.parent_variable)\n"
   ]
  },
  {
   "cell_type": "markdown",
   "metadata": {},
   "source": [
    "### Multiple Inheritence\n",
    "\n",
    "So far the example code has covered a single child class inheriting from a single parent class. In multiple inheritance, there's more than one parent class. A child class can inherit from more than 1 parent class. A simple example is shown below: "
   ]
  },
  {
   "cell_type": "code",
   "execution_count": 50,
   "metadata": {},
   "outputs": [
    {
     "name": "stdout",
     "output_type": "stream",
     "text": [
      "Class A called\n",
      "Class B called\n",
      "Class C called\n"
     ]
    }
   ],
   "source": [
    "class A:\n",
    "    print (\"Class A called\")\n",
    "\n",
    "class B:\n",
    "    print (\"Class B called\")\n",
    "\n",
    "# This is an example of multiple inheritence\n",
    "class C(A, B):\n",
    "    print (\"Class C called\")\n",
    "\n",
    "\n",
    "c = C()"
   ]
  },
  {
   "cell_type": "markdown",
   "metadata": {},
   "source": [
    "When we created an object for class C we should have gotten <b> Class C called</b> but we didn't get that, we got the output from class A, then class B and then at last class C. "
   ]
  },
  {
   "cell_type": "markdown",
   "metadata": {},
   "source": [
    "This is known as <b>MRO</b> (Method resolution order). Normally during multiple inheritence (for example Class C) the Parent classes are called first from left side, that is first A will be called then B and at last C. This is MRO functionality within python. To check MRO of a class (not object) run the code below."
   ]
  },
  {
   "cell_type": "code",
   "execution_count": 53,
   "metadata": {},
   "outputs": [
    {
     "data": {
      "text/plain": [
       "[__main__.C, __main__.A, __main__.B, object]"
      ]
     },
     "execution_count": 53,
     "metadata": {},
     "output_type": "execute_result"
    }
   ],
   "source": [
    "C.mro()"
   ]
  },
  {
   "cell_type": "markdown",
   "metadata": {},
   "source": [
    "### Multiple inheritence without/with super\n",
    "\n",
    "Without Super = Since we have the same method for Parent and inheited Classes. The methods will be overridden as shown below. "
   ]
  },
  {
   "cell_type": "code",
   "execution_count": 77,
   "metadata": {},
   "outputs": [],
   "source": [
    "class Base(object):\n",
    "    def foo(self):\n",
    "        print(\"        Base(): entering\")\n",
    "        print(\"        Base(): exiting\")\n",
    "\n",
    "\n",
    "class First(Base):\n",
    "    def foo(self):\n",
    "        print(\"   First(): entering\")\n",
    "#         super().foo()\n",
    "        print(\"   First(): exiting\")\n",
    "\n",
    "\n",
    "class Second(Base):\n",
    "    def foo(self):\n",
    "        print(\"     Second(): entering\")\n",
    "#         super().foo()\n",
    "        print(\"     Second(): exiting\")\n",
    "\n",
    "\n",
    "class Third(First, Second):\n",
    "    def foo(self):\n",
    "        print(\" Third(): entering\")\n",
    "#         super().foo()\n",
    "        print(\" Third(): exiting\")"
   ]
  },
  {
   "cell_type": "code",
   "execution_count": 78,
   "metadata": {},
   "outputs": [
    {
     "name": "stdout",
     "output_type": "stream",
     "text": [
      " Third(): entering\n",
      " Third(): exiting\n"
     ]
    }
   ],
   "source": [
    "t=Third()\n",
    "t.foo()"
   ]
  },
  {
   "cell_type": "markdown",
   "metadata": {},
   "source": [
    "With Super = We will not have any problem with method overriding as such and the inherited class will follow as per as the MRO."
   ]
  },
  {
   "cell_type": "code",
   "execution_count": 79,
   "metadata": {},
   "outputs": [],
   "source": [
    "class Base(object):\n",
    "    def foo(self):\n",
    "        print(\"        Base(): entering\")\n",
    "        print(\"        Base(): exiting\")\n",
    "\n",
    "\n",
    "class First(Base):\n",
    "    def foo(self):\n",
    "        print(\"   First(): entering\")\n",
    "        super().foo()\n",
    "        print(\"   First(): exiting\")\n",
    "\n",
    "\n",
    "class Second(Base):\n",
    "    def foo(self):\n",
    "        print(\"     Second(): entering\")\n",
    "        super().foo()\n",
    "        print(\"     Second(): exiting\")\n",
    "\n",
    "\n",
    "class Third(First, Second):\n",
    "    def foo(self):\n",
    "        print(\" Third(): entering\")\n",
    "        super().foo()\n",
    "        print(\" Third(): exiting\")"
   ]
  },
  {
   "cell_type": "code",
   "execution_count": 80,
   "metadata": {},
   "outputs": [
    {
     "name": "stdout",
     "output_type": "stream",
     "text": [
      " Third(): entering\n",
      "   First(): entering\n",
      "     Second(): entering\n",
      "        Base(): entering\n",
      "        Base(): exiting\n",
      "     Second(): exiting\n",
      "   First(): exiting\n",
      " Third(): exiting\n"
     ]
    }
   ],
   "source": [
    "t=Third()\n",
    "t.foo()"
   ]
  },
  {
   "cell_type": "markdown",
   "metadata": {},
   "source": [
    "### MultiLevel Inheritence\n",
    "\n",
    "Multi-level inheritance is archived when a derived class inherits another derived class. There is no limit on the number of levels up to which, the multi-level inheritance is archived in python. For example your father inherited from your grandfather and you will inherit that from your father, so this chain <b>Grandfather>father>you</b> is an example of multilevel inheritence."
   ]
  },
  {
   "cell_type": "code",
   "execution_count": 83,
   "metadata": {},
   "outputs": [
    {
     "name": "stdout",
     "output_type": "stream",
     "text": [
      "Grandfather Speaking\n",
      "Father Speaking\n",
      "I am speaking\n"
     ]
    }
   ],
   "source": [
    "class GrandFather:  \n",
    "      print(\"Grandfather Speaking\")  \n",
    "        \n",
    "#The child class Father inherits the base class grandfather  \n",
    "class Father(GrandFather):  \n",
    "      print(\"Father Speaking\")  \n",
    "        \n",
    "#The child class You inherits another child class Father  \n",
    "class You(Father):  \n",
    "      print(\"I am speaking\")  \n",
    "d = You() "
   ]
  },
  {
   "cell_type": "code",
   "execution_count": null,
   "metadata": {},
   "outputs": [],
   "source": []
  }
 ],
 "metadata": {
  "kernelspec": {
   "display_name": "Python 3",
   "language": "python",
   "name": "python3"
  },
  "language_info": {
   "codemirror_mode": {
    "name": "ipython",
    "version": 2
   },
   "file_extension": ".py",
   "mimetype": "text/x-python",
   "name": "python",
   "nbconvert_exporter": "python",
   "pygments_lexer": "ipython2",
   "version": "2.7.17"
  }
 },
 "nbformat": 4,
 "nbformat_minor": 2
}
