{
 "cells": [
  {
   "cell_type": "code",
   "execution_count": 153,
   "metadata": {},
   "outputs": [],
   "source": [
    "import cProfile, pstats, io\n",
    "\n",
    "def profile(fnc):\n",
    "    \n",
    "    \"\"\"A decorator that uses cProfile to profile a function\"\"\"\n",
    "    \n",
    "    def inner(*args, **kwargs):\n",
    "        \n",
    "        pr = cProfile.Profile()\n",
    "        pr.enable()\n",
    "        retval = fnc(*args, **kwargs)\n",
    "        pr.disable()\n",
    "        s = io.StringIO()\n",
    "        sortby = 'cumulative'\n",
    "        ps = pstats.Stats(pr, stream=s).sort_stats(sortby)\n",
    "        ps.print_stats()\n",
    "        print(s.getvalue())\n",
    "        return retval\n",
    "\n",
    "    return inner"
   ]
  },
  {
   "cell_type": "code",
   "execution_count": 212,
   "metadata": {},
   "outputs": [],
   "source": [
    "import heapq\n",
    "class Heap(object):\n",
    "\n",
    "    def __init__(self,k):\n",
    "        \"\"\" create a new min-heap. \"\"\"\n",
    "        self._heap = []\n",
    "        self.k = k\n",
    "\n",
    "    def push(self, priority,item):\n",
    "        \"\"\" push items into heap \"\"\"\n",
    "        assert priority >= 0\n",
    "        if len(self._heap)< self.k:\n",
    "            heapq.heappush(self._heap, (priority,item))\n",
    "        else:\n",
    "            r = heapq.heappop(self._heap)\n",
    "            q = heapq.heappop(self._heap)\n",
    "            if priority < r[0] and priority < q[0] and r[0]< q[0]:\n",
    "                heapq.heappush(self._heap, (priority,item))\n",
    "                heapq.heappush(self._heap, r)\n",
    "            elif priority < r[0] and priority < q[0] and r[0]> q[0]:\n",
    "                heapq.heappush(self._heap, (priority,item))\n",
    "                heapq.heappush(self._heap, q)\n",
    "            elif priority > r[0] and priority < q[0] and r[0]< q[0]:\n",
    "                heapq.heappush(self._heap, (priority,item))\n",
    "                heapq.heappush(self._heap,r)\n",
    "            elif priority < r[0] and priority > q[0] and r[0]> q[0]:\n",
    "                heapq.heappush(self._heap, (priority,item))\n",
    "                heapq.heappush(self._heap,q)\n",
    "\n",
    "    def pop(self):\n",
    "        \"\"\" Returns the item with lowest priority. \"\"\"\n",
    "        item = heapq.heappop(self._heap)[1] # (prio, item)[1] == item\n",
    "        return item\n",
    "    \n",
    "    def k_smallest(self):\n",
    "        \"\"\" returns k smallest integer \"\"\"\n",
    "        k_list= heapq.nsmallest(self.k, self._heap)\n",
    "        return [val[1] for val in k_list]\n",
    "\n",
    "    def __len__(self):\n",
    "        return len(self._heap)\n",
    "\n",
    "    def __iter__(self):\n",
    "        \"\"\" Get all elements ordered by asc. priority. \"\"\"\n",
    "        return self\n",
    "\n",
    "    def next(self):\n",
    "        \"\"\" Get all elements ordered by their priority (lowest first). \"\"\"\n",
    "        try:\n",
    "            return self.pop()\n",
    "        except IndexError:\n",
    "            raise StopIteration"
   ]
  },
  {
   "cell_type": "code",
   "execution_count": 240,
   "metadata": {},
   "outputs": [],
   "source": [
    "search_condition = 55555666\n",
    "k = 2"
   ]
  },
  {
   "cell_type": "code",
   "execution_count": 241,
   "metadata": {},
   "outputs": [],
   "source": [
    "@profile\n",
    "def test_heap(k):\n",
    "    h = Heap(k)\n",
    "    for i in range(100000000):\n",
    "        if search_condition-i >= 0:\n",
    "            h.push(search_condition-i,i)\n",
    "        else:\n",
    "            break\n",
    "    return h.k_smallest()       "
   ]
  },
  {
   "cell_type": "code",
   "execution_count": 242,
   "metadata": {},
   "outputs": [
    {
     "name": "stdout",
     "output_type": "stream",
     "text": [
      "         333334004 function calls in 135.082 seconds\n",
      "\n",
      "   Ordered by: cumulative time\n",
      "\n",
      "   ncalls  tottime  percall  cumtime  percall filename:lineno(function)\n",
      "        1   21.199   21.199  135.082  135.082 <ipython-input-241-732afd8b069d>:1(test_heap)\n",
      " 55555667   77.317    0.000  113.883    0.000 <ipython-input-212-990e3afa0892>:9(push)\n",
      "111111332   18.215    0.000   18.215    0.000 {built-in method _heapq.heappush}\n",
      "111111330   13.056    0.000   13.056    0.000 {built-in method _heapq.heappop}\n",
      " 55555668    5.294    0.000    5.294    0.000 {built-in method builtins.len}\n",
      "        1    0.000    0.000    0.000    0.000 <ipython-input-212-990e3afa0892>:35(k_smallest)\n",
      "        1    0.000    0.000    0.000    0.000 /home/sayantan/Desktop/projects/pdf_vision/lib/python3.6/heapq.py:461(nsmallest)\n",
      "        1    0.000    0.000    0.000    0.000 {built-in method builtins.sorted}\n",
      "        1    0.000    0.000    0.000    0.000 <ipython-input-212-990e3afa0892>:4(__init__)\n",
      "        1    0.000    0.000    0.000    0.000 <ipython-input-212-990e3afa0892>:38(<listcomp>)\n",
      "        1    0.000    0.000    0.000    0.000 {method 'disable' of '_lsprof.Profiler' objects}\n",
      "\n",
      "\n",
      "\n"
     ]
    },
    {
     "data": {
      "text/plain": [
       "[55555666, 55555665]"
      ]
     },
     "execution_count": 242,
     "metadata": {},
     "output_type": "execute_result"
    }
   ],
   "source": [
    "test_heap(k)"
   ]
  },
  {
   "cell_type": "code",
   "execution_count": null,
   "metadata": {},
   "outputs": [],
   "source": []
  }
 ],
 "metadata": {
  "kernelspec": {
   "display_name": "Python 3",
   "language": "python",
   "name": "python3"
  },
  "language_info": {
   "codemirror_mode": {
    "name": "ipython",
    "version": 2
   },
   "file_extension": ".py",
   "mimetype": "text/x-python",
   "name": "python",
   "nbconvert_exporter": "python",
   "pygments_lexer": "ipython2",
   "version": "2.7.17"
  }
 },
 "nbformat": 4,
 "nbformat_minor": 1
}
