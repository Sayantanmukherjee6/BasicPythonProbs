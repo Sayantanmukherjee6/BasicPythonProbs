{
 "cells": [
  {
   "cell_type": "code",
   "execution_count": 1,
   "metadata": {
    "collapsed": true
   },
   "outputs": [],
   "source": [
    "import requests\n",
    "from bs4 import BeautifulSoup"
   ]
  },
  {
   "cell_type": "code",
   "execution_count": 2,
   "metadata": {
    "collapsed": true
   },
   "outputs": [],
   "source": [
    "source=requests.get(\"https://pythonprogramming.net/parsememcparseface/\")"
   ]
  },
  {
   "cell_type": "code",
   "execution_count": 3,
   "metadata": {
    "collapsed": false
   },
   "outputs": [],
   "source": [
    "soup=BeautifulSoup(source.content,\"lxml\")"
   ]
  },
  {
   "cell_type": "code",
   "execution_count": 4,
   "metadata": {
    "collapsed": false
   },
   "outputs": [
    {
     "data": {
      "text/plain": [
       "u'Python Programming Tutorials'"
      ]
     },
     "execution_count": 4,
     "metadata": {},
     "output_type": "execute_result"
    }
   ],
   "source": [
    "soup.title.text"
   ]
  },
  {
   "cell_type": "code",
   "execution_count": 5,
   "metadata": {
    "collapsed": false
   },
   "outputs": [
    {
     "data": {
      "text/plain": [
       "u'Oh, hello! This is a wonderful page meant to let you practice web scraping. This page was originally created to help people work with the Beautiful Soup 4 library.'"
      ]
     },
     "execution_count": 5,
     "metadata": {},
     "output_type": "execute_result"
    }
   ],
   "source": [
    "first_para_text=soup.find_all(\"p\")[0].text\n",
    "first_para_text"
   ]
  },
  {
   "cell_type": "code",
   "execution_count": 15,
   "metadata": {
    "collapsed": false
   },
   "outputs": [
    {
     "name": "stdout",
     "output_type": "stream",
     "text": [
      "Oh, hello! This is a wonderful page meant to let you practice web scraping. This page was originally created to help people work with the Beautiful Soup 4 library.\n",
      "\n",
      "The following table gives some general information for the following programming languages:\n",
      "\n",
      "I think it's clear that, on a scale of 1-10, python is:\n",
      "\n",
      "Javascript (dynamic data) test:\n",
      "\n",
      "y u bad tho?\n",
      "\n",
      "Whᶐt hαppéns now¿\n",
      "\n",
      "sitemap\n",
      "\n",
      "\n",
      "Cancel  \n",
      "\t\t\t\t\t\tLogin\n",
      "\n",
      "\n",
      "\n",
      "Cancel  \n",
      "\t\t\t\t\t\t\t\tSign Up\n",
      "\n",
      "\n",
      "Contact: Harrison@pythonprogramming.net.\n",
      "\n",
      "Programming is a superpower.\n",
      "\n"
     ]
    }
   ],
   "source": [
    "all_para=soup.find_all(\"p\")\n",
    "for para in all_para:\n",
    "    print para.text+\"\\n\""
   ]
  },
  {
   "cell_type": "code",
   "execution_count": 46,
   "metadata": {
    "collapsed": false
   },
   "outputs": [
    {
     "data": {
      "text/plain": [
       "u'\\n\\n\\n\\nPython Programming Tutorials\\n\\n\\n\\n\\n\\n\\n\\n\\n\\n\\n\\n\\t\\t@media (min-width:992px) {\\n\\t\\t#aside {\\n\\t\\t\\twidth:250px;\\n\\t\\t}\\n\\t\\tpre { tab-size: 4;}\\n\\t\\t.btn {background-color:#FFD166;\\n\\t\\t\\t  color:#000;\\n\\t\\t      height:auto;\\n\\t\\t\\t  font-color:#000;\\n\\t\\t\\t  }\\n\\t\\t.btn:hover {background-color:#FFD166;\\n\\t\\t\\t\\t\\t}\\n\\n\\n\\t\\t\\n\\n\\n\\t\\t\\t  (function(i,s,o,g,r,a,m){i[\\'GoogleAnalyticsObject\\']=r;i[r]=i[r]||function(){\\n\\t\\t\\t  (i[r].q=i[r].q||[]).push(arguments)},i[r].l=1*new Date();a=s.createElement(o),\\n\\t\\t\\t  m=s.getElementsByTagName(o)[0];a.async=1;a.src=g;m.parentNode.insertBefore(a,m)\\n\\t\\t\\t  })(window,document,\\'script\\',\\'//www.google-analytics.com/analytics.js\\',\\'ga\\');\\n\\n\\t\\t\\t  ga(\\'create\\', \\'UA-51891827-1\\', \\'auto\\');\\n\\t\\t\\t  ga(\\'send\\', \\'pageview\\');\\n\\n\\t\\t\\n\\n\\n\\n\\n\\n\\n\\n\\nsearch\\n\\n\\n\\n\\n\\nHome\\n+=1\\nStore\\nCommunity\\nLog in\\nSign up\\n\\n\\n\\n\\n\\n\\n\\nHome\\n+=1\\nStore\\nCommunity\\nLog in\\nSign up\\n\\n\\n\\n\\n\\n\\n\\nOh, hello! This is a wonderful page meant to let you practice web scraping. This page was originally created to help people work with the Beautiful Soup 4 library.\\nThe following table gives some general information for the following programming languages:\\n\\nPython\\nPascal\\nLisp\\nD#\\nCobol\\nFortran\\nHaskell\\n\\n\\n\\nProgram Name\\nInternet Points\\nKittens?\\n\\n\\nPython\\n932914021\\nDefinitely\\n\\n\\nPascal\\n532\\nUnlikely\\n\\n\\nLisp\\n1522\\nUncertain\\n\\n\\nD#\\n12\\nPossibly\\n\\n\\nCobol\\n3\\nNo.\\n\\n\\nFortran\\n52124\\nYes.\\n\\n\\nHaskell\\n24\\nlol.\\n\\n\\nI think it\\'s clear that, on a scale of 1-10, python is:\\n\\n\\n\\n\\n\\n\\nJavascript (dynamic data) test:\\ny u bad tho?\\n\\n     document.getElementById(\\'yesnojs\\').innerHTML = \\'Look at you shinin!\\';\\n  \\n\\nBeautiful is better than ugly.\\nExplicit is better than implicit.\\nSimple is better than complex.\\nComplex is better than complicated.\\nFlat is better than nested.\\nSparse is better than dense.\\nReadability counts.\\nSpecial cases aren\\'t special enough to break the rules.\\nAlthough practicality beats purity.\\nErrors should never pass silently.\\nUnless explicitly silenced.\\nIn the face of ambiguity, refuse the temptation to guess.\\nThere should be one-- and preferably only one --obvious way to do it.\\nAlthough that way may not be obvious at first unless you\\'re Dutch.\\nNow is better than never.\\nAlthough never is often better than *right* now.\\nIf the implementation is hard to explain, it\\'s a bad idea.\\nIf the implementation is easy to explain, it may be a good idea.\\nNamespaces are one honking great idea -- let\\'s do more of those!\\nWh\\u1d90t h\\u03b1pp\\xe9ns now\\xbf\\nsitemap\\n\\n\\n\\n\\nLogin\\n\\n\\n\\n\\n\\n\\nUsername\\n\\n\\n\\nPassword\\n\\n\\n\\n\\n\\nCancel \\xa0\\n\\t\\t\\t\\t\\t\\tLogin\\n\\n\\n\\n\\n\\n\\n\\nSign up\\n\\n\\n\\n\\n\\nUsername\\n\\n\\n\\nPassword\\n\\n\\n\\nRepeat Password\\n\\n\\n\\nEmail\\n\\n\\n\\nCancel \\xa0\\n\\t\\t\\t\\t\\t\\t\\t\\tSign Up\\n\\n\\n\\n\\n\\n\\n\\t\\t\\t$(document).ready(function(){\\n\\t\\t\\t\\t$(\".button-collapse\").sideNav();\\n\\t\\t\\t\\t$(\\'.modal-trigger\\').leanModal();\\n\\t\\t\\t\\t$(\\'.collapsible\\').collapsible({\\n\\t\\t\\t\\t  accordion : false // A setting that changes the collapsible behavior to expandable instead of the default accordion style\\n\\t\\t\\t\\t});\\n\\t\\t\\t\\t$(\\'#aside\\').pushpin({ top:110, bottom:500 });\\n\\t\\t  });\\n\\t\\t\\n\\n\\t\\t  $(document).ready(function(){\\n\\t\\t\\t$(\\'.collapsible\\').collapsible({\\n\\t\\t\\t  accordion : false // A setting that changes the collapsible behavior to expandable instead of the default accordion style\\n\\t\\t\\t});\\n\\t\\t\\t$(\\'select\\').material_select();\\n\\t\\t  });\\n\\t  \\n\\n\\t\\tfunction goBack() {\\n\\t\\t\\twindow.history.back()\\n\\t\\t}\\n\\t\\n\\n\\n\\n\\n\\nYou\\'ve reached the end!\\nContact: Harrison@pythonprogramming.net.\\n\\nSupport this Website!\\nHire me\\nFacebook\\nTwitter\\nGoogle+\\n\\n\\n\\nLegal stuff:\\n\\nTerms and Conditions\\nPrivacy Policy\\n\\n\\n\\n\\nProgramming is a superpower.\\n\\n\\n            \\xa9 2016 PythonProgramming.net\\n            \\n            \\n\\n\\n\\n'"
      ]
     },
     "execution_count": 46,
     "metadata": {},
     "output_type": "execute_result"
    }
   ],
   "source": [
    "soup.getText()"
   ]
  },
  {
   "cell_type": "code",
   "execution_count": 7,
   "metadata": {
    "collapsed": false
   },
   "outputs": [
    {
     "name": "stdout",
     "output_type": "stream",
     "text": [
      "/ \n",
      "# \n",
      "/ Home\n",
      "/+=1/ +=1\n",
      "/store/python-hoodie/ Store\n",
      "/community/ Community\n",
      "/login/ Log in\n",
      "/register/ Sign up\n",
      "/ Home\n",
      "/+=1/ +=1\n",
      "/store/python-hoodie/ Store\n",
      "/community/ Community\n",
      "/login/ Log in\n",
      "/register/ Sign up\n",
      "https://www.crummy.com/software/BeautifulSoup/bs4/doc/ Beautiful Soup 4\n",
      "/sitemap.xml sitemap\n",
      "# Cancel\n",
      "# Login\n",
      "# Cancel\n",
      "/support-donate/ Support this Website!\n",
      "/consulting/ Hire me\n",
      "https://www.facebook.com/pythonprogramming.net/ Facebook\n",
      "https://twitter.com/sentdex Twitter\n",
      "https://plus.google.com/+sentdex Google+\n",
      "/about/tos/ Terms and Conditions\n",
      "/about/privacy-policy/ Privacy Policy\n",
      "https://xkcd.com/353/ Programming is a superpower.\n"
     ]
    }
   ],
   "source": [
    "for link in soup.find_all('a'):\n",
    "    print link['href'],link.text"
   ]
  },
  {
   "cell_type": "code",
   "execution_count": 57,
   "metadata": {
    "collapsed": false
   },
   "outputs": [],
   "source": [
    "nav=soup.nav"
   ]
  },
  {
   "cell_type": "code",
   "execution_count": 58,
   "metadata": {
    "collapsed": false
   },
   "outputs": [
    {
     "data": {
      "text/plain": [
       "<nav style=\"background-color:#003F72\">\\n<div class=\"nav-wrapper container\">\\n<a class=\"brand-logo\" href=\"/\"><img class=\"img-responsive\" src=\"/static/images/mainlogowhitethick.jpg\" style=\"width:50px; height;50px; margin-top:5px\"/></a>\\n<a class=\"button-collapse\" data-activates=\"navsidebar\" href=\"#\"><i class=\"mdi-navigation-menu\"></i></a>\\n<ul class=\"right hide-on-med-and-down\">\\n<li><i class=\"material-icons\">search</i></li>\\n<li>\\n<form action=\"/search/?l=hi\" id=\"searchform\" method=\"get\" style=\"height:50px; padding-top:10px\">\\n<input id=\"search\" name=\"q\" placeholder=\"search\" style=\"font-size:16px\" type=\"search\"/>\\n</form>\\n</li>\\n<li><a href=\"/\">Home</a></li>\\n<li><a class=\"tooltipped\" data-delay=\"50\" data-position=\"bottom\" data-tooltip=\"sudo apt-get upgrade\" href=\"/+=1/\">+=1</a></li>\\n<li><a href=\"/store/python-hoodie/\">Store</a></li>\\n<li><a href=\"/community/\">Community</a></li>\\n<li><a href=\"/login/\">Log in</a></li>\\n<li><a href=\"/register/\">Sign up</a></li>\\n</ul>\\n<ul class=\"side-nav\" id=\"navsidebar\">\\n<li>\\n<form action=\"/search/?l=hi\" id=\"searchform\" method=\"get\" style=\"height:50px; padding-top:10px\">\\n<input id=\"search\" name=\"q\" placeholder=\"search\" style=\"font-size:16px\" type=\"search\"/>\\n</form>\\n</li>\\n<li><a href=\"/\">Home</a></li>\\n<li><a class=\"tooltipped\" data-delay=\"50\" data-position=\"bottom\" data-tooltip=\"sudo apt-get upgrade\" href=\"/+=1/\">+=1</a></li>\\n<li><a href=\"/store/python-hoodie/\">Store</a></li>\\n<li><a href=\"/community/\">Community</a></li>\\n<li><a href=\"/login/\">Log in</a></li>\\n<li><a href=\"/register/\">Sign up</a></li>\\n</ul>\\n</div>\\n</nav>"
      ]
     },
     "execution_count": 58,
     "metadata": {},
     "output_type": "execute_result"
    }
   ],
   "source": [
    "nav"
   ]
  },
  {
   "cell_type": "code",
   "execution_count": 60,
   "metadata": {
    "collapsed": false
   },
   "outputs": [
    {
     "name": "stdout",
     "output_type": "stream",
     "text": [
      "/ \n",
      "# \n",
      "/ Home\n",
      "/+=1/ +=1\n",
      "/store/python-hoodie/ Store\n",
      "/community/ Community\n",
      "/login/ Log in\n",
      "/register/ Sign up\n",
      "/ Home\n",
      "/+=1/ +=1\n",
      "/store/python-hoodie/ Store\n",
      "/community/ Community\n",
      "/login/ Log in\n",
      "/register/ Sign up\n"
     ]
    }
   ],
   "source": [
    "for link in soup.nav.find_all('a'):\n",
    "    print link.get('href'),link.text"
   ]
  },
  {
   "cell_type": "code",
   "execution_count": 132,
   "metadata": {
    "collapsed": false
   },
   "outputs": [],
   "source": [
    "div_data=soup.find_all('div',class_='body')\n",
    "# div_data=soup.select('div.body') ---same\n"
   ]
  },
  {
   "cell_type": "code",
   "execution_count": 95,
   "metadata": {
    "collapsed": false
   },
   "outputs": [
    {
     "name": "stdout",
     "output_type": "stream",
     "text": [
      "<p class=\"introduction\">Oh, hello! This is a <span style=\"font-size:115%\">wonderful</span> page meant to let you practice web scraping. This page was originally created to help people work with the <a href=\"https://www.crummy.com/software/BeautifulSoup/bs4/doc/\" target=\"blank\"><strong>Beautiful Soup 4</strong></a> library.</p>\n"
     ]
    }
   ],
   "source": [
    "for div in div_data:\n",
    "    print div.find_all('p')[0]"
   ]
  },
  {
   "cell_type": "code",
   "execution_count": 9,
   "metadata": {
    "collapsed": true
   },
   "outputs": [],
   "source": [
    "table=soup.table"
   ]
  },
  {
   "cell_type": "code",
   "execution_count": 10,
   "metadata": {
    "collapsed": false
   },
   "outputs": [
    {
     "data": {
      "text/plain": [
       "[<tr>\\n<th>Program Name</th>\\n<th>Internet Points</th>\\n<th>Kittens?</th>\\n</tr>,\n",
       " <tr>\\n<td>Python</td>\\n<td>932914021</td>\\n<td>Definitely</td>\\n</tr>,\n",
       " <tr>\\n<td>Pascal</td>\\n<td>532</td>\\n<td>Unlikely</td>\\n</tr>,\n",
       " <tr>\\n<td>Lisp</td>\\n<td>1522</td>\\n<td>Uncertain</td>\\n</tr>,\n",
       " <tr>\\n<td>D#</td>\\n<td>12</td>\\n<td>Possibly</td>\\n</tr>,\n",
       " <tr>\\n<td>Cobol</td>\\n<td>3</td>\\n<td>No.</td>\\n</tr>,\n",
       " <tr>\\n<td>Fortran</td>\\n<td>52124</td>\\n<td>Yes.</td>\\n</tr>,\n",
       " <tr>\\n<td>Haskell</td>\\n<td>24</td>\\n<td>lol.</td>\\n</tr>]"
      ]
     },
     "execution_count": 10,
     "metadata": {},
     "output_type": "execute_result"
    }
   ],
   "source": [
    "table_rows=table.find_all('tr')\n",
    "table_rows"
   ]
  },
  {
   "cell_type": "code",
   "execution_count": 12,
   "metadata": {
    "collapsed": false
   },
   "outputs": [
    {
     "name": "stdout",
     "output_type": "stream",
     "text": [
      "[]\n",
      "[u'Python', u'932914021', u'Definitely']\n",
      "[u'Pascal', u'532', u'Unlikely']\n",
      "[u'Lisp', u'1522', u'Uncertain']\n",
      "[u'D#', u'12', u'Possibly']\n",
      "[u'Cobol', u'3', u'No.']\n",
      "[u'Fortran', u'52124', u'Yes.']\n",
      "[u'Haskell', u'24', u'lol.']\n"
     ]
    }
   ],
   "source": [
    "for each in table_rows:\n",
    "    td=each.find_all('td')\n",
    "    row=[i.string for i in td]\n",
    "    print row"
   ]
  },
  {
   "cell_type": "code",
   "execution_count": 124,
   "metadata": {
    "collapsed": true
   },
   "outputs": [],
   "source": [
    "# xml\n",
    "xml_source=requests.get(\"https://pythonprogramming.net/sitemap.xml\")\n",
    "xml_soup=BeautifulSoup(xml_source.content,\"xml\")"
   ]
  },
  {
   "cell_type": "code",
   "execution_count": 127,
   "metadata": {
    "collapsed": false
   },
   "outputs": [
    {
     "data": {
      "text/plain": [
       "<url>\\n<loc>https://pythonprogramming.net/downloads/intraQuarter.zip/</loc>\\n<lastmod>2017-02-27</lastmod>\\n</url>"
      ]
     },
     "execution_count": 127,
     "metadata": {},
     "output_type": "execute_result"
    }
   ],
   "source": [
    "xml_soup.url"
   ]
  },
  {
   "cell_type": "code",
   "execution_count": 129,
   "metadata": {
    "collapsed": false
   },
   "outputs": [
    {
     "name": "stdout",
     "output_type": "stream",
     "text": [
      "https://pythonprogramming.net/downloads/intraQuarter.zip/\n",
      "https://pythonprogramming.net/downloads/knowledgeBase.db\n",
      "https://pythonprogramming.net/downloads/key_stats.csv\n",
      "https://pythonprogramming.net/downloads/style.zip\n",
      "https://pythonprogramming.net/community/post/\n",
      "https://pythonprogramming.net/about/privacy-policy/\n",
      "https://pythonprogramming.net/store/python-hoodie/\n",
      "https://pythonprogramming.net/about/super-powers/\n",
      "https://pythonprogramming.net/about/technology/\n",
      "https://pythonprogramming.net/about/tos/\n",
      "https://pythonprogramming.net/user/change-password/\n",
      "https://pythonprogramming.net/scikit-learn-sklearn-machine-learning-data-analysis-python-pandas-tutorial/\n",
      "https://pythonprogramming.net/quantopian-trading-strategies-introduction-python-programming-for-finance/\n",
      "https://pythonprogramming.net/combining-stock-prices-into-one-dataframe-python-programming-for-finance/\n",
      "https://pythonprogramming.net/2D-Visualization-of-Pandas-data-with-Matplotlib-including-plotting-dates/\n",
      "https://pythonprogramming.net/cnn-tensorflow-convolutional-nerual-network-machine-learning-tutorial/\n",
      "https://pythonprogramming.net/object-oriented-programming-introduction-intermediate-python-tutorial/\n",
      "https://pythonprogramming.net/inheritance-object-oriented-programming-intermediate-python-tutorial/\n",
      "https://pythonprogramming.net/finding-more-alpha-factors-quantopian-python-programming-for-finance/\n",
      "https://pythonprogramming.net/machine-learning-pattern-recognition-algorithmic-forex-stock-trading/\n",
      "https://pythonprogramming.net/rolling-apply-mapping-functions-data-analysis-python-pandas-tutorial/\n",
      "https://pythonprogramming.net/convolutional-neural-network-kats-vs-dogs-machine-learning-tutorial/\n",
      "https://pythonprogramming.net/machine-learning-clustering-introduction-machine-learning-tutorial/\n",
      "https://pythonprogramming.net/targets-for-machine-learning-labels-python-programming-for-finance/\n",
      "https://pythonprogramming.net/preprocessing-for-machine-learning-python-programming-for-finance/\n",
      "https://pythonprogramming.net/combining-alpha-factors-quantopian-python-programming-for-finance/\n",
      "https://pythonprogramming.net/encryption-and-decryption-in-python-code-example-with-explanation/\n",
      "https://pythonprogramming.net/r-squared-coefficient-of-determination-machine-learning-tutorial/\n",
      "https://pythonprogramming.net/openai-cartpole-neural-network-example-machine-learning-tutorial/\n",
      "https://pythonprogramming.net/portfolio-optimization-quantopian-python-programming-for-finance/\n",
      "https://pythonprogramming.net/more-list-comprehension-generators-intermediate-python-tutorial/\n",
      "https://pythonprogramming.net/support-vector-machine-svm-example-tutorial-scikit-learn-python/\n",
      "https://pythonprogramming.net/percent-change-correlation-data-analysis-python-pandas-tutorial/\n",
      "https://pythonprogramming.net/support-vector-machine-fundamentals-machine-learning-tutorial/\n",
      "https://pythonprogramming.net/how-to-program-best-fit-line-slope-machine-learning-tutorial/\n",
      "https://pythonprogramming.net/hierarchical-clustering-mean-shift-machine-learning-tutorial/\n",
      "https://pythonprogramming.net/string-concatenation-formatting-intermediate-python-tutorial/\n",
      "https://pythonprogramming.net/stock-price-correlation-table-python-programming-for-finance/\n",
      "https://pythonprogramming.net/machine-learning-stock-prices-python-programming-for-finance/\n",
      "https://pythonprogramming.net/hierarchical-clustering-machine-learning-python-scikit-learn/\n",
      "https://pythonprogramming.net/python-programming-finance-machine-learning-classifier-sets/\n",
      "https://pythonprogramming.net/support-vector-machine-parameters-machine-learning-tutorial/\n",
      "https://pythonprogramming.net/tensorflow-neural-network-session-machine-learning-tutorial/\n",
      "https://pythonprogramming.net/recurrent-neural-network-rnn-lstm-machine-learning-tutorial/\n",
      "https://pythonprogramming.net/handling-stock-data-graphing-python-programming-for-finance/\n",
      "https://pythonprogramming.net/more-stock-data-manipulation-python-programming-for-finance/\n",
      "https://pythonprogramming.net/schedule-function-quantopian-python-programming-for-finance/\n",
      "https://pythonprogramming.net/javascript-dynamic-scraping-parsing-beautiful-soup-tutorial/\n",
      "https://pythonprogramming.net/dogs-vs-cats-convolutional-neural-network-tensorflow-kaggle/\n",
      "https://pythonprogramming.net/convolutional-neural-network-cnn-machine-learning-tutorial/\n",
      "https://pythonprogramming.net/list-comprehension-generators-intermediate-python-tutorial/\n",
      "https://pythonprogramming.net/placing-an-order-quantopian-python-programming-for-finance/\n",
      "https://pythonprogramming.net/quantopian-pyfolio-analysis-python-programming-for-finance/\n",
      "https://pythonprogramming.net/joining-mortgage-rate-data-analysis-python-pandas-tutorial/\n",
      "https://pythonprogramming.net/k-nearest-neighbors-application-machine-learning-tutorial/\n",
      "https://pythonprogramming.net/programming-k-nearest-neighbors-machine-learning-tutorial/\n",
      "https://pythonprogramming.net/testing-our-k-nearest-neighbors-machine-learning-tutorial/\n",
      "https://pythonprogramming.net/working-with-non-numerical-data-machine-learning-tutorial/\n",
      "https://pythonprogramming.net/3d-convolutional-neural-network-machine-learning-tutorial/\n",
      "https://pythonprogramming.net/navigating-pages-scraping-parsing-beautiful-soup-tutorial/\n",
      "https://pythonprogramming.net/sci-kit-learn-tutorials-machine-learning-python-investing/\n",
      "https://pythonprogramming.net/comparison-operators-data-analysis-python-pandas-tutorial/\n",
      "https://pythonprogramming.net/matplotlib-tutorial-part-5-subplots-multiple-plots-figure/\n",
      "https://pythonprogramming.net/mean-shift-from-scratch-python-machine-learning-tutorial/\n",
      "https://pythonprogramming.net/tensorflow-deep-neural-network-machine-learning-tutorial/\n",
      "https://pythonprogramming.net/values-from-multiprocessing-intermediate-python-tutorial/\n",
      "https://pythonprogramming.net/creating-pygame-environment-intermediate-python-tutorial/\n",
      "https://pythonprogramming.net/headlines-function-alexa-skill-flask-ask-python-tutorial/\n",
      "https://pythonprogramming.net/scikit-learn-tutorials-machine-learning-python-investing/\n",
      "https://pythonprogramming.net/soft-margin-kernel-cvxopt-svm-machine-learning-tutorial/\n",
      "https://pythonprogramming.net/weighted-bandwidth-mean-shift-machine-learning-tutorial/\n",
      "https://pythonprogramming.net/sp500-company-price-data-python-programming-for-finance/\n",
      "https://pythonprogramming.net/testing-deploying-alexa-skill-flask-ask-python-tutorial/\n",
      "https://pythonprogramming.net/sqlite-part-2-dynamically-inserting-database-timestamps/\n",
      "https://pythonprogramming.net/concatenate-append-data-analysis-python-pandas-tutorial/\n",
      "https://pythonprogramming.net/rolling-statistics-data-analysis-python-pandas-tutorial/\n",
      "https://pythonprogramming.net/graphing-matplotlib-python-part-3-colors-line-thickness/\n",
      "https://pythonprogramming.net/python-programming-creating-automated-trading-strategy/\n",
      "https://pythonprogramming.net/python-programming-finance-sentiment-analysis-shorting/\n",
      "https://pythonprogramming.net/python-programming-finance-machine-learning-classifier/\n",
      "https://pythonprogramming.net/how-to-program-best-fit-line-machine-learning-tutorial/\n",
      "https://pythonprogramming.net/support-vector-machine-intro-machine-learning-tutorial/\n",
      "https://pythonprogramming.net/special-methods-iteration-intermediate-python-tutorial/\n",
      "https://pythonprogramming.net/stock-data-manipulation-python-programming-for-finance/\n",
      "https://pythonprogramming.net/strategizing-quantopian-python-programming-for-finance/\n",
      "https://pythonprogramming.net/haar-cascade-face-eye-detection-python-opencv-tutorial/\n",
      "https://pythonprogramming.net/python-programming-finance-machine-learning-framework/\n",
      "https://pythonprogramming.net/svm-constraint-optimization-machine-learning-tutorial/\n",
      "https://pythonprogramming.net/quantopian-backtesting-python-programming-for-finance/\n",
      "https://pythonprogramming.net/introduction-scraping-parsing-beautiful-soup-tutorial/\n",
      "https://pythonprogramming.net/canny-edge-detection-gradients-python-opencv-tutorial/\n",
      "https://pythonprogramming.net/economic-factors-data-analysis-python-pandas-tutorial/\n",
      "https://pythonprogramming.net/coding-k-nearest-neighbors-machine-learning-tutorial/\n",
      "https://pythonprogramming.net/mean-shift-titanic-dataset-machine-learning-tutorial/\n",
      "https://pythonprogramming.net/using-our-own-data-tensorflow-deep-learning-tutorial/\n",
      "https://pythonprogramming.net/class-object-modularity-intermediate-python-tutorial/\n",
      "https://pythonprogramming.net/headless-error-handling-intermediate-python-tutorial/\n",
      "https://pythonprogramming.net/flat-clustering-machine-learning-python-scikit-learn/\n",
      "https://pythonprogramming.net/python-and-pandas-for-sentiment-analysis-and-finance/\n",
      "https://pythonprogramming.net/grabcut-foreground-extraction-python-opencv-tutorial/\n",
      "https://pythonprogramming.net/haar-cascade-object-detection-python-opencv-tutorial/\n",
      "https://pythonprogramming.net/finance-programming-python-zipline-quantopian-intro/\n",
      "https://pythonprogramming.net/python-programming-finance-understanding-hedgefunds/\n",
      "https://pythonprogramming.net/python-programming-finance-testing-machine-learning/\n",
      "https://pythonprogramming.net/k-nearest-neighbors-intro-machine-learning-tutorial/\n",
      "https://pythonprogramming.net/support-vector-assertions-machine-learning-tutorial/\n",
      "https://pythonprogramming.net/svm-optimization-python-2-machine-learning-tutorial/\n",
      "https://pythonprogramming.net/data-size-example-tensorflow-deep-learning-tutorial/\n",
      "https://pythonprogramming.net/multiprocessing-python-intermediate-python-tutorial/\n",
      "https://pythonprogramming.net/multiprocessing-spider-intermediate-python-tutorial/\n",
      "https://pythonprogramming.net/getting-stock-prices-python-programming-for-finance/\n",
      "https://pythonprogramming.net/quantopian-alphalens-python-programming-for-finance/\n",
      "https://pythonprogramming.net/tables-xml-scraping-parsing-beautiful-soup-tutorial/\n",
      "https://pythonprogramming.net/plotting-live-bitcoin-price-data-tkinter-matplotlib/\n",
      "https://pythonprogramming.net/morphological-transformation-python-opencv-tutorial/\n",
      "https://pythonprogramming.net/nan-na-missing-data-analysis-python-pandas-tutorial/\n",
      "https://pythonprogramming.net/simple-linear-regression-machine-learning-tutorial/\n",
      "https://pythonprogramming.net/how-to-program-r-squared-machine-learning-tutorial/\n",
      "https://pythonprogramming.net/quantopian-research-python-programming-for-finance/\n",
      "https://pythonprogramming.net/quantopian-pipeline-python-programming-for-finance/\n",
      "https://pythonprogramming.net/statistics-python-3-module-mean-standard-deviation/\n",
      "https://pythonprogramming.net/ibpy-tutorial-using-interactive-brokers-api-python/\n",
      "https://pythonprogramming.net/thresholding-image-analysis-python-opencv-tutorial/\n",
      "https://pythonprogramming.net/feature-matching-homography-python-opencv-tutorial/\n",
      "https://pythonprogramming.net/robotics-raspberry-pi-tutorial-gopigo-introduction/\n",
      "https://pythonprogramming.net/raspberry-pi-camera-opencv-face-detection-tutorial/\n",
      "https://pythonprogramming.net/python-programming-finance-quantopian-csv-fetcher/\n",
      "https://pythonprogramming.net/regression-introduction-machine-learning-tutorial/\n",
      "https://pythonprogramming.net/svm-optimization-python-machine-learning-tutorial/\n",
      "https://pythonprogramming.net/why-use-kernel-with-svm-machine-learning-tutorial/\n",
      "https://pythonprogramming.net/k-means-titanic-dataset-machine-learning-tutorial/\n",
      "https://pythonprogramming.net/tensorflow-introduction-machine-learning-tutorial/\n",
      "https://pythonprogramming.net/how-to-cuda-gpu-tensorflow-deep-learning-tutorial/\n",
      "https://pythonprogramming.net/operator-overloading-intermediate-python-tutorial/\n",
      "https://pythonprogramming.net/detecting-collisions-intermediate-python-tutorial/\n",
      "https://pythonprogramming.net/sp500-company-list-python-programming-for-finance/\n",
      "https://pythonprogramming.net/passing-functions-parameters-tkinter-using-lambda/\n",
      "https://pythonprogramming.net/natural-language-toolkit-nltk-part-speech-tagging/\n",
      "https://pythonprogramming.net/data-analysis-python-pandas-tutorial-introduction/\n",
      "https://pythonprogramming.net/input-output-data-analysis-python-pandas-tutorial/\n",
      "https://pythonprogramming.net/python-programming-finance-back-testing-strategy/\n",
      "https://pythonprogramming.net/forecasting-predicting-machine-learning-tutorial/\n",
      "https://pythonprogramming.net/k-means-from-scratch-2-machine-learning-tutorial/\n",
      "https://pythonprogramming.net/back-testing-machine-learning-investing-strategy/\n",
      "https://pythonprogramming.net/basemap-coordinates-plotting-matplotlib-tutorial/\n",
      "https://pythonprogramming.net/object-oriented-programming-crash-course-tkinter/\n",
      "https://pythonprogramming.net/decorator-wrappers-flask-tutorial-login-required/\n",
      "https://pythonprogramming.net/adding-color-graphs-python-matplotlib-tutorial-4/\n",
      "https://pythonprogramming.net/installing-tensorflow-machine-learning-tutorial/\n",
      "https://pythonprogramming.net/preprocessing-tensorflow-deep-learning-tutorial/\n",
      "https://pythonprogramming.net/rnn-tensorflow-python-machine-learning-tutorial/\n",
      "https://pythonprogramming.net/python-pickle-module-save-objects-serialization/\n",
      "https://pythonprogramming.net/geographic-basemap-plotting-matplotlib-tutorial/\n",
      "https://pythonprogramming.net/fundamental-investing-stock-screener-conclusion/\n",
      "https://pythonprogramming.net/mog-background-reduction-python-opencv-tutorial/\n",
      "https://pythonprogramming.net/join-merge-data-analysis-python-pandas-tutorial/\n",
      "https://pythonprogramming.net/k-means-from-scratch-machine-learning-tutorial/\n",
      "https://pythonprogramming.net/many-blob-objects-intermediate-python-tutorial/\n",
      "https://pythonprogramming.net/parse-website-using-regular-expressions-urllib/\n",
      "https://pythonprogramming.net/robot-remote-control-car-with-the-raspberry-pi/\n",
      "https://pythonprogramming.net/opengl-rotating-cube-example-pyopengl-tutorial/\n",
      "https://pythonprogramming.net/advanced-matplotlib-graphing-charting-tutorial/\n",
      "https://pythonprogramming.net/sentiment-analysis-natural-language-processing/\n",
      "https://pythonprogramming.net/image-arithmetics-logic-python-opencv-tutorial/\n",
      "https://pythonprogramming.net/python-programming-finance-sentiment-analysis/\n",
      "https://pythonprogramming.net/machine-learning-tutorial-python-introduction/\n",
      "https://pythonprogramming.net/sample-data-testing-machine-learning-tutorial/\n",
      "https://pythonprogramming.net/__str__-__repr__-intermediate-python-tutorial/\n",
      "https://pythonprogramming.net/sql-database-python-part-1-inserting-database/\n",
      "https://pythonprogramming.net/copying-backing-master-node-win32-disk-imager/\n",
      "https://pythonprogramming.net/installing-testing-mpi4py-mpi-python-tutorial/\n",
      "https://pythonprogramming.net/improving-infinite-3d-cubes-pyopengl-tutorial/\n",
      "https://pythonprogramming.net/resample-data-analysis-python-pandas-tutorial/\n",
      "https://pythonprogramming.net/python-programming-finance-shorting-strategy/\n",
      "https://pythonprogramming.net/euclidean-distance-machine-learning-tutorial/\n",
      "https://pythonprogramming.net/final-thoughts-knn-machine-learning-tutorial/\n",
      "https://pythonprogramming.net/train-test-tensorflow-deep-learning-tutorial/\n",
      "https://pythonprogramming.net/more-generators-intermediate-python-tutorial/\n",
      "https://pythonprogramming.net/sending-receiving-messages-nodes-dynamically/\n",
      "https://pythonprogramming.net/twitter-api-streaming-tweets-python-tutorial/\n",
      "https://pythonprogramming.net/drop-down-button-window-styles-pyqt-tutorial/\n",
      "https://pythonprogramming.net/subplot2grid-add_subplot-matplotlib-tutorial/\n",
      "https://pythonprogramming.net/tkinter-depth-tutorial-making-actual-program/\n",
      "https://pythonprogramming.net/named-entity-recognition-stanford-ner-tagger/\n",
      "https://pythonprogramming.net/programming-autonomous-robot-gopigo-tutorial/\n",
      "https://pythonprogramming.net/dataset-data-analysis-python-pandas-tutorial/\n",
      "https://pythonprogramming.net/matplotlib-reading-information-file-plotting/\n",
      "https://pythonprogramming.net/python-programming-finance-fundamental-data/\n",
      "https://pythonprogramming.net/python-programming-finance-trade-sell-logic/\n",
      "https://pythonprogramming.net/intro-alexa-skill-flask-ask-python-tutorial/\n",
      "https://pythonprogramming.net/function-parameter-defaults-python-3-basics/\n",
      "https://pythonprogramming.net/regular-expressions-regex-tutorial-python-3/\n",
      "https://pythonprogramming.net/conditional-statements-alongside-mpi-mpi4py/\n",
      "https://pythonprogramming.net/pandas-column-manipulation-spreadsheet-data/\n",
      "https://pythonprogramming.net/pandas-statistics-correlation-tables-how-to/\n",
      "https://pythonprogramming.net/embedding-live-matplotlib-graph-tkinter-gui/\n",
      "https://pythonprogramming.net/combine-classifier-algorithms-nltk-tutorial/\n",
      "https://pythonprogramming.net/basics-data-analysis-python-pandas-tutorial/\n",
      "https://pythonprogramming.net/pickle-data-analysis-python-pandas-tutorial/\n",
      "https://pythonprogramming.net/training-testing-machine-learning-tutorial/\n",
      "https://pythonprogramming.net/pickling-scaling-machine-learning-tutorial/\n",
      "https://pythonprogramming.net/kernels-with-svm-machine-learning-tutorial/\n",
      "https://pythonprogramming.net/download-and-install-mpi-for-supercomputer/\n",
      "https://pythonprogramming.net/mysql-live-database-example-streaming-data/\n",
      "https://pythonprogramming.net/getting-data-sp-500-index-value-comparison/\n",
      "https://pythonprogramming.net/linear-svc-example-scikit-learn-svm-python/\n",
      "https://pythonprogramming.net/raising-investment-suggestion-requirements/\n",
      "https://pythonprogramming.net/adding-js-plugins-flask-highcharts-example/\n",
      "https://pythonprogramming.net/infinite-3d-pyopengl-flying-cubes-tutorial/\n",
      "https://pythonprogramming.net/converting-date-stamps-matplotlib-tutorial/\n",
      "https://pythonprogramming.net/candlestick-ohlc-graph-matplotlib-tutorial/\n",
      "https://pythonprogramming.net/last-price-stock-chart-matplotlib-tutorial/\n",
      "https://pythonprogramming.net/graph-live-twitter-sentiment-nltk-tutorial/\n",
      "https://pythonprogramming.net/incorporating-graphing-into-stock-screener/\n",
      "https://pythonprogramming.net/flask-connect-mysql-using-mysqldb-tutorial/\n",
      "https://pythonprogramming.net/features-labels-machine-learning-tutorial/\n",
      "https://pythonprogramming.net/predictions-svm-machine-learning-tutorial/\n",
      "https://pythonprogramming.net/soft-margin-svm-machine-learning-tutorial/\n",
      "https://pythonprogramming.net/neural-networks-machine-learning-tutorial/\n",
      "https://pythonprogramming.net/introduction-intermediate-python-tutorial/\n",
      "https://pythonprogramming.net/argparse-cli-intermediate-python-tutorial/\n",
      "https://pythonprogramming.net/converting-python-scripts-exe-executables/\n",
      "https://pythonprogramming.net/installing-supercomputer-operating-system/\n",
      "https://pythonprogramming.net/use-twitter-api-v1-1-python-stream-tweets/\n",
      "https://pythonprogramming.net/average-outcomes-as-predictions-forex-hft/\n",
      "https://pythonprogramming.net/legends-titles-labels-matplotlib-tutorial/\n",
      "https://pythonprogramming.net/implementing-subplots-matplotlib-tutorial/\n",
      "https://pythonprogramming.net/basemap-customization-matplotlib-tutorial/\n",
      "https://pythonprogramming.net/how-to-embed-matplotlib-graph-tkinter-gui/\n",
      "https://pythonprogramming.net/testing-stanford-ner-taggers-for-accuracy/\n",
      "https://pythonprogramming.net/flask-get-post-requests-handling-tutorial/\n",
      "https://pythonprogramming.net/dynamic-user-based-content-flask-tutorial/\n",
      "https://pythonprogramming.net/blurring-smoothing-python-opencv-tutorial/\n",
      "https://pythonprogramming.net/database-migration-django-python-tutorial/\n",
      "https://pythonprogramming.net/supplies-needed-raspberry-pi-gopigo-robot/\n",
      "https://pythonprogramming.net/remote-control-robot-programming-tutorial/\n",
      "https://pythonprogramming.net/python-programming-finance-paper-trading/\n",
      "https://pythonprogramming.net/args-kwargs-intermediate-python-tutorial/\n",
      "https://pythonprogramming.net/tkinter-python-3-tutorial-adding-buttons/\n",
      "https://pythonprogramming.net/tkinter-tutorial-python-3-event-handling/\n",
      "https://pythonprogramming.net/linear-svc-machine-learning-testing-data/\n",
      "https://pythonprogramming.net/streaming-video-from-raspberry-pi-camera/\n",
      "https://pythonprogramming.net/low-latency-video-streaming-raspberry-pi/\n",
      "https://pythonprogramming.net/coloring-pyopengl-surfaces-python-opengl/\n",
      "https://pythonprogramming.net/converting-tkinter-to-exe-with-cx-freeze/\n",
      "https://pythonprogramming.net/tokenizing-words-sentences-nltk-tutorial/\n",
      "https://pythonprogramming.net/twitter-sentiment-analysis-nltk-tutorial/\n",
      "https://pythonprogramming.net/using-bio-tags-create-named-entity-lists/\n",
      "https://pythonprogramming.net/creating-dice-roll-monte-carlo-simulator/\n",
      "https://pythonprogramming.net/template-matching-python-opencv-tutorial/\n",
      "https://pythonprogramming.net/django-web-development-with-python-intro/\n",
      "https://pythonprogramming.net/django-web-server-https-lets-encrypt-ssl/\n",
      "https://pythonprogramming.net/python-programming-finance-back-testing/\n",
      "https://pythonprogramming.net/vector-basics-machine-learning-tutorial/\n",
      "https://pythonprogramming.net/svm-in-python-machine-learning-tutorial/\n",
      "https://pythonprogramming.net/decorators-intermediate-python-tutorial/\n",
      "https://pythonprogramming.net/handling-exceptions-try-except-python-3/\n",
      "https://pythonprogramming.net/current-yahoo-data-for-machine-learning/\n",
      "https://pythonprogramming.net/investment-suggestions-machine-learning/\n",
      "https://pythonprogramming.net/pygame-tutorial-moving-images-key-input/\n",
      "https://pythonprogramming.net/basemap-python-plotting-tutorial-part-4/\n",
      "https://pythonprogramming.net/basemap-python-plotting-tutorial-part-5/\n",
      "https://pythonprogramming.net/drawing-application-with-screen-manager/\n",
      "https://pythonprogramming.net/bar-chart-histogram-matplotlib-tutorial/\n",
      "https://pythonprogramming.net/basic-customization-matplotlib-tutorial/\n",
      "https://pythonprogramming.net/more-indicator-data-matplotlib-tutorial/\n",
      "https://pythonprogramming.net/share-x-axis-sharex-matplotlib-tutorial/\n",
      "https://pythonprogramming.net/sentiment-analysis-module-nltk-tutorial/\n",
      "https://pythonprogramming.net/image-operations-python-opencv-tutorial/\n",
      "https://pythonprogramming.net/corner-detection-python-opencv-tutorial/\n",
      "https://pythonprogramming.net/design-bootstrap-django-python-tutorial/\n",
      "https://pythonprogramming.net/plotting-sql-database-python-matplotlib/\n",
      "https://pythonprogramming.net/enumerate-intermediate-python-tutorial/\n",
      "https://pythonprogramming.net/python-tutorial-print-function-strings/\n",
      "https://pythonprogramming.net/math-basics-python-3-beginner-tutorial/\n",
      "https://pythonprogramming.net/module-import-syntax-python-3-tutorial/\n",
      "https://pythonprogramming.net/sending-receiving-data-messages-mpi4py/\n",
      "https://pythonprogramming.net/tagging-messages-mpi-multiple-messages/\n",
      "https://pythonprogramming.net/streamlining-changing-machine-learning/\n",
      "https://pythonprogramming.net/pygame-buttons-part-1-button-rectangle/\n",
      "https://pythonprogramming.net/converting-pygame-executable-cx_freeze/\n",
      "https://pythonprogramming.net/opengl-pyopengl-python-pygame-tutorial/\n",
      "https://pythonprogramming.net/random-cube-position-pyopengl-tutorial/\n",
      "https://pythonprogramming.net/python-matplotlib-live-updating-graphs/\n",
      "https://pythonprogramming.net/geographical-plotting-basemap-tutorial/\n",
      "https://pythonprogramming.net/map-plotting-basemap-matplotlib-part-2/\n",
      "https://pythonprogramming.net/multi-y-axis-twinx-matplotlib-tutorial/\n",
      "https://pythonprogramming.net/named-entity-recognition-nltk-tutorial/\n",
      "https://pythonprogramming.net/testing-stanford-ner-taggers-for-speed/\n",
      "https://pythonprogramming.net/drawing-writing-python-opencv-tutorial/\n",
      "https://pythonprogramming.net/jinja-templates-django-python-tutorial/\n",
      "https://pythonprogramming.net/jinja-variables-django-python-tutorial/\n",
      "https://pythonprogramming.net/views-templates-django-python-tutorial/\n",
      "https://pythonprogramming.net/beginner-python-programming-tutorials/\n",
      "https://pythonprogramming.net/if-statement-python-3-basics-tutorial/\n",
      "https://pythonprogramming.net/horizonal-bar-chart-python-matplotlib/\n",
      "https://pythonprogramming.net/sqlite-part-3-reading-database-python/\n",
      "https://pythonprogramming.net/learning-use-mpi-python-mpi4py-module/\n",
      "https://pythonprogramming.net/basic-mpi4py-script-getting-node-rank/\n",
      "https://pythonprogramming.net/machine-learning-python-sklearn-intro/\n",
      "https://pythonprogramming.net/parsing-data-website-machine-learning/\n",
      "https://pythonprogramming.net/labeling-data-machine-learning-part-2/\n",
      "https://pythonprogramming.net/pandas-column-operations-calculations/\n",
      "https://pythonprogramming.net/modifying-data-granularity-matplotlib/\n",
      "https://pythonprogramming.net/kivy-application-development-tutorial/\n",
      "https://pythonprogramming.net/loading-file-data-matplotlib-tutorial/\n",
      "https://pythonprogramming.net/flask-user-registration-form-tutorial/\n",
      "https://pythonprogramming.net/loading-images-python-opencv-tutorial/\n",
      "https://pythonprogramming.net/usb-foam-cannon-robot-gopigo-tutorial/\n",
      "https://pythonprogramming.net/python-programming-finance-stop-loss/\n",
      "https://pythonprogramming.net/logging-intermediate-python-tutorial/\n",
      "https://pythonprogramming.net/using-pip-install-for-python-modules/\n",
      "https://pythonprogramming.net/collecting-features-machine-learning/\n",
      "https://pythonprogramming.net/building-yahoo-data-machine-learning/\n",
      "https://pythonprogramming.net/testing-visualization-and-conclusion/\n",
      "https://pythonprogramming.net/getting-mouse-press-touch-input-kivy/\n",
      "https://pythonprogramming.net/annotations-text-matplotlib-tutorial/\n",
      "https://pythonprogramming.net/customizing-tkinter-matplotlib-graph/\n",
      "https://pythonprogramming.net/graphing-ohlc-candlestick-in-tkinter/\n",
      "https://pythonprogramming.net/named-entity-recognition-nltk-python/\n",
      "https://pythonprogramming.net/part-of-speech-tagging-nltk-tutorial/\n",
      "https://pythonprogramming.net/naive-bayes-classifier-nltk-tutorial/\n",
      "https://pythonprogramming.net/pickle-classifier-save-nltk-tutorial/\n",
      "https://pythonprogramming.net/ssl-https-letsencrypt-flask-tutorial/\n",
      "https://pythonprogramming.net/loading-video-python-opencv-tutorial/\n",
      "https://pythonprogramming.net/finished-blog-django-python-tutorial/\n",
      "https://pythonprogramming.net/quadcopter-flight-and-legal-tutorial/\n",
      "https://pythonprogramming.net/python-programming-finance-leverage/\n",
      "https://pythonprogramming.net/timeit-intermediate-python-tutorial/\n",
      "https://pythonprogramming.net/function-parameters-python-3-basics/\n",
      "https://pythonprogramming.net/frequently-asked-questions-python-3/\n",
      "https://pythonprogramming.net/matplotlib-python-3-basics-tutorial/\n",
      "https://pythonprogramming.net/using-pandas-structure-process-data/\n",
      "https://pythonprogramming.net/improving-analysis-machine-learning/\n",
      "https://pythonprogramming.net/forward-reverse-motors-raspberry-pi/\n",
      "https://pythonprogramming.net/testing-autonomous-raspberry-pi-car/\n",
      "https://pythonprogramming.net/adding-boundaries-pygame-video-game/\n",
      "https://pythonprogramming.net/automated-image-thresholding-python/\n",
      "https://pythonprogramming.net/application-structure-pyqt-tutorial/\n",
      "https://pythonprogramming.net/matplotlib-python-3-basics-tutorial/\n",
      "https://pythonprogramming.net/3d-scatter-plot-matplotlib-tutorial/\n",
      "https://pythonprogramming.net/new-data-set-training-nltk-tutorial/\n",
      "https://pythonprogramming.net/color-filter-python-opencv-tutorial/\n",
      "https://pythonprogramming.net/quadcopter-esc-calibration-tutorial/\n",
      "https://pythonprogramming.net/introduction-to-python-programming\n",
      "https://pythonprogramming.net/introduction-to-python-programming/\n",
      "https://pythonprogramming.net/functions-python-3-basics-tutorial/\n",
      "https://pythonprogramming.net/converting-python2-to-python3-2to3/\n",
      "https://pythonprogramming.net/scatter-gather-mpi-mpi4py-tutorial/\n",
      "https://pythonprogramming.net/average-outcomes-as-predictions-p2/\n",
      "https://pythonprogramming.net/flask-web-development-introduction/\n",
      "https://pythonprogramming.net/matplotlib-3d-scatterplot-tutorial/\n",
      "https://pythonprogramming.net/custom-legends-matplotlib-tutorial/\n",
      "https://pythonprogramming.net/embed-matplotlib-graph-tkinter-gui/\n",
      "https://pythonprogramming.net/sklearn-scikit-learn-nltk-tutorial/\n",
      "https://pythonprogramming.net/graphing-finance-data-fundamentals/\n",
      "https://pythonprogramming.net/mysql-database-with-flask-tutorial/\n",
      "https://pythonprogramming.net/django-web-server-publish-tutorial/\n",
      "https://pythonprogramming.net/building-quadcopter-tutorial-intro/\n",
      "https://pythonprogramming.net/tflearn-machine-learning-tutorial/\n",
      "https://pythonprogramming.net/data-acquisition-machine-learning/\n",
      "https://pythonprogramming.net/machine-learning-testing-new-algo/\n",
      "https://pythonprogramming.net/past-pattern-outcomes-predictions/\n",
      "https://pythonprogramming.net/making-interactive-pygame-buttons/\n",
      "https://pythonprogramming.net/color-picker-widget-pyqt-tutorial/\n",
      "https://pythonprogramming.net/kivy-drawing-application-tutorial/\n",
      "https://pythonprogramming.net/internet-data-matplotlib-tutorial/\n",
      "https://pythonprogramming.net/getting-macd-data-for-tkinter-gui/\n",
      "https://pythonprogramming.net/text-classification-nltk-tutorial/\n",
      "https://pythonprogramming.net/preparing-figure-for-finance-data/\n",
      "https://pythonprogramming.net/mapping-function-pandas-sentiment/\n",
      "https://pythonprogramming.net/flask-user-log-in-system-tutorial/\n",
      "https://pythonprogramming.net/first-site-django-python-tutorial/\n",
      "https://pythonprogramming.net/robot-programming-basics-tutorial/\n",
      "https://pythonprogramming.net/quantopian-pipeline-api-tutorial/\n",
      "https://pythonprogramming.net/zip-intermediate-python-tutorial/\n",
      "https://pythonprogramming.net/appending-file-python-3-tutorial/\n",
      "https://pythonprogramming.net/classes-python-3-basics-tutorial/\n",
      "https://pythonprogramming.net/python-3-tkinter-basics-tutorial/\n",
      "https://pythonprogramming.net/customizing-bar-chart-matplotlib/\n",
      "https://pythonprogramming.net/python-binding-listening-sockets/\n",
      "https://pythonprogramming.net/build-supercomputer-raspberry-pi/\n",
      "https://pythonprogramming.net/mpi-gather-command-mpi4py-python/\n",
      "https://pythonprogramming.net/machine-learning-testing-with-na/\n",
      "https://pythonprogramming.net/running-gpio-python-raspberry-pi/\n",
      "https://pythonprogramming.net/raspberry-pi-car-distance-sensor/\n",
      "https://pythonprogramming.net/raspberry-pi-hc-sr04-programming/\n",
      "https://pythonprogramming.net/font-picker-widget-pyqt-tutorial/\n",
      "https://pythonprogramming.net/scatter-plot-matplotlib-tutorial/\n",
      "https://pythonprogramming.net/colors-fills-matplotlib-tutorial/\n",
      "https://pythonprogramming.net/spines-hline-matplotlib-tutorial/\n",
      "https://pythonprogramming.net/fill-pruning-matplotlib-tutorial/\n",
      "https://pythonprogramming.net/3d-bar-chart-matplotlib-tutorial/\n",
      "https://pythonprogramming.net/getting-rsi-data-for-tkinter-gui/\n",
      "https://pythonprogramming.net/compiling-russell-3000-tickers-2/\n",
      "https://pythonprogramming.net/snooping-best-dalembert-multiple/\n",
      "https://pythonprogramming.net/python-3-multi-dimensional-list/\n",
      "https://pythonprogramming.net/predicting-outcomes-of-patterns/\n",
      "https://pythonprogramming.net/gpio-motor-control-raspberry-pi/\n",
      "https://pythonprogramming.net/raspberry-pi-car-remote-control/\n",
      "https://pythonprogramming.net/pygame-python-3-tutorial-series/\n",
      "https://pythonprogramming.net/drawing-objects-pygame-tutorial/\n",
      "https://pythonprogramming.net/basic-image-recognition-testing/\n",
      "https://pythonprogramming.net/adding-ground-pyopengl-tutorial/\n",
      "https://pythonprogramming.net/python-2-7-pandas-data-analysis/\n",
      "https://pythonprogramming.net/3d-bar-charts-python-matplotlib/\n",
      "https://pythonprogramming.net/live-graphs-matplotlib-tutorial/\n",
      "https://pythonprogramming.net/learning-for-sentiment-analysis/\n",
      "https://pythonprogramming.net/words-as-features-nltk-tutorial/\n",
      "https://pythonprogramming.net/completing-basic-stock-screener/\n",
      "https://pythonprogramming.net/plotting-monte-carlo-matplotlib/\n",
      "https://pythonprogramming.net/two-dimension-graph-monte-carlo/\n",
      "https://pythonprogramming.net/bootstrap-jinja-templates-flask/\n",
      "https://pythonprogramming.net/flask-content-management-basics/\n",
      "https://pythonprogramming.net/password-hashing-flask-tutorial/\n",
      "https://pythonprogramming.net/reading-file-python-3-tutorial/\n",
      "https://pythonprogramming.net/dictionaries-tutorial-python-3/\n",
      "https://pythonprogramming.net/labeling-data-machine-learning/\n",
      "https://pythonprogramming.net/preprocessing-machine-learning/\n",
      "https://pythonprogramming.net/connecting-motors-raspberry-pi/\n",
      "https://pythonprogramming.net/adding-score-pygame-video-game/\n",
      "https://pythonprogramming.net/flask-web-development-tutorial/\n",
      "https://pythonprogramming.net/templates-flask-variables-html/\n",
      "https://pythonprogramming.net/button-functions-pyqt-tutorial/\n",
      "https://pythonprogramming.net/pandas-saving-reading-csv-file/\n",
      "https://pythonprogramming.net/python-function-mapping-pandas/\n",
      "https://pythonprogramming.net/dynamic-kivy-content-placement/\n",
      "https://pythonprogramming.net/stack-plot-matplotlib-tutorial/\n",
      "https://pythonprogramming.net/conclusion-matplotlib-tutorial/\n",
      "https://pythonprogramming.net/time-frame-sample-size-options/\n",
      "https://pythonprogramming.net/create-a-stock-screener-python/\n",
      "https://pythonprogramming.net/compiling-russell-3000-tickers/\n",
      "https://pythonprogramming.net/finishing-fundamental-graphing/\n",
      "https://pythonprogramming.net/fixing-debt-issues-monte-carlo/\n",
      "https://pythonprogramming.net/flask-content-management-contd/\n",
      "https://pythonprogramming.net/flask-protected-files-tutorial/\n",
      "https://pythonprogramming.net/loop-python-3-basics-tutorial/\n",
      "https://pythonprogramming.net/common-errors-python-3-basics/\n",
      "https://pythonprogramming.net/matplotlib-basics-first-graph/\n",
      "https://pythonprogramming.net/graphing-from-sqlite-database/\n",
      "https://pythonprogramming.net/sqlite-update-delete-tutorial/\n",
      "https://pythonprogramming.net/mpi-broadcast-tutorial-mpi4py/\n",
      "https://pythonprogramming.net/getting-data-machine-learning/\n",
      "https://pythonprogramming.net/forex-algo-pattern-rec-basics/\n",
      "https://pythonprogramming.net/increasing-pattern-complexity/\n",
      "https://pythonprogramming.net/displaying-our-forex-patterns/\n",
      "https://pythonprogramming.net/user-control-raspberry-pi-car/\n",
      "https://pythonprogramming.net/displaying-text-pygame-screen/\n",
      "https://pythonprogramming.net/pygame-drawing-shapes-objects/\n",
      "https://pythonprogramming.net/pygame-button-function-events/\n",
      "https://pythonprogramming.net/pop-up-messages-pyqt-tutorial/\n",
      "https://pythonprogramming.net/python-web-development-django/\n",
      "https://pythonprogramming.net/3d-graphing-pandas-matplotlib/\n",
      "https://pythonprogramming.net/3d-graphing-python-matplotlib/\n",
      "https://pythonprogramming.net/pie-chart-matplotlib-tutorial/\n",
      "https://pythonprogramming.net/unix-time-matplotlib-tutorial/\n",
      "https://pythonprogramming.net/3d-graphs-matplotlib-tutorial/\n",
      "https://pythonprogramming.net/change-show-new-frame-tkinter/\n",
      "https://pythonprogramming.net/tutorial-for-tkinter-tutorial/\n",
      "https://pythonprogramming.net/more-named-entity-recognition/\n",
      "https://pythonprogramming.net/back-testing-basics-sentiment/\n",
      "https://pythonprogramming.net/bettor-statistics-monte-carlo/\n",
      "https://pythonprogramming.net/analyzing-monte-carlo-results/\n",
      "https://pythonprogramming.net/jinja-template-flask-tutorial/\n",
      "https://pythonprogramming.net/flask-url-converters-tutorial/\n",
      "https://pythonprogramming.net/python-fundamental-tutorials/\n",
      "https://pythonprogramming.net/python-programming-tutorials/\n",
      "https://pythonprogramming.net/quantopian-pipeline-strategy/\n",
      "https://pythonprogramming.net/writing-file-python-3-basics/\n",
      "https://pythonprogramming.net/user-input-python-3-tutorial/\n",
      "https://pythonprogramming.net/multi-line-printing-python-3/\n",
      "https://pythonprogramming.net/python-3-subprocess-tutorial/\n",
      "https://pythonprogramming.net/python-threaded-port-scanner/\n",
      "https://pythonprogramming.net/client-server-python-sockets/\n",
      "https://pythonprogramming.net/pygame-python-3-part-1-intro/\n",
      "https://pythonprogramming.net/creating-first-flask-web-app/\n",
      "https://pythonprogramming.net/thresholding-python-function/\n",
      "https://pythonprogramming.net/moving-towards-pyopengl-cube/\n",
      "https://pythonprogramming.net/plotting-maps-python-basemap/\n",
      "https://pythonprogramming.net/kivy-screen-manager-tutorial/\n",
      "https://pythonprogramming.net/tkinter-popup-message-window/\n",
      "https://pythonprogramming.net/adding-indicator-choice-menu/\n",
      "https://pythonprogramming.net/nltk-corpus-corpora-tutorial/\n",
      "https://pythonprogramming.net/python-fundamental-investing/\n",
      "https://pythonprogramming.net/monte-carlo-simulator-python/\n",
      "https://pythonprogramming.net/practical-flask-introduction/\n",
      "https://pythonprogramming.net/basic-flask-website-tutorial/\n",
      "https://pythonprogramming.net/flask-user-register-tutorial/\n",
      "https://pythonprogramming.net/admin-django-python-tutorial/\n",
      "https://pythonprogramming.net/quadcopter-assembly-tutorial/\n",
      "https://pythonprogramming.net/googled4c03d669c9855ca.html\n",
      "https://pythonprogramming.net/python-3-variables-tutorial/\n",
      "https://pythonprogramming.net/elif-else-python-3-tutorial/\n",
      "https://pythonprogramming.net/installing-modules-python-3/\n",
      "https://pythonprogramming.net/ftp-transfers-python-ftplib/\n",
      "https://pythonprogramming.net/python-port-scanner-sockets/\n",
      "https://pythonprogramming.net/label-data-machine-learning/\n",
      "https://pythonprogramming.net/pattern-recognition-dataset/\n",
      "https://pythonprogramming.net/finding-forex-algo-patterns/\n",
      "https://pythonprogramming.net/recognizing-current-pattern/\n",
      "https://pythonprogramming.net/variables-in-forex-patterns/\n",
      "https://pythonprogramming.net/gpio-raspberry-pi-car-intro/\n",
      "https://pythonprogramming.net/autonomous-raspberry-pi-car/\n",
      "https://pythonprogramming.net/placing-text-pygame-buttons/\n",
      "https://pythonprogramming.net/python-pandas-data-analysis/\n",
      "https://pythonprogramming.net/3d-scatter-plot-customizing/\n",
      "https://pythonprogramming.net/kivy-application-navigation/\n",
      "https://pythonprogramming.net/adding-tkinter-menu-options/\n",
      "https://pythonprogramming.net/subplots-within-tkinter-gui/\n",
      "https://pythonprogramming.net/building-nlp-knowledge-base/\n",
      "https://pythonprogramming.net/investigating-nltk-tutorial/\n",
      "https://pythonprogramming.net/removing-outliers-sentiment/\n",
      "https://pythonprogramming.net/more-monte-carlo-comparison/\n",
      "https://pythonprogramming.net/flask-homepage-improvements/\n",
      "https://pythonprogramming.net/flask-error-handling-basics/\n",
      "https://pythonprogramming.net/flask-registration-tutorial/\n",
      "https://pythonprogramming.net/blog-django-python-tutorial/\n",
      "https://pythonprogramming.net/machine-learning-tutorials/\n",
      "https://pythonprogramming.net/game-development-tutorials/\n",
      "https://pythonprogramming.net/python-3-list-manipulation/\n",
      "https://pythonprogramming.net/reading-csv-files-python-3/\n",
      "https://pythonprogramming.net/tkinter-adding-text-images/\n",
      "https://pythonprogramming.net/matplotlib-graphing-series/\n",
      "https://pythonprogramming.net/matplotlib-styles-tutorial/\n",
      "https://pythonprogramming.net/supplies-for-supercomputer/\n",
      "https://pythonprogramming.net/create-mysql-tables-insert/\n",
      "https://pythonprogramming.net/mysql-update-select-delete/\n",
      "https://pythonprogramming.net/more-on-patterns-hft-forex/\n",
      "https://pythonprogramming.net/autopilot-raspberry-pi-car/\n",
      "https://pythonprogramming.net/pygame-making-games-python/\n",
      "https://pythonprogramming.net/pygame-start-menu-tutorial/\n",
      "https://pythonprogramming.net/adding-sounds-music-pygame/\n",
      "https://pythonprogramming.net/graphing-images-matplotlib/\n",
      "https://pythonprogramming.net/progress-bar-pyqt-tutorial/\n",
      "https://pythonprogramming.net/graphing-pandas-matplotlib/\n",
      "https://pythonprogramming.net/styles-matplotlib-tutorial/\n",
      "https://pythonprogramming.net/creating-main-menu-tkinter/\n",
      "https://pythonprogramming.net/pulling-data-from-seaofbtc/\n",
      "https://pythonprogramming.net/installing-nltk-nlp-python/\n",
      "https://pythonprogramming.net/accuracy-testing-basic-nlp/\n",
      "https://pythonprogramming.net/price-to-earnings-screener/\n",
      "https://pythonprogramming.net/adding-historical-earnings/\n",
      "https://pythonprogramming.net/strategy-function-tutorial/\n",
      "https://pythonprogramming.net/using-monte-carlo-to-snoop/\n",
      "https://pythonprogramming.net/web-development-tutorials/\n",
      "https://pythonprogramming.net/gui-development-tutorials/\n",
      "https://pythonprogramming.net/tkinter-menu-bar-tutorial/\n",
      "https://pythonprogramming.net/threading-tutorial-python/\n",
      "https://pythonprogramming.net/gpio-example-raspberry-pi/\n",
      "https://pythonprogramming.net/raspberry-pi-car-supplies/\n",
      "https://pythonprogramming.net/pivoting-raspberry-pi-car/\n",
      "https://pythonprogramming.net/image-thresholding-python/\n",
      "https://pythonprogramming.net/text-editor-pyqt-tutorial/\n",
      "https://pythonprogramming.net/file-saving-pyqt-tutorial/\n",
      "https://pythonprogramming.net/navigating-3d-environment/\n",
      "https://pythonprogramming.net/pandas-standard-deviation/\n",
      "https://pythonprogramming.net/matplotlib-intro-tutorial/\n",
      "https://pythonprogramming.net/styling-gui-bit-using-ttk/\n",
      "https://pythonprogramming.net/scraping-parsing-rss-feed/\n",
      "https://pythonprogramming.net/finding-related-sentiment/\n",
      "https://pythonprogramming.net/lemmatizing-nltk-tutorial/\n",
      "https://pythonprogramming.net/monte-carlo-dice-function/\n",
      "https://pythonprogramming.net/quadcopter-parts-tutorial/\n",
      "https://pythonprogramming.net/built-functions-python-3/\n",
      "https://pythonprogramming.net/urllib-tutorial-python-3/\n",
      "https://pythonprogramming.net/learning-and-testing-svm/\n",
      "https://pythonprogramming.net/more-predicting-outcomes/\n",
      "https://pythonprogramming.net/predicting-from-patterns/\n",
      "https://pythonprogramming.net/turning-raspberry-pi-car/\n",
      "https://pythonprogramming.net/displaying-images-pygame/\n",
      "https://pythonprogramming.net/image-recognition-python/\n",
      "https://pythonprogramming.net/open-files-pyqt-tutorial/\n",
      "https://pythonprogramming.net/exchange-choice-handling/\n",
      "https://pythonprogramming.net/adding-indicator-support/\n",
      "https://pythonprogramming.net/stop-words-nltk-tutorial/\n",
      "https://pythonprogramming.net/fundamental-company-data/\n",
      "https://pythonprogramming.net/peg-ratio-stock-screener/\n",
      "https://pythonprogramming.net/organizing-earnings-data/\n",
      "https://pythonprogramming.net/simple-data-manipulation/\n",
      "https://pythonprogramming.net/running-multiple-scripts/\n",
      "https://pythonprogramming.net/flask-homepage-completed/\n",
      "https://pythonprogramming.net/flask-send-file-tutorial/\n",
      "https://pythonprogramming.net/data-analysis-tutorials/\n",
      "https://pythonprogramming.net/mpi4py-size-command-mpi/\n",
      "https://pythonprogramming.net/shuffling-data-learning/\n",
      "https://pythonprogramming.net/pygame-crashing-objects/\n",
      "https://pythonprogramming.net/basic-gui-pyqt-tutorial/\n",
      "https://pythonprogramming.net/check-box-pyqt-tutorial/\n",
      "https://pythonprogramming.net/website-scraping-basics/\n",
      "https://pythonprogramming.net/populating-nlp-database/\n",
      "https://pythonprogramming.net/pandas-basics-sentiment/\n",
      "https://pythonprogramming.net/sentiment-analysis-data/\n",
      "https://pythonprogramming.net/dynamic-moving-averages/\n",
      "https://pythonprogramming.net/more-analysis-sentiment/\n",
      "https://pythonprogramming.net/checking-bettor-results/\n",
      "https://pythonprogramming.net/comparing-profitability/\n",
      "https://pythonprogramming.net/website-home-page-flask/\n",
      "https://pythonprogramming.net/crontab-tutorial-basics/\n",
      "https://pythonprogramming.net/flask-includes-tutorial/\n",
      "https://pythonprogramming.net/python-3-loop-tutorial/\n",
      "https://pythonprogramming.net/else-python-3-tutorial/\n",
      "https://pythonprogramming.net/global-local-variables/\n",
      "https://pythonprogramming.net/python-lists-vs-tuples/\n",
      "https://pythonprogramming.net/storing-found-patterns/\n",
      "https://pythonprogramming.net/pygame-button-function/\n",
      "https://pythonprogramming.net/web-development-python/\n",
      "https://pythonprogramming.net/flask-template-extends/\n",
      "https://pythonprogramming.net/wireframe-graph-python/\n",
      "https://pythonprogramming.net/kivy-language-tutorial/\n",
      "https://pythonprogramming.net/scraping-text-websites/\n",
      "https://pythonprogramming.net/what-next-nlp-tutorial/\n",
      "https://pythonprogramming.net/stemming-nltk-tutorial/\n",
      "https://pythonprogramming.net/chunking-nltk-tutorial/\n",
      "https://pythonprogramming.net/chinking-nltk-tutorial/\n",
      "https://pythonprogramming.net/connecting-with-quandl/\n",
      "https://pythonprogramming.net/interactive-tutorials/\n",
      "https://pythonprogramming.net/testing-supercomputer/\n",
      "https://pythonprogramming.net/mysql-insert-variable/\n",
      "https://pythonprogramming.net/percent-change-python/\n",
      "https://pythonprogramming.net/buttons-pyqt-tutorial/\n",
      "https://pythonprogramming.net/menubar-pyqt-tutorial/\n",
      "https://pythonprogramming.net/toolbar-pyqt-tutorial/\n",
      "https://pythonprogramming.net/multiple-opengl-cubes/\n",
      "https://pythonprogramming.net/basemap-possibilities/\n",
      "https://pythonprogramming.net/kivy-loader-for-style/\n",
      "https://pythonprogramming.net/adding-trading-option/\n",
      "https://pythonprogramming.net/back-testing-nlp-nltk/\n",
      "https://pythonprogramming.net/wordnet-nltk-tutorial/\n",
      "https://pythonprogramming.net/jquery-flask-tutorial/\n",
      "https://pythonprogramming.net/paypal-flask-tutorial/\n",
      "https://pythonprogramming.net/python-eval-tutorial/\n",
      "https://pythonprogramming.net/python-exec-tutorial/\n",
      "https://pythonprogramming.net/changing-pygame-icon/\n",
      "https://pythonprogramming.net/more-stock-screening/\n",
      "https://pythonprogramming.net/simple-strategy-idea/\n",
      "https://pythonprogramming.net/sentiment-conclusion/\n",
      "https://pythonprogramming.net/graphing-monte-carlo/\n",
      "https://pythonprogramming.net/flask-user-dashboard/\n",
      "https://pythonprogramming.net/flash-flask-tutorial/\n",
      "https://pythonprogramming.net/flask-users-tutorial/\n",
      "https://pythonprogramming.net/flask-cms-conclusion/\n",
      "https://pythonprogramming.net/flask-email-tutorial/\n",
      "https://pythonprogramming.net/question_incorrect_/\n",
      "https://pythonprogramming.net/graph-user-tracking/\n",
      "https://pythonprogramming.net/sys-module-python-3/\n",
      "https://pythonprogramming.net/supercomputer-intro/\n",
      "https://pythonprogramming.net/python-pixel-arrays/\n",
      "https://pythonprogramming.net/kivy-widgets-labels/\n",
      "https://pythonprogramming.net/price-to-book-ratio/\n",
      "https://pythonprogramming.net/martingale-strategy/\n",
      "https://pythonprogramming.net/navigating-terminal/\n",
      "https://pythonprogramming.net/terminal-navigation/\n",
      "https://pythonprogramming.net/challenge_attempt_/\n",
      "https://pythonprogramming.net/robotics-tutorials/\n",
      "https://pythonprogramming.net/parsememcparseface/\n",
      "https://pythonprogramming.net/python-3-os-module/\n",
      "https://pythonprogramming.net/more-kivy-language/\n",
      "https://pythonprogramming.net/adding-exchanges-2/\n",
      "https://pythonprogramming.net/adding-exchanges-3/\n",
      "https://pythonprogramming.net/dalembert-strategy/\n",
      "https://pythonprogramming.net/dalembert-analysis/\n",
      "https://pythonprogramming.net/monte-carlo-python/\n",
      "https://pythonprogramming.net/testing-labouchere/\n",
      "https://pythonprogramming.net/flask-seo-tutorial/\n",
      "https://pythonprogramming.net/question_correct_/\n",
      "https://pythonprogramming.net/finance-tutorials/\n",
      "https://pythonprogramming.net/using-quandl-data/\n",
      "https://pythonprogramming.net/pause-game-pygame/\n",
      "https://pythonprogramming.net/image-recognition/\n",
      "https://pythonprogramming.net/more-pixel-arrays/\n",
      "https://pythonprogramming.net/saving-image-data/\n",
      "https://pythonprogramming.net/kivy-float-layout/\n",
      "https://pythonprogramming.net/cron-tutorial-vps/\n",
      "https://pythonprogramming.net/background_tasks/\n",
      "https://pythonprogramming.net/guided-tutorials/\n",
      "https://pythonprogramming.net/python-vps-intro/\n",
      "https://pythonprogramming.net/forgot-password/\n",
      "https://pythonprogramming.net/support-us-info/\n",
      "https://pythonprogramming.net/flask-bootstrap/\n",
      "https://pythonprogramming.net/python-anywhere/\n",
      "https://pythonprogramming.net/reset-password/\n",
      "https://pythonprogramming.net/support-donate/\n",
      "https://pythonprogramming.net/making-modules/\n",
      "https://pythonprogramming.net/python-sockets/\n",
      "https://pythonprogramming.net/organizing-gui/\n",
      "https://pythonprogramming.net/pygal-tutorial/\n",
      "https://pythonprogramming.net/data-analysis/\n",
      "https://pythonprogramming.net/simple-bettor/\n",
      "https://pythonprogramming.net/nohup-command/\n",
      "https://pythonprogramming.net/raspberry-pi/\n",
      "https://pythonprogramming.net/_add_numbers\n",
      "https://pythonprogramming.net/sitemap.xml\n",
      "https://pythonprogramming.net/mysql-intro/\n",
      "https://pythonprogramming.net/robots.txt/\n",
      "https://pythonprogramming.net/consulting/\n",
      "https://pythonprogramming.net/50-50-odds/\n",
      "https://pythonprogramming.net/pagination/\n",
      "https://pythonprogramming.net/community/\n",
      "https://pythonprogramming.net/dashboard/\n",
      "https://pythonprogramming.net/storedev/\n",
      "https://pythonprogramming.net/register\n",
      "https://pythonprogramming.net/register/\n",
      "https://pythonprogramming.net/welcome/\n",
      "https://pythonprogramming.net/contact/\n",
      "https://pythonprogramming.net/search/\n",
      "https://pythonprogramming.net/logout/\n",
      "https://pythonprogramming.net/topics/\n",
      "https://pythonprogramming.net/store/\n",
      "https://pythonprogramming.net/login/\n",
      "https://pythonprogramming.net/begin/\n",
      "https://pythonprogramming.net/about/\n",
      "https://pythonprogramming.net/blog/\n",
      "https://pythonprogramming.net/user/\n",
      "https://pythonprogramming.net/+=1/\n",
      "https://pythonprogramming.net/db2/\n",
      "https://pythonprogramming.net/qe/\n",
      "https://pythonprogramming.net/\n"
     ]
    }
   ],
   "source": [
    "for each in xml_soup.findAll('loc'):\n",
    "    print each.text"
   ]
  },
  {
   "cell_type": "code",
   "execution_count": 23,
   "metadata": {
    "collapsed": false
   },
   "outputs": [
    {
     "name": "stdout",
     "output_type": "stream",
     "text": [
      "<html>\n",
      " <head>\n",
      "  <title>\n",
      "   The Dormouse's story\n",
      "  </title>\n",
      " </head>\n",
      " <body>\n",
      "  <p class=\"title\">\n",
      "   <b>\n",
      "    The Dormouse's story\n",
      "   </b>\n",
      "  </p>\n",
      "  <p class=\"story\">\n",
      "   Once upon a time there were three little sisters; and their names were\n",
      "   <a class=\"sister\" href=\"http://example.com/elsie\" id=\"link1\">\n",
      "    Elsie\n",
      "   </a>\n",
      "   ,\n",
      "   <a class=\"sister\" href=\"http://example.com/lacie\" id=\"link2\">\n",
      "    Lacie\n",
      "   </a>\n",
      "   and\n",
      "   <a class=\"sister\" href=\"http://example.com/tillie\" id=\"link3\">\n",
      "    Tillie\n",
      "   </a>\n",
      "   ;\n",
      "and they lived at the bottom of a well.\n",
      "  </p>\n",
      "  <p class=\"story\">\n",
      "   ...\n",
      "  </p>\n",
      " </body>\n",
      "</html>\n"
     ]
    }
   ],
   "source": [
    "html_doc = \"\"\"\n",
    "<html><head><title>The Dormouse's story</title></head>\n",
    "<body>\n",
    "<p class=\"title\"><b>The Dormouse's story</b></p>\n",
    "\n",
    "<p class=\"story\">Once upon a time there were three little sisters; and their names were\n",
    "<a href=\"http://example.com/elsie\" class=\"sister\" id=\"link1\">Elsie</a>,\n",
    "<a href=\"http://example.com/lacie\" class=\"sister\" id=\"link2\">Lacie</a> and\n",
    "<a href=\"http://example.com/tillie\" class=\"sister\" id=\"link3\">Tillie</a>;\n",
    "and they lived at the bottom of a well.</p>\n",
    "\n",
    "<p class=\"story\">...</p>\n",
    "\"\"\"\n",
    "from bs4 import BeautifulSoup\n",
    "soup = BeautifulSoup(html_doc, 'html.parser')\n",
    "\n",
    "print(soup.prettify())"
   ]
  },
  {
   "cell_type": "code",
   "execution_count": 24,
   "metadata": {
    "collapsed": false
   },
   "outputs": [
    {
     "data": {
      "text/plain": [
       "<head><title>The Dormouse's story</title></head>"
      ]
     },
     "execution_count": 24,
     "metadata": {},
     "output_type": "execute_result"
    }
   ],
   "source": [
    "head_tag = soup.head\n",
    "head_tag"
   ]
  },
  {
   "cell_type": "code",
   "execution_count": 25,
   "metadata": {
    "collapsed": false
   },
   "outputs": [
    {
     "data": {
      "text/plain": [
       "[<title>The Dormouse's story</title>]"
      ]
     },
     "execution_count": 25,
     "metadata": {},
     "output_type": "execute_result"
    }
   ],
   "source": [
    "head_tag.contents"
   ]
  },
  {
   "cell_type": "code",
   "execution_count": 26,
   "metadata": {
    "collapsed": false
   },
   "outputs": [
    {
     "data": {
      "text/plain": [
       "<title>The Dormouse's story</title>"
      ]
     },
     "execution_count": 26,
     "metadata": {},
     "output_type": "execute_result"
    }
   ],
   "source": [
    "title_tag = head_tag.contents[0]\n",
    "title_tag"
   ]
  },
  {
   "cell_type": "code",
   "execution_count": 27,
   "metadata": {
    "collapsed": false
   },
   "outputs": [
    {
     "data": {
      "text/plain": [
       "[u\"The Dormouse's story\"]"
      ]
     },
     "execution_count": 27,
     "metadata": {},
     "output_type": "execute_result"
    }
   ],
   "source": [
    "title_tag.contents"
   ]
  },
  {
   "cell_type": "code",
   "execution_count": 30,
   "metadata": {
    "collapsed": false
   },
   "outputs": [
    {
     "data": {
      "text/plain": [
       "2"
      ]
     },
     "execution_count": 30,
     "metadata": {},
     "output_type": "execute_result"
    }
   ],
   "source": [
    "len(soup.contents)"
   ]
  },
  {
   "cell_type": "code",
   "execution_count": 34,
   "metadata": {
    "collapsed": false
   },
   "outputs": [
    {
     "data": {
      "text/plain": [
       "<html><head><title>The Dormouse's story</title></head>\\n<body>\\n<p class=\"title\"><b>The Dormouse's story</b></p>\\n<p class=\"story\">Once upon a time there were three little sisters; and their names were\\n<a class=\"sister\" href=\"http://example.com/elsie\" id=\"link1\">Elsie</a>,\\n<a class=\"sister\" href=\"http://example.com/lacie\" id=\"link2\">Lacie</a> and\\n<a class=\"sister\" href=\"http://example.com/tillie\" id=\"link3\">Tillie</a>;\\nand they lived at the bottom of a well.</p>\\n<p class=\"story\">...</p>\\n</body></html>"
      ]
     },
     "execution_count": 34,
     "metadata": {},
     "output_type": "execute_result"
    }
   ],
   "source": [
    "soup.contents[1]"
   ]
  },
  {
   "cell_type": "code",
   "execution_count": 35,
   "metadata": {
    "collapsed": false
   },
   "outputs": [
    {
     "data": {
      "text/plain": [
       "<title>The Dormouse's story</title>"
      ]
     },
     "execution_count": 35,
     "metadata": {},
     "output_type": "execute_result"
    }
   ],
   "source": [
    "title_tag = soup.title\n",
    "title_tag"
   ]
  },
  {
   "cell_type": "code",
   "execution_count": 51,
   "metadata": {
    "collapsed": false
   },
   "outputs": [
    {
     "name": "stdout",
     "output_type": "stream",
     "text": [
      "<head><title>The Dormouse's story</title></head>\n",
      "<title>The Dormouse's story</title>\n"
     ]
    }
   ],
   "source": [
    "print title_tag.parent\n",
    "print title_tag.string.parent"
   ]
  },
  {
   "cell_type": "code",
   "execution_count": null,
   "metadata": {
    "collapsed": true
   },
   "outputs": [],
   "source": []
  }
 ],
 "metadata": {
  "kernelspec": {
   "display_name": "Python 2",
   "language": "python",
   "name": "python2"
  },
  "language_info": {
   "codemirror_mode": {
    "name": "ipython",
    "version": 2
   },
   "file_extension": ".py",
   "mimetype": "text/x-python",
   "name": "python",
   "nbconvert_exporter": "python",
   "pygments_lexer": "ipython2",
   "version": "2.7.12"
  }
 },
 "nbformat": 4,
 "nbformat_minor": 0
}
