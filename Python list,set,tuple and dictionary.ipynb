{
 "cells": [
  {
   "cell_type": "markdown",
   "metadata": {},
   "source": [
    "### LISTS :"
   ]
  },
  {
   "cell_type": "code",
   "execution_count": 14,
   "metadata": {
    "collapsed": true
   },
   "outputs": [],
   "source": [
    "list1=['a','b','c','d']\n",
    "list2=[1,2,3,4]"
   ]
  },
  {
   "cell_type": "code",
   "execution_count": 17,
   "metadata": {
    "collapsed": false
   },
   "outputs": [
    {
     "name": "stdout",
     "output_type": "stream",
     "text": [
      "a\n",
      "b\n",
      "c\n",
      "d\n"
     ]
    }
   ],
   "source": [
    "for each in list1:\n",
    "    print each"
   ]
  },
  {
   "cell_type": "code",
   "execution_count": 5,
   "metadata": {
    "collapsed": false
   },
   "outputs": [
    {
     "name": "stdout",
     "output_type": "stream",
     "text": [
      "[1, 2, 3, [4, 5]]\n",
      "[1, 2, 3, [4, 5], 6, 7]\n",
      "[1, 2, 3, [4, 5], 6, 7, '8']\n",
      "[1, 2, 3, [4, 5], 6, 7, '8', {'a': {'a': 2}}]\n",
      "[1, 2, 3, [4, 5], 6, 7, '8', {'a': {'a': 2}}, 'a']\n",
      "[1, 2, 3, [4, 5], 6, 7, '8', {'a': {'a': 2}}, 'a', (1, 2, 3)]\n",
      "[1, 2, 3, [4, 5], 6, 7, '8', {'a': {'a': 2}}, 'a', (1, 2, 3), 4, 5, 6]\n",
      "[1, 2, 3, [4, 5], 6, 7, '8', {'a': {'a': 2}}, 'a', (1, 2, 3), 4, 5, 6, 'abcd', {'a': 2}]\n",
      "[1, 2, 3, [4, 5], 6, 7, '8', {'a': {'a': 2}}, 'a', (1, 2, 3), 4, 5, 6, 'abcd', {'a': 2}, [1, 2, 3, 4, 5], {'dsd': 23}]\n",
      "[1, 2, 3, [4, 5], 6, 7, '8', {'a': {'a': 2}}, 'a', (1, 2, 3), 4, 5, 6, 'abcd', {'a': 2}, [1, 2, 3, 4, 5], {'dsd': 23}, 'efgh', 'gh']\n"
     ]
    }
   ],
   "source": [
    "#list append vs extend\n",
    "x = [1, 2, 3]\n",
    "x.append([4, 5])\n",
    "print (x)\n",
    "x.extend([6, 7])\n",
    "print (x)\n",
    "x.extend('8')\n",
    "print (x)\n",
    "x.append({'a':{'a':2}})\n",
    "print (x)\n",
    "x.extend({'a':2})\n",
    "print (x)\n",
    "x.append((1,2,3))\n",
    "print (x)\n",
    "x.extend((4,5,6))\n",
    "print (x)\n",
    "x.extend(('abcd',{'a':2}))\n",
    "print (x)\n",
    "x.extend(([1,2,3,4,5],{'dsd':23}))\n",
    "print (x)\n",
    "x.extend(({'efgh':{'ef':2},\"gh\":1}))\n",
    "print (x)"
   ]
  },
  {
   "cell_type": "code",
   "execution_count": 5,
   "metadata": {
    "collapsed": false
   },
   "outputs": [
    {
     "name": "stdout",
     "output_type": "stream",
     "text": [
      "The first occurrence of 3 after 3rd position is : \n",
      "5\n",
      "The number of occurrences of 3 is : \n",
      "2\n"
     ]
    }
   ],
   "source": [
    "# Python code to demonstrate the working of\n",
    "# index() and count()\n",
    "# initializing list 1\n",
    "lis = [2, 1, 3, 5, 4, 3]\n",
    " \n",
    "# using index() to print first occurrence of 3\n",
    "# prints 5\n",
    "print (\"The first occurrence of 3 after 3rd position is : \")\n",
    "print (lis.index(3,3))\n",
    " \n",
    "# using count() to count number of occurrence of 3\n",
    "print (\"The number of occurrences of 3 is : \")\n",
    "print (lis.count(3))"
   ]
  },
  {
   "cell_type": "code",
   "execution_count": 2,
   "metadata": {
    "collapsed": false
   },
   "outputs": [
    {
     "name": "stdout",
     "output_type": "stream",
     "text": [
      "[1, 2, 3, 4, 5, 6, 7, 8, 9, 10]\n",
      "[2, 3, 4, 5]\n",
      "[6, 7, 8]\n",
      "[2, 3, 4, 5, 6, 7, 8, 9, 10]\n",
      "[1, 2, 3, 4, 5]\n",
      "[2, 4, 6, 8]\n",
      "[10, 9, 8, 7, 6, 5, 4, 3, 2, 1]\n",
      "[10, 8, 6]\n"
     ]
    }
   ],
   "source": [
    "# Let us first create a list to demonstrate slicing\n",
    "# lst contains all number from 1 to 10\n",
    "lst = range(1, 11) #[1, 2, 3, 4, 5, 6, 7, 8, 9, 10]\n",
    "print lst\n",
    "\n",
    "#  below list has numbers from 2 to 5\n",
    "lst1_5 = lst[1 : 5]\n",
    "print lst1_5\n",
    "\n",
    "#  below list has numbers from 6 to 8\n",
    "lst5_8 = lst[5 : 8]\n",
    "print lst5_8\n",
    "\n",
    "#  below list has numbers from 2 to 10\n",
    "lst1_ = lst[1 : ]\n",
    "print lst1_\n",
    "\n",
    "#  below list has numbers from 1 to 5\n",
    "lst_5 = lst[: 5]\n",
    "print lst_5\n",
    "\n",
    "#  below list has numbers from 2 to 8 in step 2\n",
    "lst1_8_2 = lst[1 : 8 : 2]\n",
    "print lst1_8_2\n",
    "\n",
    "#  below list has numbers from 10 to 1\n",
    "lst_rev = lst[ : : -1]\n",
    "print lst_rev\n",
    "\n",
    "#  below list has numbers from 10 to 6 in step 2\n",
    "lst_rev_9_5_2 = lst[9 : 4 : -2]\n",
    "print lst_rev_9_5_2"
   ]
  },
  {
   "cell_type": "code",
   "execution_count": 20,
   "metadata": {
    "collapsed": false
   },
   "outputs": [
    {
     "data": {
      "text/plain": [
       "[{'outer_key': {'inner_key1': 'a', 'inner_key2': 'b'},\n",
       "  'outer_key2': {'inner_key3': 'c', 'inner_key4': 'd'}},\n",
       " 2,\n",
       " (7, 8, 9, 5),\n",
       " {1, 2, 3}]"
      ]
     },
     "execution_count": 20,
     "metadata": {},
     "output_type": "execute_result"
    }
   ],
   "source": [
    "a=[{'outer_key':{'inner_key1':'a','inner_key2': 'b'},'outer_key2':{'inner_key3':'c','inner_key4': 'd'}},2,(7,8,9,5),{1,2,3}]\n",
    "a"
   ]
  },
  {
   "cell_type": "code",
   "execution_count": 33,
   "metadata": {
    "collapsed": false
   },
   "outputs": [
    {
     "name": "stdout",
     "output_type": "stream",
     "text": [
      "[('outer_key', {'inner_key2': 'b', 'inner_key1': 'a'}), ('outer_key2', {'inner_key4': 'd', 'inner_key3': 'c'})]\n",
      "a\n"
     ]
    }
   ],
   "source": [
    "print a[0].items()\n",
    "print a[0].items()[0][1]['inner_key1']"
   ]
  },
  {
   "cell_type": "code",
   "execution_count": 32,
   "metadata": {
    "collapsed": false
   },
   "outputs": [
    {
     "name": "stdout",
     "output_type": "stream",
     "text": [
      "[{'inner_key2': 'b', 'inner_key1': 'a'}, {'inner_key4': 'd', 'inner_key3': 'c'}]\n",
      "a\n"
     ]
    }
   ],
   "source": [
    "print a[0].values()\n",
    "print a[0].values()[0]['inner_key1']"
   ]
  },
  {
   "cell_type": "code",
   "execution_count": 45,
   "metadata": {
    "collapsed": false
   },
   "outputs": [
    {
     "name": "stdout",
     "output_type": "stream",
     "text": [
      "{'inner_key2': 'b', 'inner_key1': 'a'}\n",
      "a\n"
     ]
    }
   ],
   "source": [
    "print a[0]['outer_key']\n",
    "print a[0]['outer_key']['inner_key1']"
   ]
  },
  {
   "cell_type": "code",
   "execution_count": 46,
   "metadata": {
    "collapsed": false
   },
   "outputs": [
    {
     "data": {
      "text/plain": [
       "((1, 2, 3), 4)"
      ]
     },
     "execution_count": 46,
     "metadata": {},
     "output_type": "execute_result"
    }
   ],
   "source": [
    "s=((1,2,3),4)\n",
    "s"
   ]
  },
  {
   "cell_type": "code",
   "execution_count": 47,
   "metadata": {
    "collapsed": false,
    "scrolled": true
   },
   "outputs": [
    {
     "data": {
      "text/plain": [
       "[{'outer_key1': {'inner_key1': 'a', 'inner_key2': 'b'},\n",
       "  'outer_key2': {1, 2, 3, 4, 5}}]"
      ]
     },
     "execution_count": 47,
     "metadata": {},
     "output_type": "execute_result"
    }
   ],
   "source": [
    "a=[{'outer_key1':{'inner_key1':'a','inner_key2': 'b'},'outer_key2':{1,2,3,4,5}}]\n",
    "a"
   ]
  },
  {
   "cell_type": "code",
   "execution_count": 48,
   "metadata": {
    "collapsed": false
   },
   "outputs": [
    {
     "name": "stdout",
     "output_type": "stream",
     "text": [
      "1\n",
      "2\n",
      "3\n"
     ]
    }
   ],
   "source": [
    "for each in a[0]['outer_key2']:\n",
    "    print each\n",
    "    if each ==3:\n",
    "        break"
   ]
  },
  {
   "cell_type": "code",
   "execution_count": 12,
   "metadata": {
    "collapsed": false
   },
   "outputs": [
    {
     "name": "stdout",
     "output_type": "stream",
     "text": [
      "[{'a': [1, 2, 3], 'b': [4, 5, 6]}, 7, 8]\n"
     ]
    },
    {
     "data": {
      "text/plain": [
       "[2, 5]"
      ]
     },
     "execution_count": 12,
     "metadata": {},
     "output_type": "execute_result"
    }
   ],
   "source": [
    "a=[{'a':[1,2,3],'b':[4,5,6]},7,8]\n",
    "print a\n",
    "[each[1] for each in a[0].values()]"
   ]
  },
  {
   "cell_type": "markdown",
   "metadata": {},
   "source": [
    "### Dictionary:"
   ]
  },
  {
   "cell_type": "markdown",
   "metadata": {},
   "source": [
    "http://www.python-course.eu/dictionaries.php"
   ]
  },
  {
   "cell_type": "markdown",
   "metadata": {},
   "source": [
    "The hash table implementation of dictionaries uses a hash value calculated from the key value to find the key. If the key were a mutable object, its value could change, and thus its hash could also change."
   ]
  },
  {
   "cell_type": "code",
   "execution_count": 40,
   "metadata": {
    "collapsed": false
   },
   "outputs": [
    {
     "name": "stdout",
     "output_type": "stream",
     "text": [
      "{0: 'A', 1: 'B', 2: 'C', 3: 'D'}\n",
      "[3, 2, 1, 0]\n"
     ]
    }
   ],
   "source": [
    "T = ('A', 'B', 'C', 'D')\n",
    "d=dict(enumerate(T))\n",
    "print d\n",
    "print sorted(d, reverse=True)"
   ]
  },
  {
   "cell_type": "code",
   "execution_count": 7,
   "metadata": {
    "collapsed": false
   },
   "outputs": [
    {
     "name": "stdout",
     "output_type": "stream",
     "text": [
      "{(1, 2, 3): 'abc'}\n"
     ]
    },
    {
     "ename": "TypeError",
     "evalue": "unhashable type: 'list'",
     "output_type": "error",
     "traceback": [
      "\u001b[1;31m---------------------------------------------------------------------------\u001b[0m",
      "\u001b[1;31mTypeError\u001b[0m                                 Traceback (most recent call last)",
      "\u001b[1;32m<ipython-input-7-ada09eba2e4d>\u001b[0m in \u001b[0;36m<module>\u001b[1;34m()\u001b[0m\n\u001b[0;32m      2\u001b[0m \u001b[0mdic_key_tup\u001b[0m \u001b[1;33m=\u001b[0m \u001b[1;33m{\u001b[0m\u001b[1;33m(\u001b[0m\u001b[1;36m1\u001b[0m\u001b[1;33m,\u001b[0m\u001b[1;36m2\u001b[0m\u001b[1;33m,\u001b[0m\u001b[1;36m3\u001b[0m\u001b[1;33m)\u001b[0m\u001b[1;33m:\u001b[0m\u001b[1;34m\"abc\"\u001b[0m\u001b[1;33m}\u001b[0m\u001b[1;33m\u001b[0m\u001b[0m\n\u001b[0;32m      3\u001b[0m \u001b[1;32mprint\u001b[0m \u001b[0mdic_key_tup\u001b[0m\u001b[1;33m\u001b[0m\u001b[0m\n\u001b[1;32m----> 4\u001b[1;33m \u001b[0mdic_key_list\u001b[0m \u001b[1;33m=\u001b[0m \u001b[1;33m{\u001b[0m\u001b[1;33m[\u001b[0m\u001b[1;36m1\u001b[0m\u001b[1;33m,\u001b[0m\u001b[1;36m2\u001b[0m\u001b[1;33m,\u001b[0m\u001b[1;36m3\u001b[0m\u001b[1;33m]\u001b[0m\u001b[1;33m:\u001b[0m\u001b[1;34m\"abc\"\u001b[0m\u001b[1;33m}\u001b[0m\u001b[1;33m\u001b[0m\u001b[0m\n\u001b[0m\u001b[0;32m      5\u001b[0m \u001b[1;32mprint\u001b[0m \u001b[0mdic_key_list\u001b[0m\u001b[1;33m\u001b[0m\u001b[0m\n",
      "\u001b[1;31mTypeError\u001b[0m: unhashable type: 'list'"
     ]
    }
   ],
   "source": [
    "#Mutable datatype(list,set) cannot be used as a key in dict..immutable data types can be used\n",
    "dic_key_tup = {(1,2,3):\"abc\"}\n",
    "print dic_key_tup\n",
    "dic_key_list = {[1,2,3]:\"abc\"}\n",
    "print dic_key_list"
   ]
  },
  {
   "cell_type": "code",
   "execution_count": 53,
   "metadata": {
    "collapsed": false
   },
   "outputs": [
    {
     "data": {
      "text/plain": [
       "'abc'"
      ]
     },
     "execution_count": 53,
     "metadata": {},
     "output_type": "execute_result"
    }
   ],
   "source": [
    "dic_key_tup[(1,2,3)] "
   ]
  },
  {
   "cell_type": "code",
   "execution_count": 44,
   "metadata": {
    "collapsed": false
   },
   "outputs": [],
   "source": [
    "keys = ['k1', 'k2', 'k3', 'k4']\n",
    "data = [1, 2, 3, 4,[10,5]]"
   ]
  },
  {
   "cell_type": "code",
   "execution_count": 45,
   "metadata": {
    "collapsed": false
   },
   "outputs": [
    {
     "name": "stdout",
     "output_type": "stream",
     "text": [
      "dictionary contains : {'k3': 3, 'k2': 2, 'k1': 1, 'k4': 4}\n",
      "List of tuples: [('k3', 3), ('k2', 2), ('k1', 1), ('k4', 4)]\n",
      "Keys inside dict: ['k3', 'k2', 'k1', 'k4']\n",
      "Values inside dict: [3, 2, 1, 4]\n"
     ]
    }
   ],
   "source": [
    "d=dict(zip(keys,data))\n",
    "print \"dictionary contains : %s\" %(str(d))\n",
    "print \"List of tuples: %s\" %(str(d.items())) #.items() will always return list of tuples\n",
    "print \"Keys inside dict: %s\" %(str(d.keys())) #keys() will always return list\n",
    "print \"Values inside dict: %s\" %(str(d.values())) #values is same as keys()"
   ]
  },
  {
   "cell_type": "code",
   "execution_count": 46,
   "metadata": {
    "collapsed": false
   },
   "outputs": [
    {
     "name": "stdout",
     "output_type": "stream",
     "text": [
      "{'k3': 3, 'k2': 2, 'k1': 1, 'k4': 4}\n"
     ]
    }
   ],
   "source": [
    "#or\n",
    "a={}\n",
    "for each in range(len(keys)):\n",
    "    a[keys[each]] = data[each]\n",
    "    \n",
    "print a"
   ]
  },
  {
   "cell_type": "code",
   "execution_count": 47,
   "metadata": {
    "collapsed": false
   },
   "outputs": [
    {
     "name": "stdout",
     "output_type": "stream",
     "text": [
      "k3 3\n",
      "k2 2\n",
      "k1 1\n",
      "k4 4\n"
     ]
    }
   ],
   "source": [
    "for key,values in a.items():\n",
    "    print key,values"
   ]
  },
  {
   "cell_type": "code",
   "execution_count": 48,
   "metadata": {
    "collapsed": false
   },
   "outputs": [
    {
     "data": {
      "text/plain": [
       "{'k1': 1, 'k2': 2, 'k3': 3, 'k4': 4, 'k5': 5}"
      ]
     },
     "execution_count": 48,
     "metadata": {},
     "output_type": "execute_result"
    }
   ],
   "source": [
    "a['k5']=5\n",
    "a"
   ]
  },
  {
   "cell_type": "code",
   "execution_count": 90,
   "metadata": {
    "collapsed": false
   },
   "outputs": [
    {
     "data": {
      "text/plain": [
       "{'k1': 1, 'k2': 2, 'k3': 3, 'k4': 4, 'k6': 11}"
      ]
     },
     "execution_count": 90,
     "metadata": {},
     "output_type": "execute_result"
    }
   ],
   "source": [
    "a.update({'k6' :11})\n",
    "a"
   ]
  },
  {
   "cell_type": "code",
   "execution_count": 50,
   "metadata": {
    "collapsed": false
   },
   "outputs": [
    {
     "data": {
      "text/plain": [
       "{'k1': 1, 'k2': 2, 'k3': 3, 'k4': 4, 'k5': 5, 'k7': 77}"
      ]
     },
     "execution_count": 50,
     "metadata": {},
     "output_type": "execute_result"
    }
   ],
   "source": [
    "a.setdefault('k7',77)\n",
    "a"
   ]
  },
  {
   "cell_type": "code",
   "execution_count": 54,
   "metadata": {
    "collapsed": false
   },
   "outputs": [
    {
     "name": "stdout",
     "output_type": "stream",
     "text": [
      "77\n"
     ]
    }
   ],
   "source": [
    "print a.get('k7',None)"
   ]
  },
  {
   "cell_type": "code",
   "execution_count": 15,
   "metadata": {
    "collapsed": false
   },
   "outputs": [
    {
     "data": {
      "text/plain": [
       "{'k1': 1, 'k2': 2, 'k3': 3, 'k4': 4}"
      ]
     },
     "execution_count": 15,
     "metadata": {},
     "output_type": "execute_result"
    }
   ],
   "source": [
    "del a['k5']\n",
    "a"
   ]
  },
  {
   "cell_type": "code",
   "execution_count": 97,
   "metadata": {
    "collapsed": false,
    "scrolled": true
   },
   "outputs": [
    {
     "name": "stdout",
     "output_type": "stream",
     "text": [
      "Name is a key\n",
      "The value associated with ID is : \n",
      "Not Present\n",
      "No ID\n",
      "The dictionary values are : \n",
      "{'Age': 19, 'Name': 'Nandini', 'ID': 'No ID'}\n"
     ]
    }
   ],
   "source": [
    "# Python code to demonstrate working of\n",
    "# has_key() and get()\n",
    " \n",
    "# Initializing dictionary\n",
    "dict = { 'Name' : 'Nandini', 'Age' : 19 }\n",
    " \n",
    "# using has_key() to check if dic1 has a key\n",
    "if dict.has_key('Name'):\n",
    "       print (\"Name is a key\")\n",
    "else : print (\"Name is not a key\")\n",
    "\n",
    "# using get() to print a key value\n",
    "print (\"The value associated with ID is : \")\n",
    "print (dict.get('ID', \"Not Present\"))\n",
    "\n",
    "#addig Id field using setdefault\n",
    "print (dict.setdefault('ID', \"No ID\"))\n",
    "# printing dictionary values\n",
    "print (\"The dictionary values are : \")\n",
    "print (str(dict))"
   ]
  },
  {
   "cell_type": "code",
   "execution_count": 97,
   "metadata": {
    "collapsed": false
   },
   "outputs": [
    {
     "data": {
      "text/plain": [
       "{'blue': 1, 'green': 2, 'orange': 1, 'red': 3}"
      ]
     },
     "execution_count": 97,
     "metadata": {},
     "output_type": "execute_result"
    }
   ],
   "source": [
    "# Dictionary counting\n",
    "colors=['red','green','orange','blue','red','green','red']\n",
    "d={}\n",
    "for color in colors:\n",
    "    if color not in d:\n",
    "        d[color]=0\n",
    "    d[color]+=1\n",
    "d"
   ]
  },
  {
   "cell_type": "code",
   "execution_count": 5,
   "metadata": {
    "collapsed": false
   },
   "outputs": [
    {
     "data": {
      "text/plain": [
       "{'blue': 1, 'green': 2, 'orange': 1, 'red': 3}"
      ]
     },
     "execution_count": 5,
     "metadata": {},
     "output_type": "execute_result"
    }
   ],
   "source": [
    "d={}\n",
    "for color in colors:\n",
    "    d[color]=d.get(color,0)+1\n",
    "    \n",
    "d"
   ]
  },
  {
   "cell_type": "code",
   "execution_count": 98,
   "metadata": {
    "collapsed": false
   },
   "outputs": [
    {
     "data": {
      "text/plain": [
       "defaultdict(int, {'blue': 1, 'green': 2, 'orange': 1, 'red': 3})"
      ]
     },
     "execution_count": 98,
     "metadata": {},
     "output_type": "execute_result"
    }
   ],
   "source": [
    "import collections\n",
    "d=collections.defaultdict(int)\n",
    "for color in colors:\n",
    "    d[color]+=1\n",
    "d"
   ]
  },
  {
   "cell_type": "code",
   "execution_count": 103,
   "metadata": {
    "collapsed": true
   },
   "outputs": [],
   "source": [
    "#grouping\n",
    "names=['raymond','rachel','mathew','roger','betty','melissa','judith','charlie']"
   ]
  },
  {
   "cell_type": "code",
   "execution_count": 104,
   "metadata": {
    "collapsed": false
   },
   "outputs": [
    {
     "data": {
      "text/plain": [
       "{5: ['roger', 'betty'],\n",
       " 6: ['rachel', 'mathew', 'judith'],\n",
       " 7: ['raymond', 'melissa', 'charlie']}"
      ]
     },
     "execution_count": 104,
     "metadata": {},
     "output_type": "execute_result"
    }
   ],
   "source": [
    "d={}\n",
    "for name in names:\n",
    "    key=len(name)\n",
    "    if key not in d:\n",
    "        d[key]=[]\n",
    "    d[key].append(name)\n",
    "d"
   ]
  },
  {
   "cell_type": "code",
   "execution_count": 106,
   "metadata": {
    "collapsed": false
   },
   "outputs": [
    {
     "data": {
      "text/plain": [
       "{5: ['roger', 'betty'],\n",
       " 6: ['rachel', 'mathew', 'judith'],\n",
       " 7: ['raymond', 'melissa', 'charlie']}"
      ]
     },
     "execution_count": 106,
     "metadata": {},
     "output_type": "execute_result"
    }
   ],
   "source": [
    "#or\n",
    "d={}\n",
    "for name in names:\n",
    "    key=len(name)\n",
    "    d.setdefault(key,[]).append(name)\n",
    "d"
   ]
  },
  {
   "cell_type": "code",
   "execution_count": 107,
   "metadata": {
    "collapsed": false
   },
   "outputs": [
    {
     "data": {
      "text/plain": [
       "defaultdict(list,\n",
       "            {5: ['roger', 'betty'],\n",
       "             6: ['rachel', 'mathew', 'judith'],\n",
       "             7: ['raymond', 'melissa', 'charlie']})"
      ]
     },
     "execution_count": 107,
     "metadata": {},
     "output_type": "execute_result"
    }
   ],
   "source": [
    "#or\n",
    "d=collections.defaultdict(list)\n",
    "for name in names:\n",
    "    key=len(name)\n",
    "    d[key].append(name)\n",
    "d"
   ]
  },
  {
   "cell_type": "code",
   "execution_count": 71,
   "metadata": {
    "collapsed": true
   },
   "outputs": [],
   "source": [
    "words=\"the clown ran after the car and the car ran into the tent and the tent fell down on the clown and the car\""
   ]
  },
  {
   "cell_type": "code",
   "execution_count": 9,
   "metadata": {
    "collapsed": false
   },
   "outputs": [
    {
     "data": {
      "text/plain": [
       "{'after': 1,\n",
       " 'and': 3,\n",
       " 'car': 3,\n",
       " 'clown': 2,\n",
       " 'down': 1,\n",
       " 'fell': 1,\n",
       " 'into': 1,\n",
       " 'on': 1,\n",
       " 'ran': 2,\n",
       " 'tent': 2,\n",
       " 'the': 7}"
      ]
     },
     "execution_count": 9,
     "metadata": {},
     "output_type": "execute_result"
    }
   ],
   "source": [
    "words=\"the clown ran after the car and the car ran into the tent and the tent fell down on the clown and the car\"\n",
    "count=dict()\n",
    "for word in words.split(\" \"):\n",
    "    if  word not in count:\n",
    "        count[word]=0\n",
    "    count[word]+=1\n",
    "count"
   ]
  },
  {
   "cell_type": "code",
   "execution_count": 10,
   "metadata": {
    "collapsed": false,
    "scrolled": true
   },
   "outputs": [
    {
     "data": {
      "text/plain": [
       "{'after': 1,\n",
       " 'and': 3,\n",
       " 'car': 3,\n",
       " 'clown': 2,\n",
       " 'down': 1,\n",
       " 'fell': 1,\n",
       " 'into': 1,\n",
       " 'on': 1,\n",
       " 'ran': 2,\n",
       " 'tent': 2,\n",
       " 'the': 7}"
      ]
     },
     "execution_count": 10,
     "metadata": {},
     "output_type": "execute_result"
    }
   ],
   "source": [
    "words=\"the clown ran after the car and the car ran into the tent and the tent fell down on the clown and the car\"\n",
    "count=dict()\n",
    "for word in words.split():\n",
    "    count[word]=count.get(word,0)+1\n",
    "count"
   ]
  },
  {
   "cell_type": "code",
   "execution_count": 84,
   "metadata": {
    "collapsed": false
   },
   "outputs": [
    {
     "name": "stdout",
     "output_type": "stream",
     "text": [
      "{'a': 12, 'ab': 14, 'ef': 15, 'cd': 45}\n",
      "Printing out the keys: ['a', 'ab', 'ef', 'cd']\n",
      "Printing out the keys after sorting based on keys: ['a', 'ab', 'cd', 'ef']\n"
     ]
    }
   ],
   "source": [
    "from operator import itemgetter\n",
    "dic={'a':12,'ab':14,'cd':45,'ef':15}\n",
    "print dic\n",
    "print \"Printing out the keys: \"+str(dic.keys()) #normal\n",
    "print \"Printing out the keys after sorting based on keys: \"+str(sorted(dic.keys())) #sorted"
   ]
  },
  {
   "cell_type": "code",
   "execution_count": 85,
   "metadata": {
    "collapsed": false
   },
   "outputs": [
    {
     "name": "stdout",
     "output_type": "stream",
     "text": [
      "('a', 12)\n",
      "('ab', 14)\n",
      "('cd', 45)\n",
      "('ef', 15)\n"
     ]
    }
   ],
   "source": [
    "#sorting based on keys\n",
    "for each in sorted(dic.items()):\n",
    "    print each"
   ]
  },
  {
   "cell_type": "code",
   "execution_count": 86,
   "metadata": {
    "collapsed": false
   },
   "outputs": [
    {
     "name": "stdout",
     "output_type": "stream",
     "text": [
      "('a', 12)\n",
      "('ab', 14)\n",
      "('ef', 15)\n",
      "('cd', 45)\n"
     ]
    }
   ],
   "source": [
    "#sorting based on values\n",
    "for each in sorted(dic.items(),key=itemgetter(1)):\n",
    "    print each"
   ]
  },
  {
   "cell_type": "code",
   "execution_count": 89,
   "metadata": {
    "collapsed": false
   },
   "outputs": [
    {
     "name": "stdout",
     "output_type": "stream",
     "text": [
      "{'Baz': 9, 'Foo': 3, 'Bar': 7}\n",
      "{'Foo': 30, 'Moo': 10, 'Boo': 20}\n",
      "{'Baz': 9, 'b': {'Foo': 30, 'Moo': 10, 'Boo': 20}, 'Foo': 3, 'Bar': 7}\n",
      "{'Foo': 200, 'Moo': 10, 'Boo': 20}\n",
      "{'Baz': 9, 'b': {'Foo': 200, 'Moo': 10, 'Boo': 20}, 'Foo': 3, 'Bar': 7}\n"
     ]
    }
   ],
   "source": [
    "#Inserting Dict into another dict\n",
    "team_a = {\n",
    "    'Foo' : 3,\n",
    "    'Bar' : 7,\n",
    "    'Baz' : 9,\n",
    "} \n",
    "team_b = {\n",
    "    'Moo' : 10,\n",
    "    'Boo' : 20,\n",
    "    'Foo' : 30,\n",
    "} \n",
    "print(team_a)    # {'Baz': 9, 'Foo': 3, 'Bar': 7}\n",
    "print(team_b)    # {'Foo': 30, 'Moo': 10, 'Boo': 20}\n",
    " \n",
    "team_a[\"b\"] = team_b\n",
    "print(team_a)    # {'Baz': 9, 'b': {'Foo': 30, 'Moo': 10, 'Boo': 20}, 'Foo': 3, 'Bar': 7}\n",
    " \n",
    "team_b[\"Foo\"] = 200\n",
    "print(team_b)    # {'Foo': 200, 'Moo': 10, 'Boo': 20}\n",
    "print(team_a)    # {'Baz': 9, 'b': {'Foo': 200, 'Moo': 10, 'Boo': 20}, 'Foo': 3, 'Bar': 7}"
   ]
  },
  {
   "cell_type": "markdown",
   "metadata": {},
   "source": [
    "### Set:"
   ]
  },
  {
   "cell_type": "code",
   "execution_count": 8,
   "metadata": {
    "collapsed": false
   },
   "outputs": [
    {
     "data": {
      "text/plain": [
       "tuple"
      ]
     },
     "execution_count": 8,
     "metadata": {},
     "output_type": "execute_result"
    }
   ],
   "source": [
    "type(([\"Paris\"],['a']))"
   ]
  },
  {
   "cell_type": "code",
   "execution_count": 24,
   "metadata": {
    "collapsed": false
   },
   "outputs": [
    {
     "ename": "TypeError",
     "evalue": "unhashable type: 'list'",
     "output_type": "error",
     "traceback": [
      "\u001b[1;31m---------------------------------------------------------------------------\u001b[0m",
      "\u001b[1;31mTypeError\u001b[0m                                 Traceback (most recent call last)",
      "\u001b[1;32m<ipython-input-24-2d2f322f946f>\u001b[0m in \u001b[0;36m<module>\u001b[1;34m()\u001b[0m\n\u001b[0;32m      2\u001b[0m \u001b[0mcities\u001b[0m \u001b[1;33m=\u001b[0m \u001b[0mset\u001b[0m\u001b[1;33m(\u001b[0m\u001b[1;33m(\u001b[0m\u001b[1;33m(\u001b[0m\u001b[1;34m\"Python\"\u001b[0m\u001b[1;33m,\u001b[0m\u001b[1;34m\"Perl\"\u001b[0m\u001b[1;33m)\u001b[0m\u001b[1;33m,\u001b[0m \u001b[1;33m(\u001b[0m\u001b[1;34m\"Paris\"\u001b[0m\u001b[1;33m,\u001b[0m \u001b[1;34m\"Berlin\"\u001b[0m\u001b[1;33m,\u001b[0m \u001b[1;34m\"London\"\u001b[0m\u001b[1;33m)\u001b[0m\u001b[1;33m)\u001b[0m\u001b[1;33m)\u001b[0m \u001b[1;31m#ok\u001b[0m\u001b[1;33m\u001b[0m\u001b[0m\n\u001b[0;32m      3\u001b[0m \u001b[1;33m\u001b[0m\u001b[0m\n\u001b[1;32m----> 4\u001b[1;33m \u001b[0mcities\u001b[0m \u001b[1;33m=\u001b[0m \u001b[0mset\u001b[0m\u001b[1;33m(\u001b[0m\u001b[1;33m(\u001b[0m\u001b[1;33m(\u001b[0m\u001b[1;34m\"Python\"\u001b[0m\u001b[1;33m,\u001b[0m\u001b[1;34m\"Perl\"\u001b[0m\u001b[1;33m)\u001b[0m\u001b[1;33m,\u001b[0m \u001b[1;33m(\u001b[0m\u001b[1;33m[\u001b[0m\u001b[1;34m'a'\u001b[0m\u001b[1;33m,\u001b[0m\u001b[1;34m'b'\u001b[0m\u001b[1;33m]\u001b[0m\u001b[1;33m)\u001b[0m\u001b[1;33m)\u001b[0m\u001b[1;33m)\u001b[0m \u001b[1;31m#not ok\u001b[0m\u001b[1;33m\u001b[0m\u001b[0m\n\u001b[0m\u001b[0;32m      5\u001b[0m \u001b[0mcities\u001b[0m \u001b[1;33m=\u001b[0m \u001b[0mset\u001b[0m\u001b[1;33m(\u001b[0m\u001b[1;33m(\u001b[0m\u001b[1;33m[\u001b[0m\u001b[1;34m\"Python\"\u001b[0m\u001b[1;33m,\u001b[0m\u001b[1;34m\"Perl\"\u001b[0m\u001b[1;33m]\u001b[0m\u001b[1;33m,\u001b[0m \u001b[1;33m[\u001b[0m\u001b[1;34m\"Paris\"\u001b[0m\u001b[1;33m,\u001b[0m \u001b[1;34m\"Berlin\"\u001b[0m\u001b[1;33m,\u001b[0m \u001b[1;34m\"London\"\u001b[0m\u001b[1;33m]\u001b[0m\u001b[1;33m)\u001b[0m\u001b[1;33m)\u001b[0m \u001b[1;31m#not ok\u001b[0m\u001b[1;33m\u001b[0m\u001b[0m\n",
      "\u001b[1;31mTypeError\u001b[0m: unhashable type: 'list'"
     ]
    }
   ],
   "source": [
    "#sets cannot contain multiple mutable collections or combination of mutable and immutable collection\n",
    "cities = set(((\"Python\",\"Perl\"), (\"Paris\", \"Berlin\", \"London\"))) #ok\n",
    "\n",
    "cities = set(((\"Python\",\"Perl\"), (['a','b']))) #not ok\n",
    "cities = set(([\"Python\",\"Perl\"], [\"Paris\", \"Berlin\", \"London\"])) #not ok"
   ]
  },
  {
   "cell_type": "code",
   "execution_count": 11,
   "metadata": {
    "collapsed": false
   },
   "outputs": [
    {
     "data": {
      "text/plain": [
       "{'Perl', 'Python'}"
      ]
     },
     "execution_count": 11,
     "metadata": {},
     "output_type": "execute_result"
    }
   ],
   "source": [
    "#but set can contain a single mutable collection\n",
    "cities = set([\"Python\",\"Perl\"])\n",
    "cities"
   ]
  },
  {
   "cell_type": "code",
   "execution_count": 29,
   "metadata": {
    "collapsed": false
   },
   "outputs": [
    {
     "data": {
      "text/plain": [
       "{('Python', 'Perl'), ('a', 'b')}"
      ]
     },
     "execution_count": 29,
     "metadata": {},
     "output_type": "execute_result"
    }
   ],
   "source": [
    "#but this can be done... we can pass a list of tuples within a set\n",
    "cities = set([(\"Python\",\"Perl\"),('a','b')])\n",
    "cities"
   ]
  },
  {
   "cell_type": "code",
   "execution_count": 14,
   "metadata": {
    "collapsed": false
   },
   "outputs": [
    {
     "ename": "TypeError",
     "evalue": "unhashable type: 'set'",
     "output_type": "error",
     "traceback": [
      "\u001b[1;31m---------------------------------------------------------------------------\u001b[0m",
      "\u001b[1;31mTypeError\u001b[0m                                 Traceback (most recent call last)",
      "\u001b[1;32m<ipython-input-14-2e3ca0a40f37>\u001b[0m in \u001b[0;36m<module>\u001b[1;34m()\u001b[0m\n\u001b[0;32m      2\u001b[0m \u001b[0ms\u001b[0m\u001b[1;33m=\u001b[0m\u001b[1;33m[\u001b[0m\u001b[1;36m1\u001b[0m\u001b[1;33m,\u001b[0m\u001b[1;36m2\u001b[0m\u001b[1;33m,\u001b[0m\u001b[1;36m3\u001b[0m\u001b[1;33m]\u001b[0m\u001b[1;33m\u001b[0m\u001b[0m\n\u001b[0;32m      3\u001b[0m \u001b[0ma\u001b[0m\u001b[1;33m=\u001b[0m\u001b[0mset\u001b[0m\u001b[1;33m(\u001b[0m\u001b[0ms\u001b[0m\u001b[1;33m)\u001b[0m\u001b[1;33m\u001b[0m\u001b[0m\n\u001b[1;32m----> 4\u001b[1;33m \u001b[0mb\u001b[0m\u001b[1;33m=\u001b[0m\u001b[0mset\u001b[0m\u001b[1;33m(\u001b[0m\u001b[1;33m[\u001b[0m\u001b[0ma\u001b[0m\u001b[1;33m,\u001b[0m\u001b[1;33m(\u001b[0m\u001b[1;36m5\u001b[0m\u001b[1;33m,\u001b[0m\u001b[1;36m4\u001b[0m\u001b[1;33m,\u001b[0m\u001b[1;36m6\u001b[0m\u001b[1;33m)\u001b[0m\u001b[1;33m]\u001b[0m\u001b[1;33m)\u001b[0m\u001b[1;33m\u001b[0m\u001b[0m\n\u001b[0m",
      "\u001b[1;31mTypeError\u001b[0m: unhashable type: 'set'"
     ]
    }
   ],
   "source": [
    "#This will also throw an error\n",
    "s=[1,2,3]\n",
    "a=set(s)\n",
    "b=set([a,(5,4,6)])"
   ]
  },
  {
   "cell_type": "code",
   "execution_count": 15,
   "metadata": {
    "collapsed": false
   },
   "outputs": [
    {
     "name": "stdout",
     "output_type": "stream",
     "text": [
      "set(['Jake', 'John', 'Eric']) set(['Jill', 'John'])\n",
      "set(['Jake', 'Eric'])\n",
      "set(['John'])\n",
      "set(['Jill', 'Jake', 'John', 'Eric'])\n",
      "set(['Jill', 'Jake', 'Eric'])\n"
     ]
    }
   ],
   "source": [
    "#basic set operation\n",
    "a = [\"Jake\", \"John\", \"Eric\"]\n",
    "b = [\"John\", \"Jill\"]\n",
    "a=set(a)\n",
    "b=set(b)\n",
    "print a,b\n",
    "print(a.difference(b))\n",
    "print(a.intersection(b))\n",
    "print(a.union(b))\n",
    "print(a.symmetric_difference(b))"
   ]
  },
  {
   "cell_type": "code",
   "execution_count": 58,
   "metadata": {
    "collapsed": false,
    "scrolled": true
   },
   "outputs": [
    {
     "data": {
      "text/plain": [
       "'Jake'"
      ]
     },
     "execution_count": 58,
     "metadata": {},
     "output_type": "execute_result"
    }
   ],
   "source": [
    "list(a)[0]"
   ]
  },
  {
   "cell_type": "code",
   "execution_count": 59,
   "metadata": {
    "collapsed": false
   },
   "outputs": [
    {
     "data": {
      "text/plain": [
       "{'Eric', 'Jake', 'John'}"
      ]
     },
     "execution_count": 59,
     "metadata": {},
     "output_type": "execute_result"
    }
   ],
   "source": [
    "a"
   ]
  },
  {
   "cell_type": "code",
   "execution_count": 60,
   "metadata": {
    "collapsed": true
   },
   "outputs": [],
   "source": [
    "a.add(\"add\")"
   ]
  },
  {
   "cell_type": "code",
   "execution_count": 34,
   "metadata": {
    "collapsed": false
   },
   "outputs": [
    {
     "data": {
      "text/plain": [
       "{'Eric', 'Jake', 'John', 'add'}"
      ]
     },
     "execution_count": 34,
     "metadata": {},
     "output_type": "execute_result"
    }
   ],
   "source": [
    "a"
   ]
  },
  {
   "cell_type": "code",
   "execution_count": 61,
   "metadata": {
    "collapsed": false
   },
   "outputs": [
    {
     "data": {
      "text/plain": [
       "{'Eric', 'Jake', 'John'}"
      ]
     },
     "execution_count": 61,
     "metadata": {},
     "output_type": "execute_result"
    }
   ],
   "source": [
    "a.discard(\"add\")\n",
    "a"
   ]
  },
  {
   "cell_type": "code",
   "execution_count": 63,
   "metadata": {
    "collapsed": false
   },
   "outputs": [
    {
     "data": {
      "text/plain": [
       "set()"
      ]
     },
     "execution_count": 63,
     "metadata": {},
     "output_type": "execute_result"
    }
   ],
   "source": [
    "a.clear()\n",
    "a"
   ]
  },
  {
   "cell_type": "code",
   "execution_count": 64,
   "metadata": {
    "collapsed": true
   },
   "outputs": [],
   "source": [
    "c=frozenset([\"Jake\", \"John\", \"Eric\"])"
   ]
  },
  {
   "cell_type": "code",
   "execution_count": 65,
   "metadata": {
    "collapsed": false
   },
   "outputs": [
    {
     "data": {
      "text/plain": [
       "frozenset({'Eric', 'Jake', 'John'})"
      ]
     },
     "execution_count": 65,
     "metadata": {},
     "output_type": "execute_result"
    }
   ],
   "source": [
    "c"
   ]
  },
  {
   "cell_type": "code",
   "execution_count": 2,
   "metadata": {
    "collapsed": false
   },
   "outputs": [
    {
     "data": {
      "text/plain": [
       "{0, 1, 2, 3, 4}"
      ]
     },
     "execution_count": 2,
     "metadata": {},
     "output_type": "execute_result"
    }
   ],
   "source": [
    "a=set(range(5))\n",
    "a"
   ]
  },
  {
   "cell_type": "code",
   "execution_count": 33,
   "metadata": {
    "collapsed": false
   },
   "outputs": [
    {
     "name": "stdout",
     "output_type": "stream",
     "text": [
      "0\n",
      "1\n",
      "2\n",
      "3\n"
     ]
    }
   ],
   "source": [
    "#iterating over a particular range of numbers in a set\n",
    "for each in set(range(5)):\n",
    "    print each\n",
    "    if each ==3:\n",
    "        break"
   ]
  },
  {
   "cell_type": "code",
   "execution_count": 36,
   "metadata": {
    "collapsed": false
   },
   "outputs": [
    {
     "name": "stdout",
     "output_type": "stream",
     "text": [
      "set([0, 1, 2, 3, 4])\n"
     ]
    },
    {
     "data": {
      "text/plain": [
       "[2]"
      ]
     },
     "execution_count": 36,
     "metadata": {},
     "output_type": "execute_result"
    }
   ],
   "source": [
    "#getting a particular number in a set\n",
    "a=set(range(5))\n",
    "print a\n",
    "[num for num in a if num==2]"
   ]
  },
  {
   "cell_type": "markdown",
   "metadata": {},
   "source": [
    "### Tuples:"
   ]
  },
  {
   "cell_type": "code",
   "execution_count": 29,
   "metadata": {
    "collapsed": false,
    "scrolled": false
   },
   "outputs": [
    {
     "data": {
      "text/plain": [
       "['__add__',\n",
       " '__class__',\n",
       " '__contains__',\n",
       " '__delattr__',\n",
       " '__doc__',\n",
       " '__eq__',\n",
       " '__format__',\n",
       " '__ge__',\n",
       " '__getattribute__',\n",
       " '__getitem__',\n",
       " '__getnewargs__',\n",
       " '__getslice__',\n",
       " '__gt__',\n",
       " '__hash__',\n",
       " '__init__',\n",
       " '__iter__',\n",
       " '__le__',\n",
       " '__len__',\n",
       " '__lt__',\n",
       " '__mul__',\n",
       " '__ne__',\n",
       " '__new__',\n",
       " '__reduce__',\n",
       " '__reduce_ex__',\n",
       " '__repr__',\n",
       " '__rmul__',\n",
       " '__setattr__',\n",
       " '__sizeof__',\n",
       " '__str__',\n",
       " '__subclasshook__',\n",
       " 'count',\n",
       " 'index']"
      ]
     },
     "execution_count": 29,
     "metadata": {},
     "output_type": "execute_result"
    }
   ],
   "source": [
    "dir(tuple)"
   ]
  },
  {
   "cell_type": "code",
   "execution_count": 94,
   "metadata": {
    "collapsed": false
   },
   "outputs": [
    {
     "name": "stdout",
     "output_type": "stream",
     "text": [
      "62455624\n",
      "65666408\n"
     ]
    }
   ],
   "source": [
    "#tuples are immutable. concatenating a new tuple will result in a new tuple in memory\n",
    "t = ('third', 'fourth')\n",
    "print id(t)\n",
    "t = t + ('fifth', 'sixth')\n",
    "print id(t)"
   ]
  },
  {
   "cell_type": "code",
   "execution_count": 96,
   "metadata": {
    "collapsed": false
   },
   "outputs": [
    {
     "name": "stdout",
     "output_type": "stream",
     "text": [
      "(['xyz', 123], 23, -103.4)\n",
      "65187560\n",
      "(['xyz', ['abc', 'def']], 23, -103.4)\n",
      "65187560\n"
     ]
    }
   ],
   "source": [
    "# Although mutable objects inside tuples is totally mutable\n",
    "t = (['xyz', 123], 23, -103.4)\n",
    "print t\n",
    "print id(t)\n",
    "t[0][1] = ['abc', 'def']\n",
    "print t\n",
    "print id(t)"
   ]
  },
  {
   "cell_type": "code",
   "execution_count": 98,
   "metadata": {
    "collapsed": false
   },
   "outputs": [
    {
     "data": {
      "text/plain": [
       "('abc', -4.24e+93, (18+6.6j), 'xyz')"
      ]
     },
     "execution_count": 98,
     "metadata": {},
     "output_type": "execute_result"
    }
   ],
   "source": [
    "#Any set of multiple objects, comma-separated, written without identifying symbols, \n",
    "#i.e., brackets for lists,parentheses for tuples, etc., \n",
    "#default to tuples, as indicated in these short examples:\n",
    "\n",
    "'abc', -4.24e93, 18+6.6j, 'xyz'"
   ]
  },
  {
   "cell_type": "code",
   "execution_count": 103,
   "metadata": {
    "collapsed": false
   },
   "outputs": [
    {
     "name": "stdout",
     "output_type": "stream",
     "text": [
      "False\n",
      "True\n",
      "False\n",
      "True\n"
     ]
    },
    {
     "data": {
      "text/plain": [
       "(4, True, 5)"
      ]
     },
     "execution_count": 103,
     "metadata": {},
     "output_type": "execute_result"
    }
   ],
   "source": [
    "print (1,2,3,4)>(5,6,7,8)\n",
    "print (1,2,3,4)<(5,6,7,8)\n",
    "print (\"jones\",\"adams\")>(\"jones\",\"sally\")\n",
    "print (\"fred\",\"adams\")>(\"ashley\",\"adams\")\n",
    "4, 2 < 3, 5"
   ]
  },
  {
   "cell_type": "code",
   "execution_count": 55,
   "metadata": {
    "collapsed": false
   },
   "outputs": [
    {
     "name": "stdout",
     "output_type": "stream",
     "text": [
      "{'a': 10, 'c': 100, 'b': 1}\n",
      "using sorted function on list of tuples: [('a', 10), ('b', 1), ('c', 100)]\n",
      "using sort function on list of tuples: [('a', 10), ('b', 1), ('c', 100)]\n"
     ]
    }
   ],
   "source": [
    "d={'a':10,'b':1,'c':100}\n",
    "print d\n",
    "# d.tems() is a list of tuple\n",
    "print \"using sorted function on list of tuples: \"+ str(sorted(d.items()))\n",
    "#or\n",
    "t=d.items()\n",
    "t.sort()\n",
    "print \"using sort function on list of tuples: \"+str(t)"
   ]
  },
  {
   "cell_type": "code",
   "execution_count": 52,
   "metadata": {
    "collapsed": false
   },
   "outputs": [
    {
     "name": "stdout",
     "output_type": "stream",
     "text": [
      "This is a list: [1, 2, 4, 8, 7, 20, 645, 5]\n",
      "This is a tuple: (1, 2, 4, 8, 7, 20, 645, 5)\n",
      "Sorted list: [645, 20, 8, 7, 5, 4, 2, 1]\n"
     ]
    },
    {
     "ename": "AttributeError",
     "evalue": "'tuple' object has no attribute 'sort'",
     "output_type": "error",
     "traceback": [
      "\u001b[1;31m---------------------------------------------------------------------------\u001b[0m",
      "\u001b[1;31mAttributeError\u001b[0m                            Traceback (most recent call last)",
      "\u001b[1;32m<ipython-input-52-6f9e4abb71ff>\u001b[0m in \u001b[0;36m<module>\u001b[1;34m()\u001b[0m\n\u001b[0;32m      7\u001b[0m \u001b[0ml\u001b[0m\u001b[1;33m.\u001b[0m\u001b[0msort\u001b[0m\u001b[1;33m(\u001b[0m\u001b[0mreverse\u001b[0m\u001b[1;33m=\u001b[0m\u001b[0mTrue\u001b[0m\u001b[1;33m)\u001b[0m\u001b[1;33m\u001b[0m\u001b[0m\n\u001b[0;32m      8\u001b[0m \u001b[1;32mprint\u001b[0m \u001b[1;34m\"Sorted list: \"\u001b[0m\u001b[1;33m+\u001b[0m\u001b[0mstr\u001b[0m\u001b[1;33m(\u001b[0m\u001b[0ml\u001b[0m\u001b[1;33m)\u001b[0m\u001b[1;33m\u001b[0m\u001b[0m\n\u001b[1;32m----> 9\u001b[1;33m \u001b[0mt\u001b[0m\u001b[1;33m.\u001b[0m\u001b[0msort\u001b[0m\u001b[1;33m(\u001b[0m\u001b[1;33m)\u001b[0m\u001b[1;33m\u001b[0m\u001b[0m\n\u001b[0m",
      "\u001b[1;31mAttributeError\u001b[0m: 'tuple' object has no attribute 'sort'"
     ]
    }
   ],
   "source": [
    "l=[1,2,4,8,7,20,645,5]\n",
    "t=tuple(l)\n",
    "print \"This is a list: \"+str(l)\n",
    "print \"This is a tuple: \" +str(t)\n",
    "# unlike list,tuple has no sort function..but we can use sorted for tuples\n",
    "\n",
    "l.sort(reverse=True)\n",
    "print \"Sorted list: \"+str(l)\n",
    "t.sort()"
   ]
  },
  {
   "cell_type": "code",
   "execution_count": 74,
   "metadata": {
    "collapsed": false
   },
   "outputs": [
    {
     "name": "stdout",
     "output_type": "stream",
     "text": [
      "Initial List of tuples is :[('a', 10), ('c', 100), ('b', 1)]\n",
      "Final List of tuples is: [(10, 'a'), (100, 'c'), (1, 'b')]\n",
      "Final List of tuples sorted in reverse is: [(100, 'c'), (10, 'a'), (1, 'b')]\n",
      "Final List of tuples using List comprehension: [(10, 'a'), (100, 'c'), (1, 'b')]\n"
     ]
    }
   ],
   "source": [
    "#creating a list of tuple b converting keys as values(interchanging keys,value)\n",
    "d={'a':10,'b':1,'c':100}\n",
    "initial_lot=d.items()\n",
    "print \"Initial List of tuples is :\"+ str(initial_lot)\n",
    "final_lot=list()\n",
    "for k,v in initial_lot:\n",
    "    final_lot.append((v,k))\n",
    "print \"Final List of tuples is: \"+str(final_lot)\n",
    "final_lot.sort(reverse=True)\n",
    "print \"Final List of tuples sorted in reverse is: \"+str(final_lot)\n",
    "\n",
    "#list comprehension\n",
    "\n",
    "c={'a':10,'b':1,'c':100}\n",
    "final_lot_comp=[(v,k) for k,v in c.items()]\n",
    "print \"Final List of tuples using List comprehension: \" +str(final_lot_comp)"
   ]
  },
  {
   "cell_type": "markdown",
   "metadata": {},
   "source": [
    "### Remove,Delete,POP"
   ]
  },
  {
   "cell_type": "code",
   "execution_count": 47,
   "metadata": {
    "collapsed": false
   },
   "outputs": [
    {
     "name": "stdout",
     "output_type": "stream",
     "text": [
      "['hi', \"What's up\", 'Bye']\n",
      "['Hello', \"What's up\", 'Bye']\n"
     ]
    }
   ],
   "source": [
    "a=[\"hi\",\"Hello\",\"What's up\",\"Bye\"]\n",
    "a.remove(\"Hello\") #removes matching value,not an index\n",
    "print a\n",
    "\n",
    "#to remove a specific index\n",
    "a=[\"hi\",\"Hello\",\"What's up\",\"Bye\"]\n",
    "a.remove(a[0])\n",
    "print a"
   ]
  },
  {
   "cell_type": "code",
   "execution_count": 48,
   "metadata": {
    "collapsed": false
   },
   "outputs": [
    {
     "data": {
      "text/plain": [
       "['hi', \"What's up\", 'Bye']"
      ]
     },
     "execution_count": 48,
     "metadata": {},
     "output_type": "execute_result"
    }
   ],
   "source": [
    "a=[\"hi\",\"Hello\",\"What's up\",\"Bye\"]\n",
    "del a[1] #deletes a  specific index\n",
    "a"
   ]
  },
  {
   "cell_type": "code",
   "execution_count": 45,
   "metadata": {
    "collapsed": false
   },
   "outputs": [
    {
     "name": "stdout",
     "output_type": "stream",
     "text": [
      "Hello\n",
      "['hi', \"What's up\", 'Bye']\n"
     ]
    }
   ],
   "source": [
    "a=[\"hi\",\"Hello\",\"What's up\",\"Bye\"]\n",
    "print a.pop(1) #deletes a specific index and returns the removed element\n",
    "print a"
   ]
  },
  {
   "cell_type": "code",
   "execution_count": null,
   "metadata": {
    "collapsed": true
   },
   "outputs": [],
   "source": []
  },
  {
   "cell_type": "code",
   "execution_count": 1,
   "metadata": {
    "collapsed": false
   },
   "outputs": [
    {
     "name": "stdout",
     "output_type": "stream",
     "text": [
      "[1, 3, 5, 7, 9, 11, 13, 15, 17, 19]\n",
      "[25]\n",
      "[-5, -4, -3, -2, -1]\n",
      "100\n"
     ]
    }
   ],
   "source": [
    "#  filtering odd numbers\n",
    "lst = filter(lambda x : x % 2 == 1, range(1, 20))\n",
    "print lst\n",
    " \n",
    "#  filtering odd square which are divisble by 5\n",
    "lst = filter(lambda x : x % 5 == 0, \n",
    "      [x ** 2 for x in range(1, 11) if x % 2 == 1])\n",
    "print lst\n",
    " \n",
    "#   filtering negative numbers\n",
    "lst = filter(lambda x: x < 0, range(-5,5))\n",
    "print lst\n",
    " \n",
    "#  implementing max() function, using\n",
    "print reduce(lambda a,b: a if (a > b) else b, [7, 12, 45, 100, 15])"
   ]
  },
  {
   "cell_type": "code",
   "execution_count": 2,
   "metadata": {
    "collapsed": false
   },
   "outputs": [
    {
     "data": {
      "text/plain": [
       "[3, 5, 7, 9]"
      ]
     },
     "execution_count": 2,
     "metadata": {},
     "output_type": "execute_result"
    }
   ],
   "source": [
    "a = [1, 2, 3, 4]\n",
    "b=map( lambda x : x*2 + 1, a )\n",
    "b"
   ]
  },
  {
   "cell_type": "code",
   "execution_count": 39,
   "metadata": {
    "collapsed": false
   },
   "outputs": [
    {
     "data": {
      "text/plain": [
       "[['THE', 'the', 3],\n",
       " ['QUICK', 'quick', 5],\n",
       " ['BROWN', 'brown', 5],\n",
       " ['FOX', 'fox', 3],\n",
       " ['JUMPS', 'jumps', 5],\n",
       " ['OVER', 'over', 4],\n",
       " ['THE', 'the', 3],\n",
       " ['LAZY', 'lazy', 4],\n",
       " ['DOG', 'dog', 3]]"
      ]
     },
     "execution_count": 39,
     "metadata": {},
     "output_type": "execute_result"
    }
   ],
   "source": [
    "words = 'The quick brown fox jumps over the lazy dog'.split()\n",
    "stuff_lambda = map(lambda w: [w.upper(), w.lower(), len(w)], words)\n",
    "stuff_lambda"
   ]
  },
  {
   "cell_type": "code",
   "execution_count": 37,
   "metadata": {
    "collapsed": false
   },
   "outputs": [
    {
     "data": {
      "text/plain": [
       "[(3, 4, 5),\n",
       " (5, 12, 13),\n",
       " (6, 8, 10),\n",
       " (7, 24, 25),\n",
       " (8, 15, 17),\n",
       " (9, 12, 15),\n",
       " (10, 24, 26),\n",
       " (12, 16, 20),\n",
       " (15, 20, 25),\n",
       " (20, 21, 29)]"
      ]
     },
     "execution_count": 37,
     "metadata": {},
     "output_type": "execute_result"
    }
   ],
   "source": [
    "[(x,y,z) for x in range(1,30) for y in range(x,30) for z in range(y,30) if x**2 + y**2 == z**2]"
   ]
  },
  {
   "cell_type": "code",
   "execution_count": null,
   "metadata": {
    "collapsed": true
   },
   "outputs": [],
   "source": []
  }
 ],
 "metadata": {
  "kernelspec": {
   "display_name": "Python 2",
   "language": "python",
   "name": "python2"
  },
  "language_info": {
   "codemirror_mode": {
    "name": "ipython",
    "version": 2
   },
   "file_extension": ".py",
   "mimetype": "text/x-python",
   "name": "python",
   "nbconvert_exporter": "python",
   "pygments_lexer": "ipython2",
   "version": "2.7.12"
  }
 },
 "nbformat": 4,
 "nbformat_minor": 0
}
