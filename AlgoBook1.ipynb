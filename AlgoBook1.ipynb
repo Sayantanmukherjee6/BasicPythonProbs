{
 "cells": [
  {
   "cell_type": "markdown",
   "metadata": {},
   "source": [
    "Given a list of numbers, return whether any two sums to k. For example, given [10, 15, 3, 7] and k of 17, return true since 10 + 7 is 17."
   ]
  },
  {
   "cell_type": "code",
   "execution_count": 41,
   "metadata": {},
   "outputs": [],
   "source": [
    "def check_sum(l,k):    \n",
    "    # search in set is more efficient than loop\n",
    "    s = set(l)\n",
    "    for each in l:\n",
    "        if abs(each-k) in s:\n",
    "            return True\n",
    "    return False"
   ]
  },
  {
   "cell_type": "code",
   "execution_count": 45,
   "metadata": {},
   "outputs": [],
   "source": [
    "l = [10, 15, 3, 7]\n",
    "k = 23\n",
    "\n",
    "assert not check_sum([], 17)\n",
    "assert check_sum([10, 15, 3, 7], 17)\n",
    "assert check_sum([10, 15, 3, 7], 22)\n",
    "assert not check_sum([10, 15, 3, 4], 17)"
   ]
  },
  {
   "cell_type": "markdown",
   "metadata": {},
   "source": [
    "Given an array of integers, return a new array such that each element at index i of the new array is the product of all the numbers in the original array except the one at i.\n",
    "\n",
    "For example, if our input was [1, 2, 3, 4, 5], the expected output would be [120, 60, 40, 30, 24]. If our input was [3, 2, 1], the expected output would be [2, 3, 6].\n"
   ]
  },
  {
   "cell_type": "code",
   "execution_count": 69,
   "metadata": {},
   "outputs": [],
   "source": [
    "from functools import reduce\n",
    "\n",
    "def get_factors(l):\n",
    "    m = []\n",
    "    for i,k in enumerate(l):\n",
    "        m.append(reduce((lambda x,y: x*y), (l[:i] + l[i+1:])))\n",
    "        \n",
    "    return m    "
   ]
  },
  {
   "cell_type": "code",
   "execution_count": 70,
   "metadata": {},
   "outputs": [],
   "source": [
    "assert get_factors([1, 2, 3, 4, 5]) == [120, 60, 40, 30, 24]\n",
    "assert get_factors([3, 2, 1]) == [2, 3, 6]"
   ]
  },
  {
   "cell_type": "markdown",
   "metadata": {},
   "source": [
    "Given an array of integers, find the first missing positive integer in linear time and constant space. In other words, find the lowest positive integer that does not exist in the array. The array can contain duplicates and negative numbers as well.\n",
    "\n",
    "For example, the input [3, 4, -1, 1] should give 2. The input [1, 2, 0] should give 3.\n",
    "\n",
    "You can modify the input array in-place."
   ]
  },
  {
   "cell_type": "code",
   "execution_count": 53,
   "metadata": {},
   "outputs": [],
   "source": [
    "def get_missing_number(l):\n",
    "    \n",
    "    # sort() is an inplace operation\n",
    "    l.sort()\n",
    "    for val in l:\n",
    "        if val > 0 and (val+1) not in l:\n",
    "            return val+1\n",
    "    return 1"
   ]
  },
  {
   "cell_type": "code",
   "execution_count": 54,
   "metadata": {},
   "outputs": [],
   "source": [
    "assert get_missing_number([3, 4, -1, 1]) == 2\n",
    "assert get_missing_number([1, 2, 0]) == 3\n",
    "assert get_missing_number([1, 2, 5]) == 3\n",
    "assert get_missing_number([1]) == 2\n",
    "assert get_missing_number([-1, -2]) == 1\n",
    "assert get_missing_number([]) == 1"
   ]
  },
  {
   "cell_type": "code",
   "execution_count": null,
   "metadata": {},
   "outputs": [],
   "source": []
  }
 ],
 "metadata": {
  "kernelspec": {
   "display_name": "Python 3",
   "language": "python",
   "name": "python3"
  },
  "language_info": {
   "codemirror_mode": {
    "name": "ipython",
    "version": 2
   },
   "file_extension": ".py",
   "mimetype": "text/x-python",
   "name": "python",
   "nbconvert_exporter": "python",
   "pygments_lexer": "ipython2",
   "version": "2.7.17"
  }
 },
 "nbformat": 4,
 "nbformat_minor": 2
}
