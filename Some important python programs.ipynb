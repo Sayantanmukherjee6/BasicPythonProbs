{
 "cells": [
  {
   "cell_type": "code",
   "execution_count": 16,
   "metadata": {
    "collapsed": false
   },
   "outputs": [
    {
     "name": "stdout",
     "output_type": "stream",
     "text": [
      "6\n"
     ]
    }
   ],
   "source": [
    "f= 1\n",
    "d=1\n",
    "i=3\n",
    "while(i>0):\n",
    "    f=f*i\n",
    "    i=i-1\n",
    "print f\n"
   ]
  },
  {
   "cell_type": "code",
   "execution_count": 4,
   "metadata": {
    "collapsed": false
   },
   "outputs": [
    {
     "data": {
      "text/plain": [
       "[1, 15, 32, 45, 69, 75, 84]"
      ]
     },
     "execution_count": 4,
     "metadata": {},
     "output_type": "execute_result"
    }
   ],
   "source": [
    "t=(1,84,15,45,69,75,32)\n",
    "sorted(t)"
   ]
  },
  {
   "cell_type": "code",
   "execution_count": 1,
   "metadata": {
    "collapsed": false
   },
   "outputs": [
    {
     "name": "stdout",
     "output_type": "stream",
     "text": [
      "[1, 15, 32, 45, 69, 75, 84]\n"
     ]
    }
   ],
   "source": [
    "t=(1,84,15,45,69,75,32)\n",
    "print sorted(t)\n",
    "l=list(t)\n",
    "l.sort()"
   ]
  },
  {
   "cell_type": "code",
   "execution_count": 45,
   "metadata": {
    "collapsed": false,
    "scrolled": true
   },
   "outputs": [
    {
     "name": "stdout",
     "output_type": "stream",
     "text": [
      "[1, 15, 32, 45, 69, 75, 84]\n"
     ]
    }
   ],
   "source": [
    "print l"
   ]
  },
  {
   "cell_type": "code",
   "execution_count": 45,
   "metadata": {
    "collapsed": false
   },
   "outputs": [
    {
     "name": "stdout",
     "output_type": "stream",
     "text": [
      "0 hello\n",
      "1 hi\n",
      "2 where\n",
      "3 art\n",
      "4 thou\n"
     ]
    }
   ],
   "source": [
    "a=[\"hello\",\"hi\",\"where\",\"art\",\"thou\"]\n",
    "for index,each in enumerate(a):\n",
    "    print index,each"
   ]
  },
  {
   "cell_type": "code",
   "execution_count": 48,
   "metadata": {
    "collapsed": false
   },
   "outputs": [
    {
     "name": "stdout",
     "output_type": "stream",
     "text": [
      "0 thou\n",
      "1 art\n",
      "2 where\n",
      "3 hi\n",
      "4 hello\n"
     ]
    }
   ],
   "source": [
    "for index,each in enumerate(reversed(a)):\n",
    "    print index,each"
   ]
  },
  {
   "cell_type": "code",
   "execution_count": 10,
   "metadata": {
    "collapsed": false
   },
   "outputs": [
    {
     "name": "stdout",
     "output_type": "stream",
     "text": [
      "10\n",
      "9\n",
      "8\n",
      "7\n",
      "6\n",
      "5\n",
      "4\n",
      "3\n",
      "2\n",
      "1\n"
     ]
    }
   ],
   "source": [
    "for counter in range(10,0,-1):\n",
    "    print counter"
   ]
  },
  {
   "cell_type": "code",
   "execution_count": 8,
   "metadata": {
    "collapsed": false
   },
   "outputs": [
    {
     "name": "stdout",
     "output_type": "stream",
     "text": [
      "10\n",
      "9\n",
      "8\n",
      "7\n",
      "6\n",
      "5\n",
      "4\n",
      "3\n",
      "2\n",
      "1\n"
     ]
    }
   ],
   "source": [
    "for counter in reversed(range(1,11)):\n",
    "    print counter"
   ]
  },
  {
   "cell_type": "code",
   "execution_count": 4,
   "metadata": {
    "collapsed": false
   },
   "outputs": [
    {
     "name": "stdout",
     "output_type": "stream",
     "text": [
      "1000\n",
      "721\n",
      "622\n",
      "50\n",
      "45\n",
      "10\n",
      "9\n",
      "7\n",
      "6\n",
      "5\n",
      "4\n",
      "4\n",
      "3\n",
      "2\n"
     ]
    }
   ],
   "source": [
    "l=[5,6,7,2,4,9,3,45,622,4,721,1000,10,50]\n",
    "for each in sorted(l,reverse=True):\n",
    "    print each"
   ]
  },
  {
   "cell_type": "code",
   "execution_count": 6,
   "metadata": {
    "collapsed": false
   },
   "outputs": [
    {
     "data": {
      "text/plain": [
       "['red', 'hulu', 'green', 'tello', 'jelloo']"
      ]
     },
     "execution_count": 6,
     "metadata": {},
     "output_type": "execute_result"
    }
   ],
   "source": [
    "l=[\"jelloo\",\"red\",\"green\",\"tello\",\"hulu\"]\n",
    "sorted(l,key=len)"
   ]
  },
  {
   "cell_type": "code",
   "execution_count": 5,
   "metadata": {
    "collapsed": false
   },
   "outputs": [
    {
     "name": "stdout",
     "output_type": "stream",
     "text": [
      "[1]\n",
      "[1, 1]\n"
     ]
    }
   ],
   "source": [
    "def foo(x=[]):\n",
    "    x.append(1)\n",
    "    return x\n",
    "\n",
    "x=foo()\n",
    "print x\n",
    "y=foo()\n",
    "print y"
   ]
  },
  {
   "cell_type": "code",
   "execution_count": 22,
   "metadata": {
    "collapsed": false
   },
   "outputs": [
    {
     "name": "stdout",
     "output_type": "stream",
     "text": [
      "[0, None, 1, None, 2, None]\n"
     ]
    }
   ],
   "source": [
    "def foo(i, x=[]):\n",
    "    x.append(x.append(i))\n",
    "    return x\n",
    "for i in range(3):\n",
    "    y = foo(i)\n",
    "print(y)"
   ]
  },
  {
   "cell_type": "code",
   "execution_count": 8,
   "metadata": {
    "collapsed": false
   },
   "outputs": [
    {
     "name": "stdout",
     "output_type": "stream",
     "text": [
      "['*']\n",
      "['*', '*']\n",
      "['*', '*', '*']\n",
      "['*', '*', '*', '*']\n"
     ]
    }
   ],
   "source": [
    "def foo(i, x=[]):\n",
    "    x.append('*')\n",
    "    return x\n",
    "for i in range(4):\n",
    "    print(foo(i))"
   ]
  },
  {
   "cell_type": "code",
   "execution_count": 28,
   "metadata": {
    "collapsed": false
   },
   "outputs": [
    {
     "name": "stdout",
     "output_type": "stream",
     "text": [
      "[0]\n"
     ]
    }
   ],
   "source": [
    "def foo(k):\n",
    "    k = [1]\n",
    "q = [0]\n",
    "foo(q)\n",
    "print(q)"
   ]
  },
  {
   "cell_type": "code",
   "execution_count": 34,
   "metadata": {
    "collapsed": false
   },
   "outputs": [
    {
     "name": "stdout",
     "output_type": "stream",
     "text": [
      "[1]\n"
     ]
    }
   ],
   "source": [
    "def foo(k):\n",
    "    k[0] = 1\n",
    "q = [0]\n",
    "foo(q)\n",
    "print(q)"
   ]
  },
  {
   "cell_type": "code",
   "execution_count": 35,
   "metadata": {
    "collapsed": false
   },
   "outputs": [
    {
     "name": "stdout",
     "output_type": "stream",
     "text": [
      "True\n"
     ]
    }
   ],
   "source": [
    "def foo(x):\n",
    "    x[0] = ['def']\n",
    "    x[1] = ['abc']\n",
    "    return id(x)\n",
    "q = ['abc', 'def']\n",
    "print(id(q) == foo(q))"
   ]
  },
  {
   "cell_type": "code",
   "execution_count": 26,
   "metadata": {
    "collapsed": false
   },
   "outputs": [
    {
     "name": "stdout",
     "output_type": "stream",
     "text": [
      "False\n"
     ]
    }
   ],
   "source": [
    "def foo(x):\n",
    "    x = ['def', 'abc']\n",
    "    return id(x)\n",
    "q = ['abc', 'def']\n",
    "print(id(q) == foo(q))"
   ]
  },
  {
   "cell_type": "code",
   "execution_count": 18,
   "metadata": {
    "collapsed": false
   },
   "outputs": [
    {
     "name": "stdout",
     "output_type": "stream",
     "text": [
      "Hi Ram, you have got 90 marks\n",
      "Hi Ankit, you have got 78 marks\n",
      "Hi Bob, you have got 92 marks\n"
     ]
    }
   ],
   "source": [
    "# A Python program to demonstrate working of string template\n",
    "from string import Template\n",
    " \n",
    "# List Student stores the name and marks of three students\n",
    "Student = [('Ram',90), ('Ankit',78), ('Bob',92)]\n",
    " \n",
    "# We are creating a basic structure to print the name and\n",
    "# marks of the students.\n",
    "t = Template('Hi $name, you have got $marks marks')\n",
    " \n",
    "for i in Student:\n",
    "     print (t.substitute(name = i[0], marks = i[1]))"
   ]
  },
  {
   "cell_type": "code",
   "execution_count": 2,
   "metadata": {
    "collapsed": false
   },
   "outputs": [
    {
     "name": "stdout",
     "output_type": "stream",
     "text": [
      "Counter({'B': 5, 'A': 3, 'C': 2})\n",
      "Counter({'B': 5, 'A': 3, 'C': 2})\n",
      "Counter({'B': 5, 'A': 3, 'C': 2})\n",
      "coun: Counter({1: 4, 2: 3, 3: 1})\n"
     ]
    }
   ],
   "source": [
    "#counter\n",
    "# A Python program to show different ways to create\n",
    "# Counter\n",
    "from collections import Counter\n",
    " \n",
    "# With sequence of items \n",
    "print Counter(['B','B','A','B','C','A','B','B','A','C'])\n",
    "# with dictionary\n",
    "print Counter({'A':3, 'B':5, 'C':2})\n",
    " \n",
    "# with keyword arguments\n",
    "print Counter(A=3, B=5, C=2)\n",
    "\n",
    "coun = Counter() # EMpty counter\n",
    " \n",
    "coun.update([1, 2, 3, 1, 2, 1, 1, 2])\n",
    "print \"coun: \" +str(coun)"
   ]
  },
  {
   "cell_type": "code",
   "execution_count": 3,
   "metadata": {
    "collapsed": false
   },
   "outputs": [
    {
     "name": "stdout",
     "output_type": "stream",
     "text": [
      "Counter({'blue': 3, 'red': 2, 'yellow': 1})\n",
      "('blue', 3)\n",
      "('red', 2)\n",
      "('yellow', 1)\n",
      "('green', 0)\n",
      "['blue', 'blue', 'blue', 'yellow', 'red', 'red']\n",
      "['blue', 'yellow', 'red']\n",
      "[3, 1, 2]\n"
     ]
    }
   ],
   "source": [
    "# Python program to demonstrate accessing of\n",
    "# Counter elements \n",
    "# Create a list\n",
    "z = ['blue', 'red', 'blue', 'yellow', 'blue', 'red']\n",
    "col_count = Counter(z)\n",
    "print(col_count)\n",
    " \n",
    "col = ['blue','red','yellow','green']\n",
    " \n",
    "# Here green is not in col_count \n",
    "# so count of green will be zero\n",
    "for color in col:\n",
    "    print (color, col_count[color])\n",
    "\n",
    "#The elements() method returns an iterator that produces all of the items known to the Counter.\n",
    "print(list(col_count.elements()))\n",
    "print(list(col_count.keys()))\n",
    "print(list(col_count.values()))"
   ]
  },
  {
   "cell_type": "code",
   "execution_count": 26,
   "metadata": {
    "collapsed": false
   },
   "outputs": [
    {
     "name": "stdout",
     "output_type": "stream",
     "text": [
      "Counter({'f': 219, 'd': 120, 'c': 3, 'b': 2, 'a': 1, 'e': 0})\n",
      "f: 219\n",
      "d: 120\n",
      "c: 3\n"
     ]
    }
   ],
   "source": [
    "coun = Counter(a=1, b=2, c=3, d=120, e=0, f=219)\n",
    "print coun\n",
    "#.most_common() returns n most frequently encountered input values \n",
    "for letter, count in coun.most_common(3):\n",
    "    print('%s: %d' % (letter, count))"
   ]
  },
  {
   "cell_type": "code",
   "execution_count": 36,
   "metadata": {
    "collapsed": false
   },
   "outputs": [
    {
     "data": {
      "text/plain": [
       "[1, 2, 3, 'a', 'b', 'c']"
      ]
     },
     "execution_count": 36,
     "metadata": {},
     "output_type": "execute_result"
    }
   ],
   "source": [
    "#flattening a list\n",
    "from itertools import *\n",
    "a=[]\n",
    "for i in chain([1, 2, 3], ['a', 'b', 'c']):\n",
    "    a.append(i)\n",
    "\n",
    "a"
   ]
  },
  {
   "cell_type": "code",
   "execution_count": 1,
   "metadata": {
    "collapsed": false,
    "scrolled": true
   },
   "outputs": [
    {
     "name": "stdout",
     "output_type": "stream",
     "text": [
      "0\n",
      "1\n",
      "2\n",
      "3\n",
      "4\n"
     ]
    }
   ],
   "source": [
    "#iterator\n",
    "for i in range(5):\n",
    "    print i"
   ]
  },
  {
   "cell_type": "code",
   "execution_count": 3,
   "metadata": {
    "collapsed": false
   },
   "outputs": [
    {
     "name": "stdout",
     "output_type": "stream",
     "text": [
      "0\n",
      "1\n",
      "2\n",
      "3\n",
      "4\n"
     ]
    }
   ],
   "source": [
    "#the above program is mainly an iterator and in background implemented as\n",
    "\n",
    "a_list=range(5)\n",
    "try:\n",
    "    a_list_iter=iter(a_list) # a_list.__iter__()\n",
    "    while True:\n",
    "        number=next(a_list_iter) # a_list_iter.__next__()\n",
    "        print number\n",
    "except StopIteration:\n",
    "    pass\n",
    "\n",
    "#so any object whose class have __iter__() and __next__() method are considered as iterators"
   ]
  },
  {
   "cell_type": "code",
   "execution_count": 100,
   "metadata": {
    "collapsed": false
   },
   "outputs": [
    {
     "data": {
      "text/plain": [
       "0"
      ]
     },
     "execution_count": 100,
     "metadata": {},
     "output_type": "execute_result"
    }
   ],
   "source": [
    "#generator : special type of iterator that has yield method\n",
    "def func():\n",
    "    for i in range(5):\n",
    "        yield (i)\n",
    "\n",
    "a=func()\n",
    "a.next()"
   ]
  },
  {
   "cell_type": "code",
   "execution_count": 95,
   "metadata": {
    "collapsed": false
   },
   "outputs": [
    {
     "name": "stdout",
     "output_type": "stream",
     "text": [
      "0\n",
      "1\n",
      "2\n",
      "3\n",
      "4\n"
     ]
    }
   ],
   "source": [
    "def func():\n",
    "    for i in range(5):\n",
    "        yield (i)\n",
    "\n",
    "for each in func():\n",
    "    print each"
   ]
  },
  {
   "cell_type": "code",
   "execution_count": 13,
   "metadata": {
    "collapsed": false
   },
   "outputs": [
    {
     "name": "stdout",
     "output_type": "stream",
     "text": [
      "0\n",
      "1\n",
      "8\n",
      "27\n",
      "64\n"
     ]
    }
   ],
   "source": [
    "def f(n):\n",
    "    for x in range(n):\n",
    "        yield(x**3)\n",
    "for x in f(5):\n",
    "    print x"
   ]
  },
  {
   "cell_type": "code",
   "execution_count": 48,
   "metadata": {
    "collapsed": false,
    "scrolled": true
   },
   "outputs": [
    {
     "data": {
      "text/plain": [
       "[0, 1, 1, 2, 3, 5, 8, 13, 21, 34]"
      ]
     },
     "execution_count": 48,
     "metadata": {},
     "output_type": "execute_result"
    }
   ],
   "source": [
    "from itertools import islice\n",
    "def fib():\n",
    "     prev, curr = 0, 1\n",
    "     yield prev\n",
    "     while True:\n",
    "         yield curr\n",
    "         prev, curr = curr, prev + curr\n",
    "\n",
    "f = fib()\n",
    "# f.next()\n",
    "list(islice(f, 0,10))"
   ]
  },
  {
   "cell_type": "code",
   "execution_count": 11,
   "metadata": {
    "collapsed": false
   },
   "outputs": [
    {
     "data": {
      "text/plain": [
       "'hellohi'"
      ]
     },
     "execution_count": 11,
     "metadata": {},
     "output_type": "execute_result"
    }
   ],
   "source": [
    "a='hello'\n",
    "b='hi'\n",
    "c=a+b\n",
    "''.join(c)"
   ]
  },
  {
   "cell_type": "code",
   "execution_count": 38,
   "metadata": {
    "collapsed": false
   },
   "outputs": [
    {
     "data": {
      "text/plain": [
       "'0,1,2,3,4,5,6,7,8,9,10,11,12,13,14,15,16,17,18,19,20,21,22,23,24,25,26,27,28,29,30,31,32,33,34,35,36,37,38,39,40,41,42,43,44,45,46,47,48,49,50,51,52,53,54,55,56,57,58,59,60,61,62,63,64,65,66,67,68,69,70,71,72,73,74,75,76,77,78,79,80,81,82,83,84,85,86,87,88,89,90,91,92,93,94,95,96,97,98,99,100'"
      ]
     },
     "execution_count": 38,
     "metadata": {},
     "output_type": "execute_result"
    }
   ],
   "source": [
    "','.join([str(x) for x in xrange(101)])"
   ]
  },
  {
   "cell_type": "code",
   "execution_count": 11,
   "metadata": {
    "collapsed": true
   },
   "outputs": [],
   "source": [
    "def print_directory_contents(sPath):\n",
    "    import os\n",
    "    for sChild in os.listdir(sPath):\n",
    "        print sChild\n",
    "        sChildPath = os.path.join(sPath,sChild)\n",
    "        print sChildPath\n",
    "        if os.path.isdir(sChildPath):\n",
    "            print(\"hello\")\n",
    "            print_directory_contents(sChildPath)\n",
    "        else:\n",
    "            print \"hello2\"\n",
    "            print(sChildPath)"
   ]
  },
  {
   "cell_type": "code",
   "execution_count": 12,
   "metadata": {
    "collapsed": false
   },
   "outputs": [
    {
     "name": "stdout",
     "output_type": "stream",
     "text": [
      "Cracked\n",
      "H:\\Sparkol VideoScribe [cigoL]\\Windows\\Cracked\n",
      "hello\n",
      "VideoScribeBin\n",
      "H:\\Sparkol VideoScribe [cigoL]\\Windows\\Cracked\\VideoScribeBin\n",
      "hello2\n",
      "H:\\Sparkol VideoScribe [cigoL]\\Windows\\Cracked\\VideoScribeBin\n",
      "readme_how2patch.txt\n",
      "H:\\Sparkol VideoScribe [cigoL]\\Windows\\readme_how2patch.txt\n",
      "hello2\n",
      "H:\\Sparkol VideoScribe [cigoL]\\Windows\\readme_how2patch.txt\n",
      "VideoScribe.msi\n",
      "H:\\Sparkol VideoScribe [cigoL]\\Windows\\VideoScribe.msi\n",
      "hello2\n",
      "H:\\Sparkol VideoScribe [cigoL]\\Windows\\VideoScribe.msi\n"
     ]
    }
   ],
   "source": [
    "print_directory_contents(\"H:\\Sparkol VideoScribe [cigoL]\\Windows\")"
   ]
  },
  {
   "cell_type": "code",
   "execution_count": 28,
   "metadata": {
    "collapsed": false
   },
   "outputs": [
    {
     "name": "stdout",
     "output_type": "stream",
     "text": [
      "False\n",
      "False\n"
     ]
    },
    {
     "data": {
      "text/plain": [
       "['VideoScribeBin']"
      ]
     },
     "execution_count": 28,
     "metadata": {},
     "output_type": "execute_result"
    }
   ],
   "source": [
    "import os\n",
    "for each in os.listdir(\"H:\\Sparkol VideoScribe [cigoL]\\Windows\"):\n",
    "    new_path=os.path.join(\"H:\\Sparkol VideoScribe [cigoL]\\Windows\",each)\n",
    "    if os.path.isdir(new_path):\n",
    "        a=os.listdir(new_path) \n",
    "    else:\n",
    "        print False\n",
    "        \n",
    "a"
   ]
  },
  {
   "cell_type": "code",
   "execution_count": 24,
   "metadata": {
    "collapsed": false
   },
   "outputs": [
    {
     "name": "stdout",
     "output_type": "stream",
     "text": [
      "True\n"
     ]
    }
   ],
   "source": [
    "if os.path.isdir(\"H:\\Sparkol VideoScribe [cigoL]\\Windows\\Cracked\"):\n",
    "    print True\n",
    "else:\n",
    "    print False"
   ]
  },
  {
   "cell_type": "code",
   "execution_count": 52,
   "metadata": {
    "collapsed": false
   },
   "outputs": [
    {
     "name": "stdout",
     "output_type": "stream",
     "text": [
      "{'a': 1, 'c': 3, 'b': 2, 'e': 5, 'd': 4}\n",
      "[0, 1, 2, 3, 4, 5, 6, 7, 8, 9]\n",
      "[]\n",
      "[1, 2, 3, 4, 5]\n",
      "[1, 2, 3, 4, 5]\n",
      "{0: 0, 1: 1, 2: 4, 3: 9, 4: 16, 5: 25, 6: 36, 7: 49, 8: 64, 9: 81}\n",
      "[[0, 0], [1, 1], [2, 4], [3, 9], [4, 16], [5, 25], [6, 36], [7, 49], [8, 64], [9, 81]]\n"
     ]
    }
   ],
   "source": [
    "A0 = dict(zip(('a','b','c','d','e'),(1,2,3,4,5)))\n",
    "A1 = range(10)\n",
    "A2 = sorted([each for each in A1 if each in A0])\n",
    "A3 = sorted([A0[s] for s in A0])\n",
    "A4 = [i for i in A1 if i in A3]\n",
    "A5 = {i:i*i for i in A1}\n",
    "A6 = [[i,i*i] for i in A1]\n",
    "print A0\n",
    "print A1\n",
    "print A2\n",
    "print A3\n",
    "print A4\n",
    "print A5\n",
    "print A6"
   ]
  },
  {
   "cell_type": "code",
   "execution_count": 61,
   "metadata": {
    "collapsed": false
   },
   "outputs": [
    {
     "name": "stdout",
     "output_type": "stream",
     "text": [
      "[0, 1]\n",
      "[3, 2, 1, 0, 1, 4]\n",
      "[0, 1, 0, 1, 4]\n"
     ]
    }
   ],
   "source": [
    "def f(x,l=[]):\n",
    "    for i in range(x):\n",
    "        l.append(i*i)\n",
    "    print(l) \n",
    "\n",
    "f(2)\n",
    "f(3,[3,2,1])\n",
    "f(3)"
   ]
  },
  {
   "cell_type": "code",
   "execution_count": 14,
   "metadata": {
    "collapsed": false
   },
   "outputs": [
    {
     "name": "stdout",
     "output_type": "stream",
     "text": [
      "[0, 1]\n",
      "[3, 2, 1, 0, 1, 4]\n",
      "[0, 1, 4]\n"
     ]
    }
   ],
   "source": [
    "def f(x,l=None):\n",
    "    if l is None:\n",
    "        l=[]\n",
    "    for i in range(x):\n",
    "        l.append(i*i)\n",
    "    print l\n",
    "    \n",
    "f(2)\n",
    "f(3,[3,2,1])\n",
    "f(3)"
   ]
  },
  {
   "cell_type": "code",
   "execution_count": 5,
   "metadata": {
    "collapsed": false
   },
   "outputs": [
    {
     "name": "stdout",
     "output_type": "stream",
     "text": [
      "[10]\n",
      "[123]\n",
      "[10, 'a']\n",
      "list1 = [10, 'a']\n",
      "list2 = [123]\n",
      "list3 = [10, 'a']\n"
     ]
    }
   ],
   "source": [
    "def extendList(val, list=[]):\n",
    "    list.append(val)\n",
    "    return list\n",
    "\n",
    "list1 = extendList(10)\n",
    "print list1\n",
    "list2 = extendList(123,[])\n",
    "print list2\n",
    "list3 = extendList('a')\n",
    "print list3\n",
    "\n",
    "print \"list1 = %s\" % list1\n",
    "print \"list2 = %s\" % list2\n",
    "print \"list3 = %s\" % list3"
   ]
  },
  {
   "cell_type": "code",
   "execution_count": 15,
   "metadata": {
    "collapsed": false
   },
   "outputs": [
    {
     "name": "stdout",
     "output_type": "stream",
     "text": [
      "[10]\n",
      "[123]\n",
      "['a']\n",
      "list1 = [10]\n",
      "list2 = [123]\n",
      "list3 = ['a']\n"
     ]
    }
   ],
   "source": [
    "def extendList(val,list=None):\n",
    "    if list is None:\n",
    "        list=[]\n",
    "    list.append(val)\n",
    "    return list\n",
    "\n",
    "list1 = extendList(10)\n",
    "print list1\n",
    "list2 = extendList(123,[])\n",
    "print list2\n",
    "list3 = extendList('a')\n",
    "print list3\n",
    "\n",
    "print \"list1 = %s\" % list1\n",
    "print \"list2 = %s\" % list2\n",
    "print \"list3 = %s\" % list3"
   ]
  },
  {
   "cell_type": "code",
   "execution_count": 56,
   "metadata": {
    "collapsed": false
   },
   "outputs": [
    {
     "name": "stdout",
     "output_type": "stream",
     "text": [
      "3\n",
      "3\n",
      "3\n",
      "3\n",
      "Binding i :\n",
      "0\n",
      "1\n",
      "2\n",
      "3\n"
     ]
    }
   ],
   "source": [
    "def multipliers():\n",
    "    return [lambda x : i * x for i in range(4)]\n",
    "\n",
    "def multipliers_two():\n",
    "    return [lambda x,i=i : i * x for i in range(4)]\n",
    "\n",
    "for m in multipliers():\n",
    "    print m(1)\n",
    "print \"Binding i :\"\n",
    "for m in multipliers_two():\n",
    "    print m(1)"
   ]
  },
  {
   "cell_type": "code",
   "execution_count": 40,
   "metadata": {
    "collapsed": false
   },
   "outputs": [
    {
     "data": {
      "text/plain": [
       "[[10, 20], [10, 20], [10, 20], [10, 20], [10, 20], 30]"
      ]
     },
     "execution_count": 40,
     "metadata": {},
     "output_type": "execute_result"
    }
   ],
   "source": [
    "list = [ [ ] ] * 5 # creates 5 references to same list\n",
    "list  # output?\n",
    "list[0].append(10) # this will append to list[0]. But since 5 list refer to the same list so 10 will \n",
    "                   # be appended to inner list\n",
    "list  # output?\n",
    "list[1].append(20)\n",
    "list  # output?\n",
    "list.append(30) # this will append new element to the outer list\n",
    "list  # output?"
   ]
  },
  {
   "cell_type": "code",
   "execution_count": 73,
   "metadata": {
    "collapsed": false
   },
   "outputs": [
    {
     "data": {
      "text/plain": [
       "[(4, 10), (6, 18), (8, 78)]"
      ]
     },
     "execution_count": 73,
     "metadata": {},
     "output_type": "execute_result"
    }
   ],
   "source": [
    "#even number and even indices\n",
    "[(val,each) for val,each in enumerate([ 1 , 3 , 5 , 8 , 10 , 13 , 18 , 36 , 78 ]) if (each%2==0 and val%2==0)]"
   ]
  },
  {
   "cell_type": "code",
   "execution_count": 79,
   "metadata": {
    "collapsed": false
   },
   "outputs": [
    {
     "data": {
      "text/plain": [
       "[10, 18, 78]"
      ]
     },
     "execution_count": 79,
     "metadata": {},
     "output_type": "execute_result"
    }
   ],
   "source": [
    "list = [ 1 , 3 , 5 , 8 , 10 , 13 , 18 , 36 , 78 ]\n",
    "[x for x in list[::2] if x%2==0]"
   ]
  },
  {
   "cell_type": "code",
   "execution_count": 22,
   "metadata": {
    "collapsed": false
   },
   "outputs": [
    {
     "name": "stdout",
     "output_type": "stream",
     "text": [
      "0\n",
      "1\n",
      "1\n",
      "2\n",
      "3\n",
      "5\n"
     ]
    }
   ],
   "source": [
    "#fibonacci\n",
    "x,y=0,1\n",
    "for i in range(6):\n",
    "    print x\n",
    "    x,y=y,x+y    "
   ]
  },
  {
   "cell_type": "code",
   "execution_count": 69,
   "metadata": {
    "collapsed": false,
    "scrolled": true
   },
   "outputs": [
    {
     "name": "stdout",
     "output_type": "stream",
     "text": [
      "0\n",
      "1\n",
      "1\n",
      "2\n",
      "3\n"
     ]
    }
   ],
   "source": [
    "def fib_recursive(n):\n",
    "    if n == 0:\n",
    "        return 0\n",
    "    elif n == 1:\n",
    "        return 1\n",
    "    else:\n",
    "        return fib_recursive(n-1) + fib_recursive(n-2)\n",
    "\n",
    "for i in range(5):\n",
    "    print fib_recursive(i)"
   ]
  },
  {
   "cell_type": "code",
   "execution_count": 77,
   "metadata": {
    "collapsed": false
   },
   "outputs": [
    {
     "data": {
      "text/plain": [
       "True"
      ]
     },
     "execution_count": 77,
     "metadata": {},
     "output_type": "execute_result"
    }
   ],
   "source": [
    "def isPrime(x):\n",
    "    if x<2:\n",
    "        return False\n",
    "    for i in range(2,x):\n",
    "        if x%i==0:\n",
    "            return False\n",
    "    return True  \n",
    "\n",
    "isPrime(23)"
   ]
  },
  {
   "cell_type": "code",
   "execution_count": 127,
   "metadata": {
    "collapsed": false
   },
   "outputs": [
    {
     "data": {
      "text/plain": [
       "121"
      ]
     },
     "execution_count": 127,
     "metadata": {},
     "output_type": "execute_result"
    }
   ],
   "source": [
    "a=121\n",
    "b=a%10\n",
    "c=a/10\n",
    "d=c%10\n",
    "e=c/10\n",
    "b*100+d*10+e"
   ]
  },
  {
   "cell_type": "code",
   "execution_count": 24,
   "metadata": {
    "collapsed": false
   },
   "outputs": [
    {
     "data": {
      "text/plain": [
       "True"
      ]
     },
     "execution_count": 24,
     "metadata": {},
     "output_type": "execute_result"
    }
   ],
   "source": [
    "a=\"MADAM\"\n",
    "a[::-1]==a"
   ]
  },
  {
   "cell_type": "code",
   "execution_count": 68,
   "metadata": {
    "collapsed": false
   },
   "outputs": [
    {
     "data": {
      "text/plain": [
       "'5'"
      ]
     },
     "execution_count": 68,
     "metadata": {},
     "output_type": "execute_result"
    }
   ],
   "source": [
    "(5).__str__()"
   ]
  },
  {
   "cell_type": "code",
   "execution_count": 69,
   "metadata": {
    "collapsed": false
   },
   "outputs": [
    {
     "data": {
      "text/plain": [
       "['__abs__',\n",
       " '__add__',\n",
       " '__and__',\n",
       " '__class__',\n",
       " '__cmp__',\n",
       " '__coerce__',\n",
       " '__delattr__',\n",
       " '__div__',\n",
       " '__divmod__',\n",
       " '__doc__',\n",
       " '__float__',\n",
       " '__floordiv__',\n",
       " '__format__',\n",
       " '__getattribute__',\n",
       " '__getnewargs__',\n",
       " '__hash__',\n",
       " '__hex__',\n",
       " '__index__',\n",
       " '__init__',\n",
       " '__int__',\n",
       " '__invert__',\n",
       " '__long__',\n",
       " '__lshift__',\n",
       " '__mod__',\n",
       " '__mul__',\n",
       " '__neg__',\n",
       " '__new__',\n",
       " '__nonzero__',\n",
       " '__oct__',\n",
       " '__or__',\n",
       " '__pos__',\n",
       " '__pow__',\n",
       " '__radd__',\n",
       " '__rand__',\n",
       " '__rdiv__',\n",
       " '__rdivmod__',\n",
       " '__reduce__',\n",
       " '__reduce_ex__',\n",
       " '__repr__',\n",
       " '__rfloordiv__',\n",
       " '__rlshift__',\n",
       " '__rmod__',\n",
       " '__rmul__',\n",
       " '__ror__',\n",
       " '__rpow__',\n",
       " '__rrshift__',\n",
       " '__rshift__',\n",
       " '__rsub__',\n",
       " '__rtruediv__',\n",
       " '__rxor__',\n",
       " '__setattr__',\n",
       " '__sizeof__',\n",
       " '__str__',\n",
       " '__sub__',\n",
       " '__subclasshook__',\n",
       " '__truediv__',\n",
       " '__trunc__',\n",
       " '__xor__',\n",
       " 'bit_length',\n",
       " 'conjugate',\n",
       " 'denominator',\n",
       " 'imag',\n",
       " 'numerator',\n",
       " 'real']"
      ]
     },
     "execution_count": 69,
     "metadata": {},
     "output_type": "execute_result"
    }
   ],
   "source": [
    "a=10\n",
    "dir(a)"
   ]
  },
  {
   "cell_type": "code",
   "execution_count": 71,
   "metadata": {
    "collapsed": false
   },
   "outputs": [
    {
     "data": {
      "text/plain": [
       "<method-wrapper '__abs__' of int object at 0x0000000001DE8270>"
      ]
     },
     "execution_count": 71,
     "metadata": {},
     "output_type": "execute_result"
    }
   ],
   "source": [
    "a.__abs__"
   ]
  },
  {
   "cell_type": "code",
   "execution_count": 57,
   "metadata": {
    "collapsed": false
   },
   "outputs": [
    {
     "name": "stdout",
     "output_type": "stream",
     "text": [
      "('Inner function: ', 10)\n",
      "('Outer function: ', 5)\n"
     ]
    }
   ],
   "source": [
    "def outer_function():\n",
    "    a = 5\n",
    "    def inner_function():\n",
    "        a = 10\n",
    "        print(\"Inner function: \",a)\n",
    "    inner_function()\n",
    "    print(\"Outer function: \",a)\n",
    "\n",
    "outer_function()"
   ]
  },
  {
   "cell_type": "code",
   "execution_count": 11,
   "metadata": {
    "collapsed": false
   },
   "outputs": [
    {
     "name": "stdout",
     "output_type": "stream",
     "text": [
      "Test message\n"
     ]
    }
   ],
   "source": [
    "def transmit_to_space(message):\n",
    "    \"This is the enclosing function\"\n",
    "    def data_transmitter():\n",
    "        \"The nested function\"\n",
    "        print(message)\n",
    "\n",
    "    data_transmitter()\n",
    "\n",
    "transmit_to_space(\"Test message\")"
   ]
  },
  {
   "cell_type": "code",
   "execution_count": 10,
   "metadata": {
    "collapsed": false
   },
   "outputs": [
    {
     "name": "stdout",
     "output_type": "stream",
     "text": [
      "hi\n"
     ]
    }
   ],
   "source": [
    "# Closures\n",
    "\n",
    "def outer_func(msg):\n",
    "    def inner_func():\n",
    "        print msg\n",
    "    return inner_func\n",
    "    \n",
    "a= outer_func(\"hi\")\n",
    "a()"
   ]
  },
  {
   "cell_type": "code",
   "execution_count": 22,
   "metadata": {
    "collapsed": false
   },
   "outputs": [
    {
     "name": "stdout",
     "output_type": "stream",
     "text": [
      "hello\n"
     ]
    }
   ],
   "source": [
    "#decorators\n",
    "\n",
    "def dec_func(func):\n",
    "    def wrap_func():\n",
    "        return func()\n",
    "    return wrap_func\n",
    "\n",
    "def display():\n",
    "    print \"hello\"\n",
    "\n",
    "main= dec_func(display)\n",
    "main()"
   ]
  },
  {
   "cell_type": "code",
   "execution_count": 32,
   "metadata": {
    "collapsed": false
   },
   "outputs": [
    {
     "name": "stdout",
     "output_type": "stream",
     "text": [
      "['hello bro', 'hi5', 'haha']\n"
     ]
    }
   ],
   "source": [
    "def clos_out(*args):\n",
    "    def clos_in():\n",
    "        print list(args)\n",
    "    return clos_in\n",
    "\n",
    "a=clos_out(\"hello bro\",\"hi\"+str(5),\"haha\")\n",
    "a()"
   ]
  },
  {
   "cell_type": "code",
   "execution_count": 26,
   "metadata": {
    "collapsed": false
   },
   "outputs": [
    {
     "name": "stdout",
     "output_type": "stream",
     "text": [
      "using decorator\n",
      "display func ran\n"
     ]
    }
   ],
   "source": [
    "def dec_out(func):\n",
    "    def dec_in():\n",
    "        print \"using decorator\"\n",
    "        return func()\n",
    "    return dec_in\n",
    "\n",
    "@dec_out\n",
    "def display():\n",
    "    print \"display func ran\"\n",
    "\n",
    "display()"
   ]
  },
  {
   "cell_type": "code",
   "execution_count": 27,
   "metadata": {
    "collapsed": false
   },
   "outputs": [
    {
     "name": "stdout",
     "output_type": "stream",
     "text": [
      "Ohayo\n"
     ]
    }
   ],
   "source": [
    "def dec_out(func):\n",
    "    def dec_in(s):\n",
    "        return func(s)\n",
    "    return dec_in\n",
    "\n",
    "@dec_out\n",
    "def display(msg):\n",
    "    print msg\n",
    "\n",
    "display(\"Ohayo\")"
   ]
  },
  {
   "cell_type": "code",
   "execution_count": 49,
   "metadata": {
    "collapsed": false
   },
   "outputs": [
    {
     "name": "stdout",
     "output_type": "stream",
     "text": [
      "['Ohayo']\n"
     ]
    }
   ],
   "source": [
    "class Dec_class(object):\n",
    "    def __init__(self,func):\n",
    "        self.func=func\n",
    "    def __call__(self,*args):\n",
    "        return self.func(list(args))\n",
    "\n",
    "@Dec_class\n",
    "def display(msg):\n",
    "    print msg\n",
    "\n",
    "display(\"Ohayo\")"
   ]
  },
  {
   "cell_type": "markdown",
   "metadata": {},
   "source": [
    "### DateTime Module"
   ]
  },
  {
   "cell_type": "code",
   "execution_count": 56,
   "metadata": {
    "collapsed": true
   },
   "outputs": [],
   "source": [
    "import datetime\n",
    "import pytz"
   ]
  },
  {
   "cell_type": "code",
   "execution_count": 6,
   "metadata": {
    "collapsed": false
   },
   "outputs": [
    {
     "name": "stdout",
     "output_type": "stream",
     "text": [
      "2016-07-24\n"
     ]
    }
   ],
   "source": [
    "#any date\n",
    "anyDate=datetime.date(2016,7,24)\n",
    "print anyDate"
   ]
  },
  {
   "cell_type": "code",
   "execution_count": 18,
   "metadata": {
    "collapsed": false
   },
   "outputs": [
    {
     "name": "stdout",
     "output_type": "stream",
     "text": [
      "2017-03-18\n",
      "5\n",
      "6\n"
     ]
    }
   ],
   "source": [
    "# todays date\n",
    "toDate=datetime.date.today()\n",
    "print toDate\n",
    "print toDate.weekday() # Monday=0, Sunday=6\n",
    "print toDate.isoweekday() #Monday=1, Sunday=7"
   ]
  },
  {
   "cell_type": "code",
   "execution_count": 13,
   "metadata": {
    "collapsed": false
   },
   "outputs": [
    {
     "name": "stdout",
     "output_type": "stream",
     "text": [
      "7 days, 0:00:00\n"
     ]
    }
   ],
   "source": [
    "#timedelta - used for numerical computations on date\n",
    "tdelta=datetime.timedelta(days=7)\n",
    "print tdelta"
   ]
  },
  {
   "cell_type": "code",
   "execution_count": 29,
   "metadata": {
    "collapsed": false
   },
   "outputs": [
    {
     "name": "stdout",
     "output_type": "stream",
     "text": [
      "Date after 7days from today: 2017-03-25\n",
      "Date before 7days from today: 2017-03-11\n",
      "Number of days between anyDate and Todays Date: 237 days, 0:00:00\n",
      "Number of seconds between anyDate and Todays Date: 20476800.0\n"
     ]
    }
   ],
   "source": [
    "#adding or subtracting tdelta from a date we get another date as a result\n",
    "#adding or subtracting date from a date we get a timedelta\n",
    "print \"Date after 7days from today: \"+str(toDate+tdelta) # Date after 7 days from today\n",
    "print \"Date before 7days from today: \"+str(toDate-tdelta) #Date before 7days from today\n",
    "print \"Number of days between anyDate and Todays Date: \"+ str(toDate-anyDate) # getting Time delta as number of days\n",
    "print \"Number of seconds between anyDate and Todays Date: \"+str((toDate-anyDate).total_seconds()) #getting time delta as seconds"
   ]
  },
  {
   "cell_type": "code",
   "execution_count": 41,
   "metadata": {
    "collapsed": false
   },
   "outputs": [
    {
     "name": "stdout",
     "output_type": "stream",
     "text": [
      "09:30:45.100000\n",
      "9\n"
     ]
    }
   ],
   "source": [
    "#Time Module\n",
    "\n",
    "# Any time\n",
    "anyTime=datetime.time(9,30,45,100000) # 100000 is microseconds\n",
    "print anyTime\n",
    "print anyTime.hour"
   ]
  },
  {
   "cell_type": "code",
   "execution_count": 47,
   "metadata": {
    "collapsed": false
   },
   "outputs": [
    {
     "name": "stdout",
     "output_type": "stream",
     "text": [
      "2016-07-24 09:30:45.100000\n",
      "2016-07-24\n",
      "09:30:45.100000\n",
      "2016\n"
     ]
    }
   ],
   "source": [
    "#DateTime Module\n",
    "\n",
    "#ANydate and time\n",
    "anyDateTime=datetime.datetime(2016,7,24,9,30,45,100000)\n",
    "print anyDateTime\n",
    "print anyDateTime.date() #internal date functions\n",
    "print anyDateTime.time() #internal time functions\n",
    "print anyDateTime.year ##internal year functions"
   ]
  },
  {
   "cell_type": "code",
   "execution_count": 52,
   "metadata": {
    "collapsed": false
   },
   "outputs": [
    {
     "name": "stdout",
     "output_type": "stream",
     "text": [
      "Exact date and time after 7 days from today will be: 2017-03-25 11:27:02.494000\n",
      "Exact date and time after 12 hours from today will be: 2017-03-18 23:27:02.494000\n"
     ]
    }
   ],
   "source": [
    "#time delta for datetime\n",
    "\n",
    "dtdelta=datetime.timedelta(days=7)\n",
    "print \"Exact date and time after 7 days from today will be: \"+str(datetime.datetime.today()+dtdelta)\n",
    "dtdelta=datetime.timedelta(hours=12)\n",
    "print \"Exact date and time after 12 hours from today will be: \"+str(datetime.datetime.today()+dtdelta)"
   ]
  },
  {
   "cell_type": "code",
   "execution_count": 55,
   "metadata": {
    "collapsed": false
   },
   "outputs": [
    {
     "name": "stdout",
     "output_type": "stream",
     "text": [
      "2017-03-18 11:34:00.020000\n",
      "2017-03-18 11:34:00.020000\n",
      "2017-03-18 06:04:00.020000\n"
     ]
    }
   ],
   "source": [
    "# Datetime.constructor\n",
    "\n",
    "dt_today=datetime.datetime.today() #today doesnot give us an option to pass the timezone\n",
    "dt_now=datetime.datetime.now() # gives us an option to pass the timezone\n",
    "dt_utc=datetime.datetime.utcnow()  #universal timezone without timezone info\n",
    "\n",
    "print dt_today\n",
    "print dt_now\n",
    "print dt_utc"
   ]
  },
  {
   "cell_type": "code",
   "execution_count": null,
   "metadata": {
    "collapsed": true
   },
   "outputs": [],
   "source": [
    "#timezone aware datetime using UTC and pytz\n",
    "\n"
   ]
  }
 ],
 "metadata": {
  "kernelspec": {
   "display_name": "Python 2",
   "language": "python",
   "name": "python2"
  },
  "language_info": {
   "codemirror_mode": {
    "name": "ipython",
    "version": 2
   },
   "file_extension": ".py",
   "mimetype": "text/x-python",
   "name": "python",
   "nbconvert_exporter": "python",
   "pygments_lexer": "ipython2",
   "version": "2.7.12"
  }
 },
 "nbformat": 4,
 "nbformat_minor": 0
}
