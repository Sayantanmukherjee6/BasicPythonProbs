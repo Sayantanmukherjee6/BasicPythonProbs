{
 "cells": [
  {
   "cell_type": "markdown",
   "metadata": {},
   "source": [
    "https://github.com/zhiwehu/Python-programming-exercises/blob/master/100%2B%20Python%20challenging%20programming%20exercises.txt#L2356"
   ]
  },
  {
   "cell_type": "markdown",
   "metadata": {},
   "source": [
    "### Given a sorted array nums, remove the duplicates in-place such that each element appears only once and returns the new length.\n",
    "\n",
    "Do not allocate extra space for another array, you must do this by modifying the input array in-place with O(1) extra memory.\n",
    "\n",
    "-------------------------------------------------------------------------------------------------------------------\n",
    "\n",
    "Input: nums = [1,1,2]\n",
    "\n",
    "Output: 2, nums = [1,2]\n",
    "\n",
    "Explanation: Your function should return length = 2, with the first two elements of nums being 1 and 2 respectively. It doesn't matter what you leave beyond the returned length.\n",
    "\n",
    "-------------------------------------------------------------------------------------------------------------------\n",
    "\n",
    "Input: nums = [0,0,1,1,1,2,2,3,3,4]\n",
    "\n",
    "Output: 5, nums = [0,1,2,3,4]\n",
    "\n",
    "Explanation: Your function should return length = 5, with the first five elements of nums being modified to 0, 1, 2, 3, and 4 respectively. It doesn't matter what values are set beyond the returned length.\n"
   ]
  },
  {
   "cell_type": "code",
   "execution_count": 5,
   "metadata": {},
   "outputs": [],
   "source": [
    "def removeDuplicates(nums):\n",
    "\n",
    "    s = 0\n",
    "    for i,val in enumerate(nums):\n",
    "        j = i+1\n",
    "        while(j < len(nums)):\n",
    "            if nums[i] == nums[j]:\n",
    "                del nums[j]\n",
    "            else:\n",
    "                break\n",
    "    return len(nums)\n",
    "        "
   ]
  },
  {
   "cell_type": "markdown",
   "metadata": {},
   "source": [
    "### 1.String from prefix and suffix of given two strings\n",
    "\n",
    "\n",
    "Input : string a = remuneration,\n",
    "        string b = acquiesce,\n",
    "        l= 5,\n",
    "Output :remuniesce\n",
    "\n",
    "Input : string a= adulation,\n",
    "        string b= obstreperous,\n",
    "        l= 6,\n",
    "Output :adulatperous\n"
   ]
  },
  {
   "cell_type": "code",
   "execution_count": 363,
   "metadata": {},
   "outputs": [],
   "source": [
    "string_dict={'a':['remuneration','adulation'],'b':['acquiesce','obstreperous'],'l':[5,6]}"
   ]
  },
  {
   "cell_type": "code",
   "execution_count": 364,
   "metadata": {},
   "outputs": [
    {
     "data": {
      "text/plain": [
       "'remuniesce'"
      ]
     },
     "execution_count": 364,
     "metadata": {},
     "output_type": "execute_result"
    }
   ],
   "source": [
    "num=0\n",
    "string_dict['a'][num][:string_dict['l'][num]]+string_dict['b'][num][-string_dict['l'][num]:]"
   ]
  },
  {
   "cell_type": "markdown",
   "metadata": {},
   "source": [
    "### Removing redundant anagrams and sorting the output\n",
    "\n",
    "Input : text=[\"code\",\"framer\",\"frame\",\"doce\",\"ramef\"], Output: ['code', 'frame', 'framer']\n"
   ]
  },
  {
   "cell_type": "code",
   "execution_count": 1,
   "metadata": {},
   "outputs": [
    {
     "name": "stdout",
     "output_type": "stream",
     "text": [
      "['code', 'frame', 'framer']\n"
     ]
    }
   ],
   "source": [
    "text=[\"code\",\"framer\",\"frame\",\"doce\",\"ramef\"]\n",
    "\n",
    "for i in range(len(text)):\n",
    "    for j in range(i,len(text)):\n",
    "        if set(text[i]) == set(text[j]) and len(text[i]) == len(text[j]) and text[i]!=text[j]:\n",
    "            text.remove(text[j])\n",
    "            text.insert(j,\"Null\")\n",
    "            \n",
    "text=sorted(list(set(text)))\n",
    "text.remove('Null')\n",
    "\n",
    "print(text)"
   ]
  },
  {
   "cell_type": "markdown",
   "metadata": {},
   "source": [
    "### Arrays: Left Rotation\n",
    "\n",
    "d=4 (no of rotations)\n",
    "input =[1,2,3,4,5]\n",
    "output =[5,1,2,3,4] <br/>\n",
    "\n",
    "Input change after 4 iterations : <br/>\n",
    "iter1=[2,3,4,5,1] <br/>\n",
    "iter2=[3,4,5,1,2]<br/>\n",
    "iter3=[4,5,1,2,3]<br/>\n",
    "iter4=[5,1,2,3,4]<br/>"
   ]
  },
  {
   "cell_type": "code",
   "execution_count": 22,
   "metadata": {},
   "outputs": [],
   "source": [
    "a=[1,2,3,4,5]\n",
    "d=4\n",
    "for _ in range(d):\n",
    "    x=a.pop(0)\n",
    "    a.append(x)"
   ]
  },
  {
   "cell_type": "code",
   "execution_count": 23,
   "metadata": {},
   "outputs": [
    {
     "data": {
      "text/plain": [
       "[5, 1, 2, 3, 4]"
      ]
     },
     "execution_count": 23,
     "metadata": {},
     "output_type": "execute_result"
    }
   ],
   "source": [
    "a"
   ]
  },
  {
   "cell_type": "code",
   "execution_count": 24,
   "metadata": {},
   "outputs": [],
   "source": [
    "## For right rotation\n",
    "a=[1,2,3,4,5]\n",
    "d=4\n",
    "for _ in range(d):\n",
    "    x=a.pop(len(a)-1)\n",
    "    a.insert(0,x)\n"
   ]
  },
  {
   "cell_type": "code",
   "execution_count": 25,
   "metadata": {},
   "outputs": [
    {
     "data": {
      "text/plain": [
       "[2, 3, 4, 5, 1]"
      ]
     },
     "execution_count": 25,
     "metadata": {},
     "output_type": "execute_result"
    }
   ],
   "source": [
    "a"
   ]
  },
  {
   "cell_type": "markdown",
   "metadata": {},
   "source": [
    "### 2. Remove duplicate from a list without using set\n",
    "\n",
    "Input: l=[1,2,3,4,1,5,7,6,45,6,7],\n",
    "Output: [1,2,3,4,5,6,7,45]\n"
   ]
  },
  {
   "cell_type": "code",
   "execution_count": 5,
   "metadata": {},
   "outputs": [],
   "source": [
    "l=[1,2,3,45,46,5,5,5,3,3,3,3,3,4,1,5,7,6,45,6,7,45]"
   ]
  },
  {
   "cell_type": "code",
   "execution_count": 6,
   "metadata": {},
   "outputs": [],
   "source": [
    "m=[0 for each in range(max(l)+1)]\n",
    "output=[]\n",
    "# count variable : For storing number of unique values\n",
    "count=0 \n",
    "for each in l:\n",
    "    if m[each]==0:\n",
    "        m[each]=1\n",
    "        count+=1\n",
    "    else:\n",
    "        pass"
   ]
  },
  {
   "cell_type": "code",
   "execution_count": 7,
   "metadata": {},
   "outputs": [
    {
     "data": {
      "text/plain": [
       "[1, 2, 3, 4, 5, 6, 7, 45, 46]"
      ]
     },
     "execution_count": 7,
     "metadata": {},
     "output_type": "execute_result"
    }
   ],
   "source": [
    "[i for i in range(len(m)) if m[i] == 1]"
   ]
  },
  {
   "cell_type": "code",
   "execution_count": 8,
   "metadata": {},
   "outputs": [
    {
     "data": {
      "text/plain": [
       "9"
      ]
     },
     "execution_count": 8,
     "metadata": {},
     "output_type": "execute_result"
    }
   ],
   "source": [
    "count"
   ]
  },
  {
   "cell_type": "markdown",
   "metadata": {},
   "source": [
    "### 3. Implement an algorithm to determine if a string has all unique characters "
   ]
  },
  {
   "cell_type": "code",
   "execution_count": null,
   "metadata": {},
   "outputs": [],
   "source": [
    "s=\"aabcfdfgjhgfklh\""
   ]
  },
  {
   "cell_type": "code",
   "execution_count": null,
   "metadata": {},
   "outputs": [],
   "source": [
    "ascii=[ord(each) for each in s]"
   ]
  },
  {
   "cell_type": "code",
   "execution_count": null,
   "metadata": {},
   "outputs": [],
   "source": [
    "m=[0 for each in range(max(ascii)+1)]\n",
    "output=[]\n",
    "# count variable : For tracking duplicate characters\n",
    "count=0 \n",
    "for each in l:\n",
    "    if count==0:\n",
    "        if m[each]==0:\n",
    "            m[each]=1\n",
    "        else:\n",
    "            count+=1\n",
    "    else:\n",
    "        print(\"duplicate found\")\n",
    "        break"
   ]
  },
  {
   "cell_type": "markdown",
   "metadata": {},
   "source": [
    "### Letter Count "
   ]
  },
  {
   "cell_type": "code",
   "execution_count": 1,
   "metadata": {},
   "outputs": [
    {
     "name": "stdout",
     "output_type": "stream",
     "text": [
      "Counter({'a': 4, ' ': 4, 'l': 3, 't': 2, 'b': 1, 'e': 1, 'd': 1, 'i': 1, 'h': 1, 'M': 1, 'm': 1, 'r': 1, 'y': 1})\n"
     ]
    }
   ],
   "source": [
    "from collections import Counter\n",
    "str = \"Mary had a little lamb\"\n",
    "counter = Counter(str)\n",
    "print counter"
   ]
  },
  {
   "cell_type": "markdown",
   "metadata": {},
   "source": [
    "### Printing Matrix in Spiral order \n",
    "Logic: Loop through rows.Loop through columns.Print (a[0][cols])--->Del current a[0] ---> Rotate ---> repeat"
   ]
  },
  {
   "cell_type": "code",
   "execution_count": 6,
   "metadata": {},
   "outputs": [
    {
     "name": "stdout",
     "output_type": "stream",
     "text": [
      "[[7, 8, 9, 10, 11, 12], [13, 14, 15, 16, 17, 18]]\n",
      "[[12, 18], [11, 17], [10, 16], [9, 15], [8, 14], [7, 13]]\n",
      "==============\n",
      "[[11, 17], [10, 16], [9, 15], [8, 14], [7, 13]]\n",
      "[[17, 16, 15, 14, 13], [11, 10, 9, 8, 7]]\n",
      "==============\n",
      "[[11, 10, 9, 8, 7]]\n",
      "[[7], [8], [9], [10], [11]]\n",
      "==============\n",
      "[[8], [9], [10], [11]]\n",
      "[[8, 9, 10, 11]]\n",
      "==============\n",
      "[]\n",
      "[]\n",
      "==============\n",
      "[1, 2, 3, 4, 5, 6, 12, 18, 17, 16, 15, 14, 13, 7, 8, 9, 10, 11]\n"
     ]
    }
   ],
   "source": [
    "a = [ [1, 2, 3, 4, 5, 6], \n",
    "      [7, 8, 9, 10, 11, 12], \n",
    "      [13, 14, 15, 16, 17, 18] ]\n",
    "\n",
    "# a = [ [1, 2, 3, 4, 5, 6], \n",
    "#       [7, 8, 9, 10, 11, 12], \n",
    "#       [13, 14, 15, 16, 17, 18],\n",
    "#       [19, 20, 21, 22, 23, 24],\n",
    "#       [25, 26, 27, 28, 29, 30]]\n",
    "\n",
    "# a=[ [1,2,3,4],\n",
    "#     [5,6,7,8],\n",
    "#     [9,10,11,12],\n",
    "#     [13,14,15,16] ]\n",
    "\n",
    "c=len(a[0])\n",
    "r=len(a)\n",
    "\n",
    "output=[]\n",
    "for i in range(0,r+(r-1),1):\n",
    "    try:\n",
    "        for j in range(0, c, 1):\n",
    "            output.append(a[0][j])\n",
    "        del a[0]\n",
    "        a=list(map(list, zip(*a)))[::-1]\n",
    "        c=len(a[0])\n",
    "        r=len(a)\n",
    "    except:\n",
    "        pass\n",
    "\n",
    "print (output)"
   ]
  },
  {
   "cell_type": "markdown",
   "metadata": {},
   "source": [
    "### Count Triplets (Based on geomtric progression) (Incomplete)\n",
    "\n",
    "\n",
    "\n",
    "Example:  arr=[1,4,16,64], r=4. Output : indices (0,1,2) and (1,2,3) (because triplets (1,4,16) and (4,16,64) forms GP series with common ration 4 ) "
   ]
  },
  {
   "cell_type": "code",
   "execution_count": 360,
   "metadata": {},
   "outputs": [],
   "source": [
    "a=[1,3,9,9,27,81]"
   ]
  },
  {
   "cell_type": "code",
   "execution_count": 361,
   "metadata": {},
   "outputs": [],
   "source": [
    "n=10\n",
    "m=[[[0 for k in xrange(n)] for j in xrange(n)] for i in xrange(n)]"
   ]
  },
  {
   "cell_type": "code",
   "execution_count": 362,
   "metadata": {},
   "outputs": [],
   "source": [
    "for each in a:\n",
    "    count=0\n",
    "    for i in range(len(a)):\n",
    "        first=each\n",
    "        if first*4 in a and count<3:\n",
    "            second=first*4\n",
    "            if second*4 in a:\n",
    "                third=second*4\n",
    "                if third*4 in a:\n",
    "                    print ((first,second,third))\n",
    "    #                 print a[i]\n",
    "                    count=count+1\n",
    "#     break"
   ]
  },
  {
   "cell_type": "markdown",
   "metadata": {},
   "source": [
    "### K’th Non-repeating Character\n",
    "\n",
    "Input : str = geeksforgeeks, k = 3 <br> Output : <b>r</b><br> Logic: First non-repeating character is f, second is o and third is r."
   ]
  },
  {
   "cell_type": "code",
   "execution_count": 7,
   "metadata": {},
   "outputs": [],
   "source": [
    "from collections import OrderedDict "
   ]
  },
  {
   "cell_type": "code",
   "execution_count": 8,
   "metadata": {},
   "outputs": [],
   "source": [
    "k=3\n",
    "input=\"geeksforgeeks\""
   ]
  },
  {
   "cell_type": "code",
   "execution_count": 11,
   "metadata": {},
   "outputs": [
    {
     "name": "stdout",
     "output_type": "stream",
     "text": [
      "r\n"
     ]
    }
   ],
   "source": [
    "dict=OrderedDict.fromkeys(input,0) \n",
    "\n",
    "# now traverse input string to calculate \n",
    "    # frequency of each character \n",
    "for ch in input: \n",
    "    dict[ch]+=1\n",
    "    \n",
    "\n",
    "# now extract list of all keys whose value \n",
    "    # is 1 from dict Ordered Dictionary  \n",
    "nonRepeatDict = [key for (key,value) in dict.iteritems() if value==1] \n",
    "\n",
    "# now return (k-1)th character from above list \n",
    "if len(nonRepeatDict) < k: \n",
    "    print 'Less than k non-repeating characters in input.' \n",
    "else: \n",
    "     print nonRepeatDict[k-1] "
   ]
  },
  {
   "cell_type": "markdown",
   "metadata": {},
   "source": [
    "### Caesar Cipher "
   ]
  },
  {
   "cell_type": "code",
   "execution_count": 2,
   "metadata": {},
   "outputs": [],
   "source": [
    "input_text=\"hello world\""
   ]
  },
  {
   "cell_type": "code",
   "execution_count": 38,
   "metadata": {},
   "outputs": [],
   "source": [
    "output_text=[]\n",
    "for each in input_text:\n",
    "    if each==\" \":\n",
    "        pass\n",
    "    else:\n",
    "        output_text.append(chr(ord(each)+1))"
   ]
  },
  {
   "cell_type": "code",
   "execution_count": 39,
   "metadata": {},
   "outputs": [
    {
     "data": {
      "text/plain": [
       "['i', 'f', 'm', 'm', 'p', 'x', 'p', 's', 'm', 'e']"
      ]
     },
     "execution_count": 39,
     "metadata": {},
     "output_type": "execute_result"
    }
   ],
   "source": [
    "output_text"
   ]
  },
  {
   "cell_type": "code",
   "execution_count": 41,
   "metadata": {},
   "outputs": [],
   "source": [
    "tmp=input_text.split(\" \")"
   ]
  },
  {
   "cell_type": "code",
   "execution_count": 42,
   "metadata": {},
   "outputs": [
    {
     "data": {
      "text/plain": [
       "'hello'"
      ]
     },
     "execution_count": 42,
     "metadata": {},
     "output_type": "execute_result"
    }
   ],
   "source": [
    "tmp[0]"
   ]
  },
  {
   "cell_type": "code",
   "execution_count": 43,
   "metadata": {},
   "outputs": [
    {
     "data": {
      "text/plain": [
       "['i', 'f', 'm', 'm', 'p']"
      ]
     },
     "execution_count": 43,
     "metadata": {},
     "output_type": "execute_result"
    }
   ],
   "source": [
    "map(lambda x: chr(ord(x)+1),tmp[0])"
   ]
  },
  {
   "cell_type": "code",
   "execution_count": 52,
   "metadata": {},
   "outputs": [
    {
     "name": "stdout",
     "output_type": "stream",
     "text": [
      "hello\n",
      "world\n"
     ]
    }
   ],
   "source": [
    "for each in tmp:\n",
    "    print (each)"
   ]
  },
  {
   "cell_type": "code",
   "execution_count": 66,
   "metadata": {},
   "outputs": [],
   "source": [
    "output_text=[]\n",
    "for each in tmp:\n",
    "    output_text.extend(map(lambda x: chr(ord(x)+1),each))\n"
   ]
  },
  {
   "cell_type": "code",
   "execution_count": 67,
   "metadata": {},
   "outputs": [
    {
     "data": {
      "text/plain": [
       "['i', 'f', 'm', 'm', 'p', 'x', 'p', 's', 'm', 'e']"
      ]
     },
     "execution_count": 67,
     "metadata": {},
     "output_type": "execute_result"
    }
   ],
   "source": [
    "output_text   "
   ]
  },
  {
   "cell_type": "code",
   "execution_count": 57,
   "metadata": {},
   "outputs": [
    {
     "data": {
      "text/plain": [
       "'i f m m p x p s m e'"
      ]
     },
     "execution_count": 57,
     "metadata": {},
     "output_type": "execute_result"
    }
   ],
   "source": [
    "\" \".join(str(r) for v in output_text for r in v)"
   ]
  },
  {
   "cell_type": "code",
   "execution_count": 63,
   "metadata": {},
   "outputs": [],
   "source": [
    "a,b=output_text"
   ]
  },
  {
   "cell_type": "markdown",
   "metadata": {},
   "source": [
    "### Recursive Search"
   ]
  },
  {
   "cell_type": "code",
   "execution_count": 220,
   "metadata": {},
   "outputs": [],
   "source": [
    "search_items=[5,7,10]\n",
    "\n",
    "ip=[(5,6,1),(7,8,2),(1,2,3),(8,9,10)]"
   ]
  },
  {
   "cell_type": "code",
   "execution_count": 221,
   "metadata": {},
   "outputs": [
    {
     "data": {
      "text/plain": [
       "[(5, 6, 1), (7, 8, 2), (1, 2, 3), (8, 9, 10)]"
      ]
     },
     "execution_count": 221,
     "metadata": {},
     "output_type": "execute_result"
    }
   ],
   "source": [
    "ip"
   ]
  },
  {
   "cell_type": "code",
   "execution_count": 317,
   "metadata": {},
   "outputs": [],
   "source": [
    "#Tail recursion\n",
    "ip=[(5,6,1),(7,8,2),(1,2,3),(8,9,10)]\n",
    "search_items=[5,7,10]\n",
    "\n",
    "def search_func(l,ind,c,s,k=[]):\n",
    "    print(l)\n",
    "    if len(l)==0: \n",
    "        if len(set(c) & set(s))==1:\n",
    "            k.append(ind)\n",
    "            return k\n",
    "        else:\n",
    "            return k\n",
    "    else:\n",
    "        if len(set(c) & set(s))==1:\n",
    "            k.append(ind)\n",
    "        return search_func(l,l.index(l[len(l)-1]),l.pop(),s)"
   ]
  },
  {
   "cell_type": "code",
   "execution_count": 318,
   "metadata": {},
   "outputs": [
    {
     "name": "stdout",
     "output_type": "stream",
     "text": [
      "[(5, 6, 1), (7, 8, 2), (1, 2, 3), (8, 9, 10)]\n",
      "[(5, 6, 1), (7, 8, 2), (1, 2, 3)]\n",
      "[(5, 6, 1), (7, 8, 2)]\n",
      "[(5, 6, 1)]\n",
      "[]\n"
     ]
    },
    {
     "data": {
      "text/plain": [
       "[3, 1, 0]"
      ]
     },
     "execution_count": 318,
     "metadata": {},
     "output_type": "execute_result"
    }
   ],
   "source": [
    "search_func(ip,0,(),search_items)"
   ]
  },
  {
   "cell_type": "code",
   "execution_count": 11,
   "metadata": {},
   "outputs": [],
   "source": [
    "#Forward Recursion\n",
    "ip=[(5,6,1),(7,8,2),(1,2,3),(8,9,10)]\n",
    "search_items=[5,7,10]\n",
    "\n",
    "def search_func(l,splice,search,count=-1,k=[]):\n",
    "    print(l)\n",
    "    if len(l)==0: \n",
    "        if len(set(splice) & set(search))==1:\n",
    "            k.append(count)\n",
    "            return k\n",
    "        else:\n",
    "            return k\n",
    "    else:\n",
    "        if len(set(splice) & set(search))==1: \n",
    "            k.append(count)\n",
    "        return search_func(l,l.pop(0),search,count=count+1)"
   ]
  },
  {
   "cell_type": "code",
   "execution_count": 12,
   "metadata": {},
   "outputs": [
    {
     "name": "stdout",
     "output_type": "stream",
     "text": [
      "[(5, 6, 1), (7, 8, 2), (1, 2, 3), (8, 9, 10)]\n",
      "[(7, 8, 2), (1, 2, 3), (8, 9, 10)]\n",
      "[(1, 2, 3), (8, 9, 10)]\n",
      "[(8, 9, 10)]\n",
      "[]\n"
     ]
    },
    {
     "data": {
      "text/plain": [
       "[0, 1, 3]"
      ]
     },
     "execution_count": 12,
     "metadata": {},
     "output_type": "execute_result"
    }
   ],
   "source": [
    "search_func(ip,(),search_items)"
   ]
  },
  {
   "cell_type": "code",
   "execution_count": 1,
   "metadata": {},
   "outputs": [],
   "source": [
    "#Recursion with decreasing search_items\n",
    "ip=[(5,6,1),(7,8,2),(1,2,3),(8,9,10),(20,30,40),(4,5,6)]\n",
    "search_items=[5,7,20]\n",
    "\n",
    "def search_func(l,splice,search,count=-1,k=[],d={}):\n",
    "    if len(search)==0 or len(l)==0: \n",
    "        \n",
    "        if len(set(splice) & set(search))==1:\n",
    "            search=list(set(search)-set(splice))\n",
    "            d.setdefault(count,tuple(set(splice)-set(search)))\n",
    "            return d\n",
    "        else:\n",
    "            return d\n",
    "    else:\n",
    "        if len(set(splice) & set(search))==1: \n",
    "            search=list(set(search)-set(splice))\n",
    "            d.setdefault(count,tuple(set(splice)-set(search)))\n",
    "        return search_func(l,l.pop(0),search,count=count+1)"
   ]
  },
  {
   "cell_type": "code",
   "execution_count": 2,
   "metadata": {},
   "outputs": [
    {
     "data": {
      "text/plain": [
       "{0: (1, 5, 6), 1: (8, 2, 7), 4: (40, 20, 30)}"
      ]
     },
     "execution_count": 2,
     "metadata": {},
     "output_type": "execute_result"
    }
   ],
   "source": [
    "search_func(ip,(),search_items)"
   ]
  },
  {
   "cell_type": "markdown",
   "metadata": {},
   "source": [
    "### Prime number within a range"
   ]
  },
  {
   "cell_type": "code",
   "execution_count": 38,
   "metadata": {},
   "outputs": [
    {
     "name": "stdout",
     "output_type": "stream",
     "text": [
      "2 3 5 7\n"
     ]
    }
   ],
   "source": [
    "integer=9\n",
    "\n",
    "k=[]\n",
    "for num in range(integer):\n",
    "# prime numbers are greater than 1\n",
    "    if num > 1:\n",
    "        for i in range(2,num):\n",
    "            if (num % i) == 0:\n",
    "                break\n",
    "        else:\n",
    "            k.append(str(num))\n",
    "print (' '.join(k))"
   ]
  },
  {
   "cell_type": "markdown",
   "metadata": {},
   "source": [
    "### Best Index "
   ]
  },
  {
   "cell_type": "code",
   "execution_count": null,
   "metadata": {},
   "outputs": [],
   "source": []
  },
  {
   "cell_type": "markdown",
   "metadata": {},
   "source": [
    "### Min number of steps to convert l[0] to l[1] using recursion\n",
    "\n",
    "<u><b>Rules:</u></b> <br/>\n",
    "\n",
    "1. l[0] * l[2] <br/>\n",
    "2. l[0]-2 <br/>\n",
    "3. l[0]-1 <br/><br/>\n",
    "\n",
    "<u>For example: </u> <br/>\n",
    "\n",
    "input= [3,10,2] <br/>\n",
    "Conversion steps: <br/>\n",
    "\n",
    "1. [6,10,2]<br/>\n",
    "2. [5,10,2]<br/>\n",
    "3. [10,10,2] <br/>\n",
    "\n",
    "Output: Min steps: 3<br/>"
   ]
  },
  {
   "cell_type": "code",
   "execution_count": 112,
   "metadata": {},
   "outputs": [],
   "source": [
    "import sys\n",
    "\n",
    "sys.setrecursionlimit(99999999)"
   ]
  },
  {
   "cell_type": "code",
   "execution_count": 113,
   "metadata": {},
   "outputs": [],
   "source": [
    "def convert(l):\n",
    "    if l[0]==l[1]:\n",
    "        return 0\n",
    "    else:\n",
    "        # three operations\n",
    "        first,second,third=l[0]*l[2],l[0]-2,l[0]-1  \n",
    "        if l[1]>l[0]:\n",
    "            if l[1]-first==abs(l[1]-first) and l[1]-first<l[1]-second and l[1]-first<l[1]-third:\n",
    "                l[0]=first\n",
    "                return 1+convert(l)\n",
    "            elif l[1]-second==abs(l[1]-second) and l[1]-second<l[1]-first and l[1]-second<l[1]-third:\n",
    "                l[0]=second\n",
    "                return 1+convert(l)\n",
    "            else:\n",
    "                l[0]=third\n",
    "                return 1+convert(l)\n",
    "        else:\n",
    "            if first-l[1] ==abs(first-l[1]) and first-l[1]<second-l[1] and first-l[1]<third-l[1]:\n",
    "                l[0]=first\n",
    "                return 1+convert(l)\n",
    "            elif second-l[1] ==abs(second-l[1]) and second-l[1]<first-l[1] and second-l[1]<third-l[1]:\n",
    "                l[0]=second\n",
    "                return 1+convert(l)\n",
    "            else:\n",
    "                l[0]=third\n",
    "                return 1+convert(l)"
   ]
  },
  {
   "cell_type": "code",
   "execution_count": null,
   "metadata": {},
   "outputs": [],
   "source": [
    "# ip=[11,6,2]\n",
    "ip=[30276,187031,5943]\n",
    "convert(ip)"
   ]
  },
  {
   "cell_type": "code",
   "execution_count": null,
   "metadata": {},
   "outputs": [],
   "source": []
  },
  {
   "cell_type": "code",
   "execution_count": null,
   "metadata": {},
   "outputs": [],
   "source": []
  },
  {
   "cell_type": "code",
   "execution_count": null,
   "metadata": {},
   "outputs": [],
   "source": []
  },
  {
   "cell_type": "code",
   "execution_count": 4,
   "metadata": {
    "scrolled": true
   },
   "outputs": [
    {
     "name": "stdout",
     "output_type": "stream",
     "text": [
      "0\n",
      "('Full: ', False)\n",
      "('Full: ', True)\n",
      "5\n",
      "9\n",
      "1\n",
      "('Empty: ', False)\n",
      "7\n",
      "9\n",
      "10\n",
      "('Empty: ', True)\n",
      "('Full: ', False)\n"
     ]
    }
   ],
   "source": [
    "import Queue as queue\n",
    "  \n",
    "L = queue.Queue(maxsize=6) \n",
    "  \n",
    "# qsize() give the maxsize \n",
    "# of the Queue \n",
    "print(L.qsize()) \n",
    "  \n",
    "L.put(5) \n",
    "L.put(9) \n",
    "L.put(1) \n",
    "L.put(7) \n",
    "  \n",
    "# Return Boolean for Full \n",
    "# Queue \n",
    "print(\"Full: \", L.full()) \n",
    "  \n",
    "L.put(9) \n",
    "L.put(10) \n",
    "print(\"Full: \", L.full()) \n",
    "  \n",
    "print(L.get()) \n",
    "print(L.get()) \n",
    "print(L.get()) \n",
    "  \n",
    "# Return Boolean for Empty \n",
    "# Queue \n",
    "print(\"Empty: \", L.empty()) \n",
    "  \n",
    "print(L.get()) \n",
    "print(L.get()) \n",
    "print(L.get()) \n",
    "  \n",
    "print(\"Empty: \", L.empty()) \n",
    "print(\"Full: \", L.full()) \n",
    "  \n",
    "# This would result into Infinite \n",
    "# Loop as the Queue is empty. \n",
    "# print(L.get()) \n"
   ]
  },
  {
   "cell_type": "code",
   "execution_count": 9,
   "metadata": {},
   "outputs": [
    {
     "data": {
      "text/plain": [
       "1"
      ]
     },
     "execution_count": 9,
     "metadata": {},
     "output_type": "execute_result"
    }
   ],
   "source": [
    "121%10\n"
   ]
  },
  {
   "cell_type": "code",
   "execution_count": 11,
   "metadata": {},
   "outputs": [],
   "source": [
    "a=3\n",
    "\n",
    "def rev(n):\n",
    "    if n==0:\n",
    "        return 0\n",
    "    else:\n",
    "        rev(n-1)\n",
    "        print (n)"
   ]
  },
  {
   "cell_type": "code",
   "execution_count": 12,
   "metadata": {},
   "outputs": [
    {
     "name": "stdout",
     "output_type": "stream",
     "text": [
      "1\n",
      "2\n",
      "3\n"
     ]
    }
   ],
   "source": [
    "rev(a)"
   ]
  },
  {
   "cell_type": "code",
   "execution_count": 46,
   "metadata": {},
   "outputs": [],
   "source": [
    "q='MAD'"
   ]
  },
  {
   "cell_type": "code",
   "execution_count": 47,
   "metadata": {},
   "outputs": [],
   "source": [
    "i=len(q)-1"
   ]
  },
  {
   "cell_type": "code",
   "execution_count": 48,
   "metadata": {},
   "outputs": [
    {
     "name": "stdout",
     "output_type": "stream",
     "text": [
      "D\n",
      "A\n",
      "M\n"
     ]
    }
   ],
   "source": [
    "while(i>=0):\n",
    "    print (q[i])\n",
    "    i=i-1"
   ]
  },
  {
   "cell_type": "code",
   "execution_count": 93,
   "metadata": {},
   "outputs": [],
   "source": [
    "def rev_str(s,l):\n",
    "    if l==-1:\n",
    "        return 0\n",
    "    else:\n",
    "        print (s[l])\n",
    "        rev_str(s,l-1)\n",
    "        \n",
    "        "
   ]
  },
  {
   "cell_type": "code",
   "execution_count": 94,
   "metadata": {},
   "outputs": [
    {
     "name": "stdout",
     "output_type": "stream",
     "text": [
      "D\n",
      "A\n",
      "M\n"
     ]
    }
   ],
   "source": [
    "rev_str(\"MAD\",len(\"MAD\")-1)"
   ]
  },
  {
   "cell_type": "code",
   "execution_count": null,
   "metadata": {},
   "outputs": [],
   "source": []
  },
  {
   "cell_type": "code",
   "execution_count": null,
   "metadata": {},
   "outputs": [],
   "source": []
  },
  {
   "cell_type": "code",
   "execution_count": null,
   "metadata": {},
   "outputs": [],
   "source": []
  },
  {
   "cell_type": "code",
   "execution_count": 1,
   "metadata": {},
   "outputs": [],
   "source": [
    "import heapq\n",
    "class Heap(object):\n",
    "\n",
    "    def __init__(self,k):\n",
    "        \"\"\" create a new min-heap. \"\"\"\n",
    "        self._heap = []\n",
    "        self.k = k\n",
    "\n",
    "    def push(self, priority,item):\n",
    "        \"\"\" push items into heap \"\"\"\n",
    "        assert priority >= 0\n",
    " \n",
    "        if len(self._heap)< self.k:\n",
    "            heapq.heappush(self._heap, (priority,item))\n",
    "        else:\n",
    "            r = heapq.heappop(self._heap)\n",
    "            q = heapq.heappop(self._heap)\n",
    "            if priority <= r[0] and priority <= q[0] and r[0] <= q[0]:\n",
    "                heapq.heappush(self._heap, (priority,item))\n",
    "                heapq.heappush(self._heap, r)\n",
    "            elif priority <= r[0] and priority <= q[0] and r[0] >= q[0]:\n",
    "                heapq.heappush(self._heap, (priority,item))\n",
    "                heapq.heappush(self._heap, q)\n",
    "            elif priority >= r[0] and priority <= q[0] and r[0] <= q[0]:\n",
    "                heapq.heappush(self._heap, (priority,item))\n",
    "                heapq.heappush(self._heap,r)\n",
    "            elif priority <= r[0] and priority >= q[0] and r[0] >= q[0]:\n",
    "                heapq.heappush(self._heap, (priority,item))\n",
    "                heapq.heappush(self._heap,q)\n",
    "            elif priority >= r[0] and priority >= q[0] and r[0] >= q[0]:\n",
    "                heapq.heappush(self._heap,r)\n",
    "                heapq.heappush(self._heap,q)\n",
    "     \n",
    "    def pop(self):\n",
    "        \"\"\" Returns the item with lowest priority. \"\"\"\n",
    "        item = heapq.heappop(self._heap)[1] # (prio, item)[1] == item\n",
    "        return item\n",
    "    \n",
    "    def k_smallest(self):\n",
    "        \"\"\" returns k smallest integer \"\"\"\n",
    "        k_list= heapq.nsmallest(self.k, self._heap)\n",
    "        return [val[1] for val in k_list]\n",
    "\n",
    "    def __len__(self):\n",
    "        return len(self._heap)\n",
    "\n",
    "    def __iter__(self):\n",
    "        \"\"\" Get all elements ordered by asc. priority. \"\"\"\n",
    "        return self\n",
    "\n",
    "    def next(self):\n",
    "        \"\"\" Get all elements ordered by their priority (lowest first). \"\"\"\n",
    "        try:\n",
    "            return self.pop()\n",
    "        except IndexError:\n",
    "            raise StopIteration"
   ]
  },
  {
   "cell_type": "code",
   "execution_count": 2,
   "metadata": {},
   "outputs": [],
   "source": [
    "import math\n",
    "\n",
    "coordinate_vectors = [[1,2],[1,5],[3,4],[2,1],[2,5],[3,9],[4,5]]\n",
    "search_condition = [2,3]\n",
    "k = 2"
   ]
  },
  {
   "cell_type": "code",
   "execution_count": 3,
   "metadata": {},
   "outputs": [],
   "source": [
    "h = Heap(k)\n",
    "coord_iter=iter(coordinate_vectors)\n",
    "for _ in coordinate_vectors:\n",
    "    c=coord_iter.__next__()\n",
    "    h.push(math.sqrt(sum([(a - b) ** 2 for a, b in zip(c, search_condition)])),c)"
   ]
  },
  {
   "cell_type": "code",
   "execution_count": 4,
   "metadata": {},
   "outputs": [
    {
     "data": {
      "text/plain": [
       "[[1, 2], [3, 4]]"
      ]
     },
     "execution_count": 4,
     "metadata": {},
     "output_type": "execute_result"
    }
   ],
   "source": [
    "h.k_smallest()"
   ]
  },
  {
   "cell_type": "code",
   "execution_count": 195,
   "metadata": {},
   "outputs": [
    {
     "name": "stdout",
     "output_type": "stream",
     "text": [
      "['g', 'e', 'k', 's', 'f', 'o', 'r', 'g', 'e', 'k', 's', 'k', 's']\n",
      "['g', 'e', 'k', 's', 'f', 'o', 'r', 'g', 'e', 'k', 's']\n"
     ]
    }
   ],
   "source": [
    "# Remove consequtive duplicates\n",
    "def removeDuplicates(S): \n",
    "          \n",
    "    n = len(S)  \n",
    "      \n",
    "    # We don't need to do anything for  \n",
    "    # empty or single character string.  \n",
    "    if (n < 2) : \n",
    "        return\n",
    "          \n",
    "    # j is used to store index is result  \n",
    "    # string (or index of current distinct  \n",
    "    # character)  \n",
    "    j = 0\n",
    "      \n",
    "    # Traversing string  \n",
    "    for i in range(n):  \n",
    "          \n",
    "        # If current character S[i]  \n",
    "        # is different from S[j]  \n",
    "        if (S[j] != S[i]): \n",
    "            j += 1\n",
    "            S[j] = S[i]  \n",
    "    print(S) \n",
    "    # Putting string termination  \n",
    "    # character.  \n",
    "    j += 1\n",
    "    S = S[:j] \n",
    "    return S \n",
    "      \n",
    "# Driver Code  \n",
    "if __name__ == '__main__':  \n",
    "          \n",
    "    S1 = \"geeksforgeeks\"\n",
    "    S1 = list(S1.rstrip()) \n",
    "    S1 = removeDuplicates(S1)  \n",
    "    print(S1)  \n",
    "          \n",
    "#     S2 = \"aabcca\"\n",
    "#     S2 = list(S2.rstrip()) \n",
    "#     S2 = removeDuplicates(S2)  \n",
    "#     print(*S2, sep = \"\") "
   ]
  },
  {
   "cell_type": "markdown",
   "metadata": {},
   "source": [
    "### Given a non-empty array of digits representing a non-negative integer, increment one to the integer.\n",
    "\n",
    "The digits are stored such that the most significant digit is at the head of the list, and each element in the array contains a single digit.\n",
    "\n",
    "You may assume the integer does not contain any leading zero, except the number 0 itself.\n",
    "\n",
    "----------------------------------------------------------------------------------------------\n",
    "\n",
    "Input: digits = [1,2,3]\n",
    "\n",
    "Output: [1,2,4]\n",
    "\n",
    "Explanation: The array represents the integer 123.\n",
    "\n",
    "-----------------------------------------------------------------------------------------------\n",
    "\n",
    "Input: digits = [4,3,2,9]\n",
    "\n",
    "Output: [4,3,3,0]\n",
    "\n",
    "Explanation: The array represents the integer 4330.\n",
    "\n",
    "------------------------------------------------------------------------------------------------\n",
    "\n",
    "Input: digits = [0]\n",
    "\n",
    "Output: [1]\n",
    "\n",
    "------------------------------------------------------------------------------------------------\n",
    "\n",
    "Input: digits = [9]\n",
    "Output: [1,0]\n",
    "\n",
    "------------------------------------------------------------------------------------------------"
   ]
  },
  {
   "cell_type": "code",
   "execution_count": 208,
   "metadata": {},
   "outputs": [],
   "source": [
    "def plusOne(l):\n",
    "    if len(l) == 1:\n",
    "        l[-1] = l[-1] + 1\n",
    "        l = [int(i) for i in str(l[-1])]\n",
    "    else:\n",
    "        l[-1] = l[-1] + 1\n",
    "        if l[-1] < 10:\n",
    "            pass\n",
    "        else:\n",
    "            carry = l[-1]/10\n",
    "            ap_val = l[-1]%10\n",
    "            l[-1] = ap_val\n",
    "            for i,val in reversed(list(enumerate(l))[:-1]):\n",
    "                l[i] = l[i] + 1\n",
    "                carry = l[i]/10\n",
    "                ap_val = l[i]%10\n",
    "                if carry != 1: \n",
    "                    break\n",
    "                else:\n",
    "                    l[i] = ap_val\n",
    "                    if i == 0:\n",
    "                        l.insert(0,carry)\n",
    "    return l"
   ]
  },
  {
   "cell_type": "code",
   "execution_count": 211,
   "metadata": {},
   "outputs": [
    {
     "data": {
      "text/plain": [
       "[1, 0, 0]"
      ]
     },
     "execution_count": 211,
     "metadata": {},
     "output_type": "execute_result"
    }
   ],
   "source": [
    "l = [9,9]\n",
    "plusOne(l)"
   ]
  },
  {
   "cell_type": "markdown",
   "metadata": {},
   "source": [
    "### Given an array nums, write a function to move all 0's to the end of it while maintaining the relative order of the non-zero elements. \n",
    "\n",
    "Input: [0,1,0,3,12]\n",
    "\n",
    "Output: [1,3,12,0,0]\n"
   ]
  },
  {
   "cell_type": "code",
   "execution_count": 323,
   "metadata": {},
   "outputs": [],
   "source": [
    "def moveZeroes(nums):\n",
    "    \"\"\"\n",
    "    Do not return anything, modify nums in-place instead.\n",
    "    \"\"\"\n",
    "    if len(nums) == 1 or 0 not in nums:\n",
    "        pass\n",
    "    else:\n",
    "        #find all 0 indices within the list\n",
    "        zero_indices = [i for i, x in enumerate(nums) if x == 0]\n",
    "        if zero_indices:\n",
    "            k = nums.pop(zero_indices[0])\n",
    "            nums.append(k)\n",
    "            count = 1\n",
    "            for each in zero_indices[1:]:\n",
    "                k = nums.pop(each-count)\n",
    "                count += 1\n",
    "                nums.append(k)"
   ]
  },
  {
   "cell_type": "code",
   "execution_count": 366,
   "metadata": {},
   "outputs": [
    {
     "data": {
      "text/plain": [
       "[1, 2, 3, 4, 5, 0, 0]"
      ]
     },
     "execution_count": 366,
     "metadata": {},
     "output_type": "execute_result"
    }
   ],
   "source": [
    "nums = [2,5,0,1,3,0,4]\n",
    "moveZeroes(nums)\n",
    "nums"
   ]
  },
  {
   "cell_type": "markdown",
   "metadata": {},
   "source": [
    "### Given an array of integers nums and an integer target, return indices of the two numbers such that they add up to target.\n",
    "\n",
    "You may assume that each input would have exactly one solution, and you may not use the same element twice.\n",
    "\n",
    "You can return the answer in any order. \n",
    "\n",
    "-----------------------------------------------------------------------------------------\n",
    "\n",
    "Input: nums = [2,7,11,15], target = 9\n",
    "\n",
    "Output: [0,1]\n",
    "\n",
    "Output: Because nums[0] + nums[1] == 9, we return [0, 1].\n"
   ]
  },
  {
   "cell_type": "code",
   "execution_count": 526,
   "metadata": {},
   "outputs": [],
   "source": [
    "def twoSum(nums,target):\n",
    "    lookup = {}\n",
    "    for i,val in enumerate(nums):\n",
    "        if target - val in lookup:\n",
    "            return lookup[target-val],i\n",
    "        lookup[val] = i"
   ]
  },
  {
   "cell_type": "code",
   "execution_count": 527,
   "metadata": {},
   "outputs": [
    {
     "name": "stdout",
     "output_type": "stream",
     "text": [
      "(2, 4)\n"
     ]
    }
   ],
   "source": [
    "nums = [3,2,95,4,-3]\n",
    "target = 92\n",
    "\n",
    "j = twoSum(nums,target)\n",
    "print(j)"
   ]
  },
  {
   "cell_type": "markdown",
   "metadata": {},
   "source": [
    "### Write a function that reverses a string. The input string is given as an array of characters char[].\n",
    "\n",
    "Do not allocate extra space for another array, you must do this by modifying the input array in-place with O(1) extra memory.\n",
    "\n",
    "You may assume all the characters consist of printable ascii characters."
   ]
  },
  {
   "cell_type": "code",
   "execution_count": 4,
   "metadata": {},
   "outputs": [],
   "source": [
    "s =[\"h\",\"e\",\"l\",\"0\"]"
   ]
  },
  {
   "cell_type": "code",
   "execution_count": 6,
   "metadata": {},
   "outputs": [],
   "source": [
    "left_pointer = 0\n",
    "right_pointer = len(s) - 1\n",
    "\n",
    "while left_pointer < right_pointer:\n",
    "    temp_left = s[left_pointer]\n",
    "    temp_right = s[right_pointer]\n",
    "\n",
    "    s[left_pointer] = temp_right\n",
    "    s[right_pointer] = temp_left\n",
    "\n",
    "    left_pointer += 1\n",
    "    right_pointer -= 1"
   ]
  },
  {
   "cell_type": "code",
   "execution_count": 9,
   "metadata": {},
   "outputs": [
    {
     "data": {
      "text/plain": [
       "['0', 'l', 'e', 'h']"
      ]
     },
     "execution_count": 9,
     "metadata": {},
     "output_type": "execute_result"
    }
   ],
   "source": [
    "s"
   ]
  },
  {
   "cell_type": "markdown",
   "metadata": {},
   "source": [
    "### Given two strings s and t , write a function to determine if t is an anagram of s.\n",
    "\n",
    "-------------------------------------------------------------------------------------\n",
    "Input: s = \"anagram\", t = \"nagaram\"\n",
    "\n",
    "Output: true\n",
    "\n",
    "-------------------------------------------------------------------------------------\n",
    "\n",
    "Input: s = \"rat\", t = \"car\"\n",
    "Output: false"
   ]
  },
  {
   "cell_type": "code",
   "execution_count": 558,
   "metadata": {},
   "outputs": [
    {
     "name": "stdout",
     "output_type": "stream",
     "text": [
      "False\n"
     ]
    }
   ],
   "source": [
    "s= \"aa\"\n",
    "t=\"a\"\n",
    "\n",
    "d ={}\n",
    "e ={}\n",
    "\n",
    "for i,val in enumerate(s):\n",
    "    d[val] = s.count(val)\n",
    "for j,val2 in enumerate(t):\n",
    "    e[val2] = t.count(val2)\n",
    "\n",
    "\n",
    "if d == e:\n",
    "    print(True)\n",
    "else:\n",
    "    print(False)"
   ]
  },
  {
   "cell_type": "markdown",
   "metadata": {},
   "source": [
    "### Given a string, determine if it is a palindrome, considering only alphanumeric characters and ignoring cases. "
   ]
  },
  {
   "cell_type": "code",
   "execution_count": 570,
   "metadata": {},
   "outputs": [],
   "source": [
    "s =  \"1A man, a plan, a canal: Panama1\""
   ]
  },
  {
   "cell_type": "code",
   "execution_count": 573,
   "metadata": {},
   "outputs": [],
   "source": [
    "new_s = ''.join(x.lower() for x in s if x.isalnum())"
   ]
  },
  {
   "cell_type": "code",
   "execution_count": 575,
   "metadata": {},
   "outputs": [
    {
     "name": "stdout",
     "output_type": "stream",
     "text": [
      "True\n"
     ]
    }
   ],
   "source": [
    "if new_s == new_s[::-1]:\n",
    "    print(True)\n",
    "else:\n",
    "    print(False)"
   ]
  },
  {
   "cell_type": "markdown",
   "metadata": {},
   "source": [
    "### Given a string with question marks, replace question marks with valid alphabet and check whether the string is palindrome or not"
   ]
  },
  {
   "cell_type": "code",
   "execution_count": null,
   "metadata": {},
   "outputs": [],
   "source": [
    "s = \"r?d?v??er\"\n",
    "list_s = list(s)\n",
    "print(list_s)"
   ]
  },
  {
   "cell_type": "code",
   "execution_count": null,
   "metadata": {},
   "outputs": [],
   "source": [
    "question_position = [idx for idx, item in enumerate(list_s) if '?' in item]\n",
    "question_position"
   ]
  },
  {
   "cell_type": "code",
   "execution_count": null,
   "metadata": {},
   "outputs": [],
   "source": [
    "for i in question_position:\n",
    "    list_s[i] = list_s[len(list_s)-(i+1)] if list_s[len(list_s)-(i+1)] != \"?\" else \"k\" \n",
    "\n",
    "print(list_s)\n",
    "final_str = \"\".join(list_s)\n",
    "if final_str == final_str[::-1]:\n",
    "    print(\"palindrome\")\n",
    "else:\n",
    "    print(\"not palindrome\")"
   ]
  }
 ],
 "metadata": {
  "kernelspec": {
   "display_name": "Python 3",
   "language": "python",
   "name": "python3"
  },
  "language_info": {
   "codemirror_mode": {
    "name": "ipython",
    "version": 2
   },
   "file_extension": ".py",
   "mimetype": "text/x-python",
   "name": "python",
   "nbconvert_exporter": "python",
   "pygments_lexer": "ipython2",
   "version": "2.7.17"
  }
 },
 "nbformat": 4,
 "nbformat_minor": 2
}
