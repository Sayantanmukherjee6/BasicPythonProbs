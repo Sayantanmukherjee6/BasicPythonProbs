{
 "cells": [
  {
   "cell_type": "code",
   "execution_count": 13,
   "metadata": {
    "collapsed": false
   },
   "outputs": [],
   "source": [
    "class Clothing(object):\n",
    "    \"\"\"\n",
    "    docstring : clothing class defines the a piece of clothing in terms of its name\n",
    "    and its cleanliness\n",
    "    \"\"\"\n",
    "    def __init__(self,name,clean=True,times_worn=0,max_wears=1): #clean by default is True..we can override it later \n",
    "        self.name=name\n",
    "        self.clean=clean\n",
    "        self.times_worn=times_worn\n",
    "        self.max_wears=max_wears\n",
    "    \n",
    "    def getName(self):\n",
    "        return self.name\n",
    "    \n",
    "    def isClean(self):\n",
    "        return self.clean\n",
    "    \n",
    "    def wear(self):\n",
    "        self.times_worn+=1 # adding 1 since everytime we wear cloth times_worn will be increased by 1\n",
    "        if self.times_worn>=self.max_wears: \n",
    "            self.clean=False\n",
    "            \n",
    "    def wash(self):\n",
    "        self.clean=True\n",
    "        self.times_worn=0\n",
    "            \n",
    "    def __str__(self):\n",
    "        \"\"\"\n",
    "        This dunder method is used to print/return when object is called. \n",
    "        \"\"\"\n",
    "        return \"Clothing[name= \"+self.name+ \\\n",
    "                        \",clean = \"+str(self.clean)+ \\\n",
    "                        \",times_worn= \"+str(self.times_worn)+ \\\n",
    "                        \",max_wears= \"+str(self.max_wears)+ \\\n",
    "                        \"]\"\n"
   ]
  },
  {
   "cell_type": "code",
   "execution_count": 17,
   "metadata": {
    "collapsed": false
   },
   "outputs": [
    {
     "name": "stdout",
     "output_type": "stream",
     "text": [
      "Clothing[name= blue jeans,clean = False,times_worn= 0,max_wears= 1]\n",
      "Clothing[name= blue jeans,clean = False,times_worn= 2,max_wears= 1]\n",
      "Clothing[name= blue jeans,clean = True,times_worn= 0,max_wears= 1]\n"
     ]
    }
   ],
   "source": [
    "myJeans=Clothing(\"blue jeans\",False)\n",
    "print myJeans\n",
    "myJeans.wear()\n",
    "myJeans.wear()\n",
    "print myJeans\n",
    "myJeans.wash()\n",
    "print myJeans"
   ]
  },
  {
   "cell_type": "code",
   "execution_count": 102,
   "metadata": {
    "collapsed": false
   },
   "outputs": [],
   "source": [
    "class Shirt(Clothing):\n",
    "    \"\"\"\n",
    "    Shirt class is inherited from clothing class\n",
    "    \"\"\"\n",
    "    def __init__(self,name,clean=True,times_worn=0,max_wears=1,shortsleeves=True):\n",
    "        super(Shirt,self).__init__(name,clean,times_worn,max_wears) #initialising variables in base class Clothing\n",
    "        self.shortsleeves=shortsleeves\n",
    "    \n",
    "    def hasShortSleeves(self):\n",
    "        return self.shortsleeves\n",
    "    \n",
    "    def __str__(self):\n",
    "        return \"Shirt[ \"+super(Shirt,self).__str__()+ \\\n",
    "                        \",shortsleeves= \"+ str(self.shortsleeves)+\"]\""
   ]
  },
  {
   "cell_type": "code",
   "execution_count": 111,
   "metadata": {
    "collapsed": false
   },
   "outputs": [
    {
     "name": "stdout",
     "output_type": "stream",
     "text": [
      "Shirt[ Clothing[name= Fullshirt,clean = True,times_worn= 1,max_wears= 1],shortsleeves= True]\n",
      "Shirt[ Clothing[name= Fullshirt,clean = False,times_worn= 2,max_wears= 1],shortsleeves= True]\n",
      "Shirt[ Clothing[name= Fullshirt,clean = True,times_worn= 0,max_wears= 1],shortsleeves= True]\n"
     ]
    }
   ],
   "source": [
    "myShirt=Shirt(\"Fullshirt\",True,1,1,True)\n",
    "print myShirt\n",
    "myShirt.wear()\n",
    "print myShirt\n",
    "myShirt.wash()\n",
    "print myShirt"
   ]
  },
  {
   "cell_type": "code",
   "execution_count": 118,
   "metadata": {
    "collapsed": false
   },
   "outputs": [
    {
     "data": {
      "text/plain": [
       "900"
      ]
     },
     "execution_count": 118,
     "metadata": {},
     "output_type": "execute_result"
    }
   ],
   "source": [
    "class Customer(object):\n",
    "    \"\"\"A customer of ABC Bank with a checking account. Customers have the\n",
    "    following properties:\n",
    "\n",
    "    Attributes:\n",
    "        name: A string representing the customer's name.\n",
    "        balance: A float tracking the current balance of the customer's account.\n",
    "    \"\"\"\n",
    "\n",
    "    def __init__(self, name):\n",
    "        \"\"\"Return a Customer object whose name is *name*.\"\"\" \n",
    "        self.name = name\n",
    "\n",
    "    def set_balance(self, balance=0.0):\n",
    "        \"\"\"Set the customer's starting balance.\"\"\"\n",
    "        self.balance = balance\n",
    "\n",
    "    def withdraw(self, amount):\n",
    "        \"\"\"Return the balance remaining after withdrawing *amount*\n",
    "        dollars.\"\"\"\n",
    "        if amount > self.balance:\n",
    "            raise RuntimeError('Amount greater than available balance.')\n",
    "        self.balance -= amount\n",
    "        return self.balance\n",
    "\n",
    "    def deposit(self, amount):\n",
    "        \"\"\"Return the balance remaining after depositing *amount*\n",
    "        dollars.\"\"\"\n",
    "        self.balance += amount\n",
    "        return self.balance\n",
    "    \n",
    "jeff=Customer(\"jeff\")\n",
    "jeff.set_balance(1000)\n",
    "jeff.withdraw(100)"
   ]
  },
  {
   "cell_type": "code",
   "execution_count": 3,
   "metadata": {
    "collapsed": false
   },
   "outputs": [
    {
     "name": "stdout",
     "output_type": "stream",
     "text": [
      "2\n",
      "7\n",
      "7\n"
     ]
    },
    {
     "ename": "AttributeError",
     "evalue": "'MyClass' object has no attribute '__hiddenVariable'",
     "output_type": "error",
     "traceback": [
      "\u001b[1;31m---------------------------------------------------------------------------\u001b[0m",
      "\u001b[1;31mAttributeError\u001b[0m                            Traceback (most recent call last)",
      "\u001b[1;32m<ipython-input-3-1efa2591cded>\u001b[0m in \u001b[0;36m<module>\u001b[1;34m()\u001b[0m\n\u001b[0;32m     20\u001b[0m \u001b[1;32mprint\u001b[0m\u001b[1;33m(\u001b[0m\u001b[0mmyObject\u001b[0m\u001b[1;33m.\u001b[0m\u001b[0m_MyClass__hiddenVariable\u001b[0m\u001b[1;33m)\u001b[0m\u001b[1;33m\u001b[0m\u001b[0m\n\u001b[0;32m     21\u001b[0m \u001b[1;31m# This line causes error\u001b[0m\u001b[1;33m\u001b[0m\u001b[1;33m\u001b[0m\u001b[0m\n\u001b[1;32m---> 22\u001b[1;33m \u001b[1;32mprint\u001b[0m \u001b[1;33m(\u001b[0m\u001b[0mmyObject\u001b[0m\u001b[1;33m.\u001b[0m\u001b[0m__hiddenVariable\u001b[0m\u001b[1;33m)\u001b[0m\u001b[1;33m\u001b[0m\u001b[0m\n\u001b[0m",
      "\u001b[1;31mAttributeError\u001b[0m: 'MyClass' object has no attribute '__hiddenVariable'"
     ]
    }
   ],
   "source": [
    "#Data Hiding\n",
    "\n",
    "class MyClass(object):\n",
    " \n",
    "    # Hidden member of MyClass\n",
    "    __hiddenVariable = 0\n",
    "   \n",
    "    # A member method that changes \n",
    "    # __hiddenVariable \n",
    "    def add(self, increment):\n",
    "        self.__hiddenVariable += increment\n",
    "        print (self.__hiddenVariable)\n",
    "\n",
    "# Driver code\n",
    "myObject = MyClass()     \n",
    "myObject.add(2)\n",
    "myObject.add(5)\n",
    " \n",
    "# This line wont cause any error \n",
    "print(myObject._MyClass__hiddenVariable)\n",
    "# This line causes error\n",
    "print (myObject.__hiddenVariable)\n"
   ]
  },
  {
   "cell_type": "code",
   "execution_count": 5,
   "metadata": {
    "collapsed": false
   },
   "outputs": [
    {
     "name": "stdout",
     "output_type": "stream",
     "text": [
      "Test a:1234 b:5678\n"
     ]
    }
   ],
   "source": [
    "# If no __str__ method is defined, print t (or print str(t)) uses __repr__.\n",
    "class Test:\n",
    "    def __init__(self, a, b):\n",
    "        self.a = a\n",
    "        self.b = b\n",
    " \n",
    "    def __repr__(self):\n",
    "        return \"Test a:%s b:%s\" % (self.a, self.b)\n",
    "\n",
    "# Driver Code        \n",
    "t = Test(1234, 5678)\n",
    "print(t) "
   ]
  },
  {
   "cell_type": "code",
   "execution_count": 6,
   "metadata": {
    "collapsed": false
   },
   "outputs": [
    {
     "name": "stdout",
     "output_type": "stream",
     "text": [
      "True\n",
      "False\n"
     ]
    }
   ],
   "source": [
    "# Python example to check if a class is\n",
    "# subclass of another\n",
    " \n",
    "class Base(object):\n",
    "    pass   # Empty Class\n",
    " \n",
    "class Derived(Base):\n",
    "    pass   # Empty Class\n",
    " \n",
    "# Driver Code\n",
    "print(issubclass(Derived, Base))\n",
    "print(issubclass(Base, Derived))"
   ]
  },
  {
   "cell_type": "code",
   "execution_count": 7,
   "metadata": {
    "collapsed": false
   },
   "outputs": [
    {
     "name": "stdout",
     "output_type": "stream",
     "text": [
      "Base1\n",
      "Base2\n",
      "Derived\n",
      "('Geek1', 'Geek2')\n"
     ]
    }
   ],
   "source": [
    "# Python example to show working of multiple \n",
    "# inheritance\n",
    "class Base1(object):\n",
    "    def __init__(self):\n",
    "        self.str1 = \"Geek1\"\n",
    "        print \"Base1\"\n",
    "\n",
    "class Base2(object):\n",
    "    def __init__(self):\n",
    "        self.str2 = \"Geek2\"       \n",
    "        print \"Base2\"\n",
    "\n",
    "class Derived(Base1, Base2):\n",
    "    def __init__(self):\n",
    "         \n",
    "        # Calling constructors of Base1\n",
    "        # and Base2 classes\n",
    "        Base1.__init__(self)\n",
    "        Base2.__init__(self)\n",
    "        print \"Derived\"\n",
    "         \n",
    "    def printStrs(self):\n",
    "        print(self.str1, self.str2)\n",
    "        \n",
    "\n",
    "ob = Derived()\n",
    "ob.printStrs()"
   ]
  },
  {
   "cell_type": "code",
   "execution_count": 9,
   "metadata": {
    "collapsed": false
   },
   "outputs": [
    {
     "name": "stdout",
     "output_type": "stream",
     "text": [
      "(10, 20)\n"
     ]
    }
   ],
   "source": [
    "# Python example to show that base\n",
    "# class members can be accessed in\n",
    "# derived class using super()\n",
    "class Base(object):\n",
    " \n",
    "    # Constructor\n",
    "    def __init__(self, x):\n",
    "        self.x = x    \n",
    "\n",
    "class Derived(Base):\n",
    " \n",
    "    # Constructor\n",
    "    def __init__(self, x, y):\n",
    "         \n",
    "        ''' In Python 3.x, \"super().__init__(name)\"\n",
    "            also works'''\n",
    "        super(Derived, self).__init__(x)\n",
    "        self.y = y\n",
    " \n",
    "    def printXY(self):\n",
    "        print(self.x, self.y)\n",
    " \n",
    " \n",
    "# Driver Code\n",
    "d = Derived(10, 20)\n",
    "d.printXY()"
   ]
  },
  {
   "cell_type": "code",
   "execution_count": 10,
   "metadata": {
    "collapsed": false
   },
   "outputs": [
    {
     "name": "stdout",
     "output_type": "stream",
     "text": [
      "('Geek1', True, 'E101')\n"
     ]
    }
   ],
   "source": [
    "# Base or Super class\n",
    "class Person(object):\n",
    "    def __init__(self, name):\n",
    "        self.name = name\n",
    "         \n",
    "    def getName(self):\n",
    "        return self.name\n",
    "     \n",
    "    def isEmployee(self):\n",
    "        return False\n",
    "\n",
    "# Inherited or Subclass (Note Person in bracket)\n",
    "class Employee(Person):\n",
    "    def __init__(self, name, eid):\n",
    " \n",
    "        ''' In Python 3.0+, \"super().__init__(name)\"\n",
    "            also works'''\n",
    "        super(Employee, self).__init__(name)\n",
    "        self.empID = eid\n",
    "         \n",
    "    def isEmployee(self):\n",
    "        return True\n",
    "         \n",
    "    def getID(self):\n",
    "        return self.empID\n",
    "\n",
    "# Driver code\n",
    "emp = Employee(\"Geek1\", \"E101\") \n",
    "print(emp.getName(), emp.isEmployee(), emp.getID())"
   ]
  },
  {
   "cell_type": "code",
   "execution_count": 21,
   "metadata": {
    "collapsed": false
   },
   "outputs": [
    {
     "name": "stdout",
     "output_type": "stream",
     "text": [
      "go A go!\n",
      "go C go!\n",
      "go B go!\n",
      "go D go!\n",
      "go A go!\n",
      "go C go!\n",
      "go B go!\n",
      "[<class '__main__.D'>, <class '__main__.B'>, <class '__main__.C'>, <class '__main__.A'>, <type 'object'>]\n"
     ]
    }
   ],
   "source": [
    "class A(object):\n",
    "    def go(self):\n",
    "        print(\"go A go!\")\n",
    "    def stop(self):\n",
    "        print(\"stop A stop!\")\n",
    "    def pause(self):\n",
    "        raise Exception(\"Not Implemented\")\n",
    "\n",
    "class B(A):\n",
    "    def go(self):\n",
    "        super(B, self).go()\n",
    "        print(\"go B go!\")\n",
    "\n",
    "class C(A):\n",
    "    def go(self):\n",
    "        super(C, self).go()\n",
    "        print(\"go C go!\")\n",
    "    def stop(self):\n",
    "        super(C, self).stop()\n",
    "        print(\"stop C stop!\")\n",
    "\n",
    "class D(B,C):\n",
    "    def go(self):\n",
    "        super(D, self).go()\n",
    "        print(\"go D go!\")\n",
    "    def stop(self):\n",
    "        super(D, self).stop()\n",
    "        print(\"stop D stop!\")\n",
    "    def pause(self):\n",
    "        print(\"wait D wait!\")\n",
    "\n",
    "class E(B,C): pass\n",
    "\n",
    "# a = A()\n",
    "# b = B()\n",
    "# c = C()\n",
    "d = D()\n",
    "e = E()\n",
    "\n",
    "#outputs\n",
    "\n",
    "# a.go() \n",
    "# b.go() \n",
    "# c.go()\n",
    "d.go()\n",
    "e.go()\n",
    "print(D.mro())"
   ]
  },
  {
   "cell_type": "code",
   "execution_count": 22,
   "metadata": {
    "collapsed": false
   },
   "outputs": [
    {
     "name": "stdout",
     "output_type": "stream",
     "text": [
      "go A go!\n",
      "go A go!\n",
      "go B go!\n",
      "go A go!\n",
      "go C go!\n",
      "go A go!\n",
      "go C go!\n",
      "go B go!\n",
      "go D go!\n",
      "go A go!\n",
      "go C go!\n",
      "go B go!\n",
      "stop A stop!\n",
      "stop A stop!\n",
      "stop A stop!\n",
      "stop C stop!\n",
      "stop A stop!\n",
      "stop C stop!\n",
      "stop D stop!\n",
      "stop A stop!\n",
      "stop C stop!\n"
     ]
    },
    {
     "ename": "Exception",
     "evalue": "Not Implemented",
     "output_type": "error",
     "traceback": [
      "\u001b[1;31m---------------------------------------------------------------------------\u001b[0m",
      "\u001b[1;31mException\u001b[0m                                 Traceback (most recent call last)",
      "\u001b[1;32m<ipython-input-22-8efb1556bede>\u001b[0m in \u001b[0;36m<module>\u001b[1;34m()\u001b[0m\n\u001b[0;32m     52\u001b[0m \u001b[0me\u001b[0m\u001b[1;33m.\u001b[0m\u001b[0mstop\u001b[0m\u001b[1;33m(\u001b[0m\u001b[1;33m)\u001b[0m\u001b[1;33m\u001b[0m\u001b[0m\n\u001b[0;32m     53\u001b[0m \u001b[1;33m\u001b[0m\u001b[0m\n\u001b[1;32m---> 54\u001b[1;33m \u001b[0ma\u001b[0m\u001b[1;33m.\u001b[0m\u001b[0mpause\u001b[0m\u001b[1;33m(\u001b[0m\u001b[1;33m)\u001b[0m\u001b[1;33m\u001b[0m\u001b[0m\n\u001b[0m\u001b[0;32m     55\u001b[0m \u001b[0mb\u001b[0m\u001b[1;33m.\u001b[0m\u001b[0mpause\u001b[0m\u001b[1;33m(\u001b[0m\u001b[1;33m)\u001b[0m\u001b[1;33m\u001b[0m\u001b[0m\n\u001b[0;32m     56\u001b[0m \u001b[0mc\u001b[0m\u001b[1;33m.\u001b[0m\u001b[0mpause\u001b[0m\u001b[1;33m(\u001b[0m\u001b[1;33m)\u001b[0m\u001b[1;33m\u001b[0m\u001b[0m\n",
      "\u001b[1;32m<ipython-input-22-8efb1556bede>\u001b[0m in \u001b[0;36mpause\u001b[1;34m(self)\u001b[0m\n\u001b[0;32m      5\u001b[0m         \u001b[1;32mprint\u001b[0m\u001b[1;33m(\u001b[0m\u001b[1;34m\"stop A stop!\"\u001b[0m\u001b[1;33m)\u001b[0m\u001b[1;33m\u001b[0m\u001b[0m\n\u001b[0;32m      6\u001b[0m     \u001b[1;32mdef\u001b[0m \u001b[0mpause\u001b[0m\u001b[1;33m(\u001b[0m\u001b[0mself\u001b[0m\u001b[1;33m)\u001b[0m\u001b[1;33m:\u001b[0m\u001b[1;33m\u001b[0m\u001b[0m\n\u001b[1;32m----> 7\u001b[1;33m         \u001b[1;32mraise\u001b[0m \u001b[0mException\u001b[0m\u001b[1;33m(\u001b[0m\u001b[1;34m\"Not Implemented\"\u001b[0m\u001b[1;33m)\u001b[0m\u001b[1;33m\u001b[0m\u001b[0m\n\u001b[0m\u001b[0;32m      8\u001b[0m \u001b[1;33m\u001b[0m\u001b[0m\n\u001b[0;32m      9\u001b[0m \u001b[1;32mclass\u001b[0m \u001b[0mB\u001b[0m\u001b[1;33m(\u001b[0m\u001b[0mA\u001b[0m\u001b[1;33m)\u001b[0m\u001b[1;33m:\u001b[0m\u001b[1;33m\u001b[0m\u001b[0m\n",
      "\u001b[1;31mException\u001b[0m: Not Implemented"
     ]
    }
   ],
   "source": [
    "class A(object):\n",
    "    def go(self):\n",
    "        print(\"go A go!\")\n",
    "    def stop(self):\n",
    "        print(\"stop A stop!\")\n",
    "    def pause(self):\n",
    "        raise Exception(\"Not Implemented\")\n",
    "\n",
    "class B(A):\n",
    "    def go(self):\n",
    "        super(B, self).go()\n",
    "        print(\"go B go!\")\n",
    "\n",
    "class C(A):\n",
    "    def go(self):\n",
    "        super(C, self).go()\n",
    "        print(\"go C go!\")\n",
    "    def stop(self):\n",
    "        super(C, self).stop()\n",
    "        print(\"stop C stop!\")\n",
    "\n",
    "class D(B,C):\n",
    "    def go(self):\n",
    "        super(D, self).go()\n",
    "        print(\"go D go!\")\n",
    "    def stop(self):\n",
    "        super(D, self).stop()\n",
    "        print(\"stop D stop!\")\n",
    "    def pause(self):\n",
    "        print(\"wait D wait!\")\n",
    "\n",
    "class E(B,C): pass\n",
    "\n",
    "a = A()\n",
    "b = B()\n",
    "c = C()\n",
    "d = D()\n",
    "e = E()\n",
    "\n",
    "#outputs\n",
    "\n",
    "a.go() #go a go\n",
    "b.go() #go a go,go b go\n",
    "c.go() #a,c go\n",
    "d.go() #a,c,b,d\n",
    "e.go() #b,c\n",
    "\n",
    "a.stop()\n",
    "b.stop()\n",
    "c.stop()\n",
    "d.stop()\n",
    "e.stop()\n",
    "\n",
    "a.pause()\n",
    "b.pause()\n",
    "c.pause()\n",
    "d.pause()\n",
    "e.pause()"
   ]
  },
  {
   "cell_type": "code",
   "execution_count": 119,
   "metadata": {
    "collapsed": false
   },
   "outputs": [
    {
     "name": "stdout",
     "output_type": "stream",
     "text": [
      "1 1 1\n",
      "1 2 1\n",
      "3 2 3\n"
     ]
    }
   ],
   "source": [
    "class Parent(object):\n",
    "    x = 1\n",
    "\n",
    "class Child1(Parent):\n",
    "    pass\n",
    "\n",
    "class Child2(Parent):\n",
    "    pass\n",
    "\n",
    "print Parent.x, Child1.x, Child2.x\n",
    "Child1.x = 2\n",
    "print Parent.x, Child1.x, Child2.x\n",
    "Parent.x = 3\n",
    "print Parent.x, Child1.x, Child2.x"
   ]
  },
  {
   "cell_type": "code",
   "execution_count": 132,
   "metadata": {
    "collapsed": false
   },
   "outputs": [
    {
     "name": "stdout",
     "output_type": "stream",
     "text": [
      "This is a static method\n",
      "This is a class method that belongs to <class '__main__.Item'> and the paper is  True\n",
      "This is a static method\n",
      "This is a class method that belongs to <class '__main__.Item'> and the paper is  True\n",
      "hello 0\n"
     ]
    },
    {
     "ename": "TypeError",
     "evalue": "unbound method normal_method() must be called with Item instance as first argument (got nothing instead)",
     "output_type": "error",
     "traceback": [
      "\u001b[1;31m---------------------------------------------------------------------------\u001b[0m",
      "\u001b[1;31mTypeError\u001b[0m                                 Traceback (most recent call last)",
      "\u001b[1;32m<ipython-input-132-eccc25ee3cef>\u001b[0m in \u001b[0;36m<module>\u001b[1;34m()\u001b[0m\n\u001b[0;32m     33\u001b[0m \u001b[0mItem\u001b[0m\u001b[1;33m.\u001b[0m\u001b[0mclass_method\u001b[0m\u001b[1;33m(\u001b[0m\u001b[1;33m)\u001b[0m\u001b[1;33m\u001b[0m\u001b[0m\n\u001b[0;32m     34\u001b[0m \u001b[0mi\u001b[0m\u001b[1;33m.\u001b[0m\u001b[0mnormal_method\u001b[0m\u001b[1;33m(\u001b[0m\u001b[1;33m)\u001b[0m\u001b[1;33m\u001b[0m\u001b[0m\n\u001b[1;32m---> 35\u001b[1;33m \u001b[0mItem\u001b[0m\u001b[1;33m.\u001b[0m\u001b[0mnormal_method\u001b[0m\u001b[1;33m(\u001b[0m\u001b[1;33m)\u001b[0m \u001b[1;31m## unlike static and class method normal methods cannot access class\u001b[0m\u001b[1;33m\u001b[0m\u001b[0m\n\u001b[0m",
      "\u001b[1;31mTypeError\u001b[0m: unbound method normal_method() must be called with Item instance as first argument (got nothing instead)"
     ]
    }
   ],
   "source": [
    "#static,class and normal methods\n",
    "class Item(object):\n",
    "    rock=False\n",
    "    paper=True\n",
    "    Scissor=False\n",
    "    \n",
    "    def __init__(self,number):\n",
    "        self.number=number\n",
    "    @staticmethod\n",
    "    def static_method():\n",
    "        \"\"\"\n",
    "        static methods neither take self or cls. They act like normal functions\n",
    "        \"\"\"\n",
    "        print \"This is a static method\"\n",
    "    \n",
    "    @classmethod\n",
    "    def class_method(cls):\n",
    "        \"\"\"\n",
    "        class methods are used to change or edit the behavior of class\n",
    "        \"\"\"\n",
    "        print \"This is a class method that belongs to %s and the paper is \" %cls, cls.paper\n",
    "    \n",
    "    def normal_method(self):\n",
    "        \"\"\"\n",
    "        This is a normal method. They cant be called using class name unlike static and class method\n",
    "        \"\"\"\n",
    "        print \"hello \"+str(self.number)\n",
    "        \n",
    "i=Item(0)\n",
    "i.static_method()\n",
    "i.class_method()\n",
    "Item.static_method()\n",
    "Item.class_method()\n",
    "i.normal_method()\n",
    "Item.normal_method() ## unlike static and class method normal methods cannot access class"
   ]
  },
  {
   "cell_type": "code",
   "execution_count": 146,
   "metadata": {
    "collapsed": false
   },
   "outputs": [
    {
     "name": "stdout",
     "output_type": "stream",
     "text": [
      "using Class\n",
      "1.05\n",
      "1.05\n",
      "1.05\n",
      "Using Instance\n",
      "1.06\n",
      "1.06\n",
      "1.06\n"
     ]
    }
   ],
   "source": [
    "class Employee(object):\n",
    "    num_of_emps=0\n",
    "    raise_amt=1.04\n",
    "    \n",
    "    def __init__(self,first,last,pay):\n",
    "        self.first=first\n",
    "        self.last=last\n",
    "        self.email=self.first+'.'+self.last+'@email.com'\n",
    "        self.pay=pay\n",
    "        \n",
    "        Employee.num_of_emps+=1 #after adding a new object increase it\n",
    "    \n",
    "    def full_name(self):\n",
    "        return self.first+' '+self.last\n",
    "    \n",
    "    def apply_raise(self):\n",
    "        self.pay=int(self.pay+self.raise_amt)\n",
    "        \n",
    "    @classmethod\n",
    "    def set_raise_amt(cls,amount):\n",
    "        cls.raise_amt=amount\n",
    "        \n",
    "emp1=Employee('Corey','Schaffer',50000)  \n",
    "emp2=Employee('Linda','Dahl',7000)\n",
    "\n",
    "\n",
    "Employee.set_raise_amt(1.05) #same as Employee.raise_amt=1.05\n",
    "\n",
    "print \"using Class\"\n",
    "print Employee.raise_amt\n",
    "print emp1.raise_amt\n",
    "print emp2.raise_amt\n",
    "\n",
    "# We can change it using instance also as:\n",
    "emp1.set_raise_amt(1.06)\n",
    "\n",
    "print \"Using Instance\"\n",
    "print Employee.raise_amt\n",
    "print emp1.raise_amt\n",
    "print emp2.raise_amt\n"
   ]
  },
  {
   "cell_type": "code",
   "execution_count": 148,
   "metadata": {
    "collapsed": false
   },
   "outputs": [
    {
     "data": {
      "text/plain": [
       "'John Doe'"
      ]
     },
     "execution_count": 148,
     "metadata": {},
     "output_type": "execute_result"
    }
   ],
   "source": [
    "#Using class method as constructor ( creating new employee object from strings)\n",
    "\n",
    "class Employee(object):\n",
    "    num_of_emps=0\n",
    "    raise_amt=1.04\n",
    "    \n",
    "    def __init__(self,first,last,pay):\n",
    "        self.first=first\n",
    "        self.last=last\n",
    "        self.email=self.first+'.'+self.last+'@email.com'\n",
    "        self.pay=pay\n",
    "        \n",
    "        Employee.num_of_emps+=1 #after adding a new object increase it\n",
    "    \n",
    "    def full_name(self):\n",
    "        return self.first+' '+self.last\n",
    "    \n",
    "    def apply_raise(self):\n",
    "        self.pay=int(self.pay+self.raise_amt)\n",
    "        \n",
    "    @classmethod\n",
    "    def set_raise_amt(cls,amount):\n",
    "        cls.raise_amt=amount\n",
    "    \n",
    "    @classmethod\n",
    "    def from_string(cls,emp_str):\n",
    "        first,last,pay=emp_str.split('-')\n",
    "        return cls(first,last,pay)\n",
    "        \n",
    "emp1=Employee('Corey','Schaffer',50000)  \n",
    "emp2=Employee('Linda','Dahl',7000)\n",
    "\n",
    "#Strings\n",
    "emp_str_1='John-Doe-50000'\n",
    "emp_str_2='Steven-Smith-10000'\n",
    "\n",
    "#creating new emp object using above strings and from_string classmethod\n",
    "\n",
    "new_emp_1=Employee.from_string(emp_str_1)\n",
    "\n",
    "new_emp_1.full_name()"
   ]
  },
  {
   "cell_type": "code",
   "execution_count": 122,
   "metadata": {
    "collapsed": false
   },
   "outputs": [
    {
     "name": "stdout",
     "output_type": "stream",
     "text": [
      "['Ohayo', 'Konichiwa']\n"
     ]
    }
   ],
   "source": [
    "#Decorators\n",
    "class Dec_class(object):\n",
    "    def __init__(self,func):\n",
    "        self.func=func\n",
    "    def __call__(self,*args):\n",
    "        return self.func(list(args))\n",
    "\n",
    "@Dec_class\n",
    "def display(msg):\n",
    "    print msg\n",
    "\n",
    "display(\"Ohayo\",\"Konichiwa\")"
   ]
  },
  {
   "cell_type": "code",
   "execution_count": null,
   "metadata": {
    "collapsed": true
   },
   "outputs": [],
   "source": []
  }
 ],
 "metadata": {
  "kernelspec": {
   "display_name": "Python 2",
   "language": "python",
   "name": "python2"
  },
  "language_info": {
   "codemirror_mode": {
    "name": "ipython",
    "version": 2
   },
   "file_extension": ".py",
   "mimetype": "text/x-python",
   "name": "python",
   "nbconvert_exporter": "python",
   "pygments_lexer": "ipython2",
   "version": "2.7.12"
  }
 },
 "nbformat": 4,
 "nbformat_minor": 0
}
